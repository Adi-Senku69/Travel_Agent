{
 "cells": [
  {
   "cell_type": "code",
   "id": "initial_id",
   "metadata": {
    "collapsed": true,
    "ExecuteTime": {
     "end_time": "2025-03-24T16:45:28.058619Z",
     "start_time": "2025-03-24T16:45:27.131537Z"
    }
   },
   "source": [
    "from langchain_core.prompts import ChatPromptTemplate\n",
    "from langchain_openai import ChatOpenAI\n",
    "from langgraph.constants import START, END\n",
    "from langgraph.graph import StateGraph, MessagesState\n",
    "from pydantic import BaseModel, Field\n",
    "from operator import add\n",
    "from typing import TypedDict\n",
    "from langgraph.checkpoint.memory import MemorySaver\n",
    "from IPython.display import Markdown, Image, display\n",
    "from dotenv import dotenv_values\n",
    "from pypdf import PdfReader\n",
    "import pandas as pd\n",
    "import os"
   ],
   "outputs": [],
   "execution_count": 1
  },
  {
   "metadata": {
    "ExecuteTime": {
     "end_time": "2025-03-24T16:45:28.065380Z",
     "start_time": "2025-03-24T16:45:28.062041Z"
    }
   },
   "cell_type": "code",
   "source": [
    "env_values = {**dotenv_values(\".env.shared\"), **dotenv_values(\".env.secret\")}\n",
    "\n",
    "os.environ[\"LANGSMITH_TRACING\"] = env_values[\"LANGSMITH_TRACING\"]\n",
    "os.environ[\"LANGSMITH_ENDPOINT\"] = env_values[\"LANGSMITH_ENDPOINT\"]\n",
    "os.environ[\"LANGSMITH_API_KEY\"] = env_values[\"LANGSMITH_API_KEY\"]\n",
    "os.environ[\"LANGSMITH_PROJECT\"] = env_values[\"LANGSMITH_PROJECT\"]\n",
    "os.environ[\"OPENAI_API_KEY\"] = env_values[\"OPENAI_API_KEY\"]"
   ],
   "id": "43d734ca9d720dd1",
   "outputs": [],
   "execution_count": 2
  },
  {
   "metadata": {},
   "cell_type": "markdown",
   "source": "## Summarization graph",
   "id": "cb691589cb8e0a24"
  },
  {
   "metadata": {
    "ExecuteTime": {
     "end_time": "2025-03-24T16:44:53.883375Z",
     "start_time": "2025-03-24T16:44:53.879665Z"
    }
   },
   "cell_type": "code",
   "source": "PATH_TO_FILES = \"./Data\"",
   "id": "82d0e75cedd4dcaf",
   "outputs": [],
   "execution_count": 59
  },
  {
   "metadata": {
    "ExecuteTime": {
     "end_time": "2025-03-24T16:44:54.276403Z",
     "start_time": "2025-03-24T16:44:54.271910Z"
    }
   },
   "cell_type": "code",
   "source": [
    "def read_csv_xlsx(path: str) -> str:\n",
    "    if path.endswith(\".xlsx\"):\n",
    "        df = pd.read_excel(path)\n",
    "        return df.to_string(index=False)\n",
    "    else:\n",
    "        df = pd.read_csv(path)\n",
    "        return df.to_string(index=False)\n",
    "\n",
    "def read_pdf(path: str) -> str:\n",
    "    with open(path, \"rb\") as f:\n",
    "        reader = PdfReader(f)\n",
    "        text = \"\"\n",
    "        for page in reader.pages:\n",
    "            text += page.extractText()\n",
    "\n",
    "    return text\n",
    "\n",
    "def read_docs():\n",
    "    dirs = os.listdir(PATH_TO_FILES)\n",
    "    text = \"\"\n",
    "    for dir in dirs:\n",
    "        files = os.listdir(os.path.join(PATH_TO_FILES, dir))\n",
    "        for file in files:\n",
    "            if not file.endswith(\".pdf\"):\n",
    "                text += read_csv_xlsx(os.path.join(os.path.join(PATH_TO_FILES, dir), file))\n",
    "            else:\n",
    "                text += read_pdf(os.path.join(os.path.join(PATH_TO_FILES, dir), file))\n",
    "\n",
    "    return text"
   ],
   "id": "9c54800c2da6a9c6",
   "outputs": [],
   "execution_count": 60
  },
  {
   "metadata": {
    "ExecuteTime": {
     "end_time": "2025-03-24T16:42:23.263119Z",
     "start_time": "2025-03-24T16:42:23.175669Z"
    }
   },
   "cell_type": "code",
   "source": "test = read_docs()",
   "id": "4039bf0f978e2fd",
   "outputs": [
    {
     "ename": "EmptyDataError",
     "evalue": "No columns to parse from file",
     "output_type": "error",
     "traceback": [
      "\u001B[31m---------------------------------------------------------------------------\u001B[39m",
      "\u001B[31mEmptyDataError\u001B[39m                            Traceback (most recent call last)",
      "\u001B[36mCell\u001B[39m\u001B[36m \u001B[39m\u001B[32mIn[46]\u001B[39m\u001B[32m, line 1\u001B[39m\n\u001B[32m----> \u001B[39m\u001B[32m1\u001B[39m test = \u001B[43mread_docs\u001B[49m\u001B[43m(\u001B[49m\u001B[43m)\u001B[49m\n",
      "\u001B[36mCell\u001B[39m\u001B[36m \u001B[39m\u001B[32mIn[45]\u001B[39m\u001B[32m, line 25\u001B[39m, in \u001B[36mread_docs\u001B[39m\u001B[34m()\u001B[39m\n\u001B[32m     23\u001B[39m \u001B[38;5;28;01mfor\u001B[39;00m file \u001B[38;5;129;01min\u001B[39;00m files:\n\u001B[32m     24\u001B[39m     \u001B[38;5;28;01mif\u001B[39;00m \u001B[38;5;129;01mnot\u001B[39;00m file.endswith(\u001B[33m\"\u001B[39m\u001B[33m.pdf\u001B[39m\u001B[33m\"\u001B[39m):\n\u001B[32m---> \u001B[39m\u001B[32m25\u001B[39m         text += \u001B[43mread_csv_xlsx\u001B[49m\u001B[43m(\u001B[49m\u001B[43mos\u001B[49m\u001B[43m.\u001B[49m\u001B[43mpath\u001B[49m\u001B[43m.\u001B[49m\u001B[43mjoin\u001B[49m\u001B[43m(\u001B[49m\u001B[43mos\u001B[49m\u001B[43m.\u001B[49m\u001B[43mpath\u001B[49m\u001B[43m.\u001B[49m\u001B[43mjoin\u001B[49m\u001B[43m(\u001B[49m\u001B[43mPATH_TO_FILES\u001B[49m\u001B[43m,\u001B[49m\u001B[43m \u001B[49m\u001B[38;5;28;43mdir\u001B[39;49m\u001B[43m)\u001B[49m\u001B[43m,\u001B[49m\u001B[43m \u001B[49m\u001B[43mfile\u001B[49m\u001B[43m)\u001B[49m\u001B[43m)\u001B[49m\n\u001B[32m     26\u001B[39m     \u001B[38;5;28;01melse\u001B[39;00m:\n\u001B[32m     27\u001B[39m         text += read_pdf(os.path.join(os.path.join(PATH_TO_FILES, \u001B[38;5;28mdir\u001B[39m), file))\n",
      "\u001B[36mCell\u001B[39m\u001B[36m \u001B[39m\u001B[32mIn[45]\u001B[39m\u001B[32m, line 6\u001B[39m, in \u001B[36mread_csv_xlsx\u001B[39m\u001B[34m(path)\u001B[39m\n\u001B[32m      4\u001B[39m     \u001B[38;5;28;01mreturn\u001B[39;00m df.to_string(index=\u001B[38;5;28;01mFalse\u001B[39;00m)\n\u001B[32m      5\u001B[39m \u001B[38;5;28;01melse\u001B[39;00m:\n\u001B[32m----> \u001B[39m\u001B[32m6\u001B[39m     df = \u001B[43mpd\u001B[49m\u001B[43m.\u001B[49m\u001B[43mread_csv\u001B[49m\u001B[43m(\u001B[49m\u001B[43mpath\u001B[49m\u001B[43m)\u001B[49m\n\u001B[32m      7\u001B[39m     \u001B[38;5;28;01mreturn\u001B[39;00m df.to_string(index=\u001B[38;5;28;01mFalse\u001B[39;00m)\n",
      "\u001B[36mFile \u001B[39m\u001B[32m~/PycharmProjects/TravelAgent/.venv/lib/python3.12/site-packages/pandas/io/parsers/readers.py:1026\u001B[39m, in \u001B[36mread_csv\u001B[39m\u001B[34m(filepath_or_buffer, sep, delimiter, header, names, index_col, usecols, dtype, engine, converters, true_values, false_values, skipinitialspace, skiprows, skipfooter, nrows, na_values, keep_default_na, na_filter, verbose, skip_blank_lines, parse_dates, infer_datetime_format, keep_date_col, date_parser, date_format, dayfirst, cache_dates, iterator, chunksize, compression, thousands, decimal, lineterminator, quotechar, quoting, doublequote, escapechar, comment, encoding, encoding_errors, dialect, on_bad_lines, delim_whitespace, low_memory, memory_map, float_precision, storage_options, dtype_backend)\u001B[39m\n\u001B[32m   1013\u001B[39m kwds_defaults = _refine_defaults_read(\n\u001B[32m   1014\u001B[39m     dialect,\n\u001B[32m   1015\u001B[39m     delimiter,\n\u001B[32m   (...)\u001B[39m\u001B[32m   1022\u001B[39m     dtype_backend=dtype_backend,\n\u001B[32m   1023\u001B[39m )\n\u001B[32m   1024\u001B[39m kwds.update(kwds_defaults)\n\u001B[32m-> \u001B[39m\u001B[32m1026\u001B[39m \u001B[38;5;28;01mreturn\u001B[39;00m \u001B[43m_read\u001B[49m\u001B[43m(\u001B[49m\u001B[43mfilepath_or_buffer\u001B[49m\u001B[43m,\u001B[49m\u001B[43m \u001B[49m\u001B[43mkwds\u001B[49m\u001B[43m)\u001B[49m\n",
      "\u001B[36mFile \u001B[39m\u001B[32m~/PycharmProjects/TravelAgent/.venv/lib/python3.12/site-packages/pandas/io/parsers/readers.py:620\u001B[39m, in \u001B[36m_read\u001B[39m\u001B[34m(filepath_or_buffer, kwds)\u001B[39m\n\u001B[32m    617\u001B[39m _validate_names(kwds.get(\u001B[33m\"\u001B[39m\u001B[33mnames\u001B[39m\u001B[33m\"\u001B[39m, \u001B[38;5;28;01mNone\u001B[39;00m))\n\u001B[32m    619\u001B[39m \u001B[38;5;66;03m# Create the parser.\u001B[39;00m\n\u001B[32m--> \u001B[39m\u001B[32m620\u001B[39m parser = \u001B[43mTextFileReader\u001B[49m\u001B[43m(\u001B[49m\u001B[43mfilepath_or_buffer\u001B[49m\u001B[43m,\u001B[49m\u001B[43m \u001B[49m\u001B[43m*\u001B[49m\u001B[43m*\u001B[49m\u001B[43mkwds\u001B[49m\u001B[43m)\u001B[49m\n\u001B[32m    622\u001B[39m \u001B[38;5;28;01mif\u001B[39;00m chunksize \u001B[38;5;129;01mor\u001B[39;00m iterator:\n\u001B[32m    623\u001B[39m     \u001B[38;5;28;01mreturn\u001B[39;00m parser\n",
      "\u001B[36mFile \u001B[39m\u001B[32m~/PycharmProjects/TravelAgent/.venv/lib/python3.12/site-packages/pandas/io/parsers/readers.py:1620\u001B[39m, in \u001B[36mTextFileReader.__init__\u001B[39m\u001B[34m(self, f, engine, **kwds)\u001B[39m\n\u001B[32m   1617\u001B[39m     \u001B[38;5;28mself\u001B[39m.options[\u001B[33m\"\u001B[39m\u001B[33mhas_index_names\u001B[39m\u001B[33m\"\u001B[39m] = kwds[\u001B[33m\"\u001B[39m\u001B[33mhas_index_names\u001B[39m\u001B[33m\"\u001B[39m]\n\u001B[32m   1619\u001B[39m \u001B[38;5;28mself\u001B[39m.handles: IOHandles | \u001B[38;5;28;01mNone\u001B[39;00m = \u001B[38;5;28;01mNone\u001B[39;00m\n\u001B[32m-> \u001B[39m\u001B[32m1620\u001B[39m \u001B[38;5;28mself\u001B[39m._engine = \u001B[38;5;28;43mself\u001B[39;49m\u001B[43m.\u001B[49m\u001B[43m_make_engine\u001B[49m\u001B[43m(\u001B[49m\u001B[43mf\u001B[49m\u001B[43m,\u001B[49m\u001B[43m \u001B[49m\u001B[38;5;28;43mself\u001B[39;49m\u001B[43m.\u001B[49m\u001B[43mengine\u001B[49m\u001B[43m)\u001B[49m\n",
      "\u001B[36mFile \u001B[39m\u001B[32m~/PycharmProjects/TravelAgent/.venv/lib/python3.12/site-packages/pandas/io/parsers/readers.py:1898\u001B[39m, in \u001B[36mTextFileReader._make_engine\u001B[39m\u001B[34m(self, f, engine)\u001B[39m\n\u001B[32m   1895\u001B[39m     \u001B[38;5;28;01mraise\u001B[39;00m \u001B[38;5;167;01mValueError\u001B[39;00m(msg)\n\u001B[32m   1897\u001B[39m \u001B[38;5;28;01mtry\u001B[39;00m:\n\u001B[32m-> \u001B[39m\u001B[32m1898\u001B[39m     \u001B[38;5;28;01mreturn\u001B[39;00m \u001B[43mmapping\u001B[49m\u001B[43m[\u001B[49m\u001B[43mengine\u001B[49m\u001B[43m]\u001B[49m\u001B[43m(\u001B[49m\u001B[43mf\u001B[49m\u001B[43m,\u001B[49m\u001B[43m \u001B[49m\u001B[43m*\u001B[49m\u001B[43m*\u001B[49m\u001B[38;5;28;43mself\u001B[39;49m\u001B[43m.\u001B[49m\u001B[43moptions\u001B[49m\u001B[43m)\u001B[49m\n\u001B[32m   1899\u001B[39m \u001B[38;5;28;01mexcept\u001B[39;00m \u001B[38;5;167;01mException\u001B[39;00m:\n\u001B[32m   1900\u001B[39m     \u001B[38;5;28;01mif\u001B[39;00m \u001B[38;5;28mself\u001B[39m.handles \u001B[38;5;129;01mis\u001B[39;00m \u001B[38;5;129;01mnot\u001B[39;00m \u001B[38;5;28;01mNone\u001B[39;00m:\n",
      "\u001B[36mFile \u001B[39m\u001B[32m~/PycharmProjects/TravelAgent/.venv/lib/python3.12/site-packages/pandas/io/parsers/c_parser_wrapper.py:93\u001B[39m, in \u001B[36mCParserWrapper.__init__\u001B[39m\u001B[34m(self, src, **kwds)\u001B[39m\n\u001B[32m     90\u001B[39m \u001B[38;5;28;01mif\u001B[39;00m kwds[\u001B[33m\"\u001B[39m\u001B[33mdtype_backend\u001B[39m\u001B[33m\"\u001B[39m] == \u001B[33m\"\u001B[39m\u001B[33mpyarrow\u001B[39m\u001B[33m\"\u001B[39m:\n\u001B[32m     91\u001B[39m     \u001B[38;5;66;03m# Fail here loudly instead of in cython after reading\u001B[39;00m\n\u001B[32m     92\u001B[39m     import_optional_dependency(\u001B[33m\"\u001B[39m\u001B[33mpyarrow\u001B[39m\u001B[33m\"\u001B[39m)\n\u001B[32m---> \u001B[39m\u001B[32m93\u001B[39m \u001B[38;5;28mself\u001B[39m._reader = \u001B[43mparsers\u001B[49m\u001B[43m.\u001B[49m\u001B[43mTextReader\u001B[49m\u001B[43m(\u001B[49m\u001B[43msrc\u001B[49m\u001B[43m,\u001B[49m\u001B[43m \u001B[49m\u001B[43m*\u001B[49m\u001B[43m*\u001B[49m\u001B[43mkwds\u001B[49m\u001B[43m)\u001B[49m\n\u001B[32m     95\u001B[39m \u001B[38;5;28mself\u001B[39m.unnamed_cols = \u001B[38;5;28mself\u001B[39m._reader.unnamed_cols\n\u001B[32m     97\u001B[39m \u001B[38;5;66;03m# error: Cannot determine type of 'names'\u001B[39;00m\n",
      "\u001B[36mFile \u001B[39m\u001B[32mparsers.pyx:581\u001B[39m, in \u001B[36mpandas._libs.parsers.TextReader.__cinit__\u001B[39m\u001B[34m()\u001B[39m\n",
      "\u001B[31mEmptyDataError\u001B[39m: No columns to parse from file"
     ]
    }
   ],
   "execution_count": 46
  },
  {
   "metadata": {
    "ExecuteTime": {
     "end_time": "2025-03-24T16:24:39.851876Z",
     "start_time": "2025-03-24T16:24:39.786666Z"
    }
   },
   "cell_type": "code",
   "source": "llm = ChatOpenAI(model=\"gpt-4o\", temperature=0.4, top_p=0.38)",
   "id": "d41a66ac5ecc2671",
   "outputs": [],
   "execution_count": 6
  },
  {
   "metadata": {
    "ExecuteTime": {
     "end_time": "2025-03-24T16:24:39.859585Z",
     "start_time": "2025-03-24T16:24:39.857669Z"
    }
   },
   "cell_type": "code",
   "source": [
    "summarization_prompt = ChatPromptTemplate.from_messages([\n",
    "    (\"system\", \"You are a travel assistant. Help in summarizing the employee profiles, the organizational rules and the travel requirements. Ignore any IDs\"),\n",
    "    (\"human\", \"Summarize this {input}\")\n",
    "])"
   ],
   "id": "fcb173a8cd4e5345",
   "outputs": [],
   "execution_count": 7
  },
  {
   "metadata": {
    "ExecuteTime": {
     "end_time": "2025-03-24T16:24:39.906645Z",
     "start_time": "2025-03-24T16:24:39.902460Z"
    }
   },
   "cell_type": "code",
   "source": "runnable_summarization = summarization_prompt | llm",
   "id": "801fc6c199ffa0e0",
   "outputs": [],
   "execution_count": 8
  },
  {
   "metadata": {
    "ExecuteTime": {
     "end_time": "2025-03-24T16:24:46.268905Z",
     "start_time": "2025-03-24T16:24:39.952078Z"
    }
   },
   "cell_type": "code",
   "source": "output = runnable_summarization.invoke({'input': test}).content",
   "id": "234416916c34aa7c",
   "outputs": [],
   "execution_count": 9
  },
  {
   "metadata": {
    "ExecuteTime": {
     "end_time": "2025-03-24T16:24:46.280676Z",
     "start_time": "2025-03-24T16:24:46.274650Z"
    }
   },
   "cell_type": "code",
   "source": "Markdown(output)",
   "id": "61a02b9eb402d5fb",
   "outputs": [
    {
     "data": {
      "text/plain": [
       "<IPython.core.display.Markdown object>"
      ],
      "text/markdown": "**Employee Profiles:**\n\n1. **Alice Doe** - Senior Engineer\n   - Travel History: USA, Germany, France (3x)\n   - Preferred Airlines: Lufthansa, Delta\n   - Preferred Hotels: Marriott, Hilton\n   - Meal Preference: Vegetarian\n   - Seat Preference: Window\n   - Visa Requirement: Schengen, USA\n\n2. **Bob Smith** - Project Manager\n   - Travel History: India, UK (2x)\n   - Preferred Airlines: British Airways\n   - Preferred Hotels: IHG, Hyatt\n   - Meal Preference: Vegan\n   - Seat Preference: Aisle\n   - Visa Requirement: UK, India\n\n3. **Carol Lee** - Data Scientist\n   - Travel History: Singapore, Japan (1x)\n   - Preferred Airlines: Singapore Airlines\n   - Preferred Hotels: Marriott\n   - Meal Preference: Non-Veg\n   - Seat Preference: Aisle\n   - Visa Requirement: Japan, Singapore\n\n4. **David Wong** - Cybersecurity Lead\n   - Travel History: Canada, USA, Germany (4x)\n   - Preferred Airlines: Air Canada, Delta\n   - Preferred Hotels: Hilton\n   - Meal Preference: Kosher\n   - Seat Preference: Window\n   - Visa Requirement: Schengen, USA, Canada\n\n5. **Eva Patel** - Software Engineer\n   - Travel History: Remote (0 trips)\n   - Preferred Airlines: Emirates\n   - Preferred Hotels: Hyatt\n   - Meal Preference: Halal\n   - Seat Preference: Window\n   - Visa Requirement: Schengen\n\n**Travel Requests:**\n\n1. **Alice Doe** - Berlin for a Conference from 2024-07-15 to 2024-07-20, Budget: $2500, Status: Approved\n2. **Bob Smith** - London for a Client Meeting from 2024-08-01 to 2024-08-05, Budget: $3000, Status: Pending\n3. **Carol Lee** - Tokyo for Research from 2024-09-10 to 2024-09-20, Budget: $4500, Status: Approved\n4. **David Wong** - Toronto for Internal Audit from 2024-10-05 to 2024-10-15, Budget: $3500, Status: Rejected\n5. **Eva Patel** - Dubai for a Business Expo from 2024-11-01 to 2024-11-10, Budget: $2000, Status: Approved\n\n**Organizational Rules:**\n\n1. Max budget per trip per employee is $3,000, region dependent.\n2. Business class flights are only for Director level & above.\n3. Approval from direct manager is required for travel abroad.\n4. Preferred airline partners are Lufthansa, Emirates, and Delta.\n5. Hotels must be 4-star or higher for company bookings.\n6. Travel insurance is mandatory for international trips.\n7. Employees cannot book flights exceeding the budget limit.\n8. Visa approval must be completed before flight booking."
     },
     "execution_count": 10,
     "metadata": {},
     "output_type": "execute_result"
    }
   ],
   "execution_count": 10
  },
  {
   "metadata": {},
   "cell_type": "markdown",
   "source": "### Creation of the summary graph",
   "id": "d59b4d30b203e6c3"
  },
  {
   "metadata": {
    "ExecuteTime": {
     "end_time": "2025-03-24T16:46:04.832991Z",
     "start_time": "2025-03-24T16:46:04.780204Z"
    }
   },
   "cell_type": "code",
   "source": "llm = ChatOpenAI(model=\"gpt-4o\", temperature=0.4, top_p=0.38)",
   "id": "7fd865bfa2410a43",
   "outputs": [],
   "execution_count": 11
  },
  {
   "metadata": {},
   "cell_type": "markdown",
   "source": "#### States",
   "id": "b882531b8216746f"
  },
  {
   "metadata": {
    "ExecuteTime": {
     "end_time": "2025-03-24T16:46:05.345402Z",
     "start_time": "2025-03-24T16:46:05.342629Z"
    }
   },
   "cell_type": "code",
   "source": [
    "class SummaryGraphInput(TypedDict):\n",
    "    summary: str\n",
    "    text: str\n",
    "\n",
    "class SummaryGraphOutput(TypedDict):\n",
    "    summary: str\n"
   ],
   "id": "d44a2364af8bd7c5",
   "outputs": [],
   "execution_count": 12
  },
  {
   "metadata": {},
   "cell_type": "markdown",
   "source": "#### Utils",
   "id": "5cc5d9bd26ee739f"
  },
  {
   "metadata": {
    "ExecuteTime": {
     "end_time": "2025-03-24T16:46:05.696573Z",
     "start_time": "2025-03-24T16:46:05.692374Z"
    }
   },
   "cell_type": "code",
   "source": [
    "def read_csv_xlsx(path: str) -> str:\n",
    "    if path.endswith(\".xlsx\"):\n",
    "        df = pd.read_excel(path)\n",
    "        return df.to_string(index=False)\n",
    "    else:\n",
    "        df = pd.read_csv(path)\n",
    "        return df.to_string(index=False)\n",
    "\n",
    "def read_pdf(path: str) -> str:\n",
    "    with open(path, \"rb\") as f:\n",
    "        reader = PdfReader(f)\n",
    "        text = \"\"\n",
    "        for page in reader.pages:\n",
    "            text += page.extractText()\n",
    "\n",
    "    return text"
   ],
   "id": "d8495aa8c4513225",
   "outputs": [],
   "execution_count": 13
  },
  {
   "metadata": {},
   "cell_type": "markdown",
   "source": "#### Prompts",
   "id": "75cb630bbd474469"
  },
  {
   "metadata": {
    "ExecuteTime": {
     "end_time": "2025-03-24T16:46:06.218078Z",
     "start_time": "2025-03-24T16:46:06.215248Z"
    }
   },
   "cell_type": "code",
   "source": [
    "summarization_prompt = ChatPromptTemplate.from_messages([\n",
    "    (\"system\", \"You are a travel assistant. Help in summarizing the employee profiles, the organizational rules and the travel requirements. Ignore any IDs. Do not provide the output in any font or styles. Provide the summary in a neat structured format.\"),\n",
    "    (\"human\", \"Summarize this {input}\")\n",
    "])"
   ],
   "id": "fe7d2806e4351d33",
   "outputs": [],
   "execution_count": 14
  },
  {
   "metadata": {},
   "cell_type": "markdown",
   "source": "#### Nodes",
   "id": "85a777a1b7b472f4"
  },
  {
   "metadata": {
    "ExecuteTime": {
     "end_time": "2025-03-24T16:46:06.863281Z",
     "start_time": "2025-03-24T16:46:06.859857Z"
    }
   },
   "cell_type": "code",
   "source": [
    "def read_docs(state: SummaryGraphInput):\n",
    "    PATH_TO_FILES = \"./Data\"\n",
    "    dirs = os.listdir(PATH_TO_FILES)\n",
    "    text = \"\"\n",
    "    for dir in dirs:\n",
    "        files = os.listdir(os.path.join(PATH_TO_FILES, dir))\n",
    "        for file in files:\n",
    "            if not file.endswith(\".pdf\"):\n",
    "                text += read_csv_xlsx(os.path.join(os.path.join(PATH_TO_FILES, dir), file))\n",
    "            else:\n",
    "                text += read_pdf(os.path.join(os.path.join(PATH_TO_FILES, dir), file))\n",
    "\n",
    "    return {'text': text}"
   ],
   "id": "ddf10bb9d373e169",
   "outputs": [],
   "execution_count": 15
  },
  {
   "metadata": {
    "ExecuteTime": {
     "end_time": "2025-03-24T16:46:07.217963Z",
     "start_time": "2025-03-24T16:46:07.215239Z"
    }
   },
   "cell_type": "code",
   "source": [
    "def summarize(state: SummaryGraphInput):\n",
    "    text = state['text']\n",
    "    runnable_summarization = summarization_prompt | llm\n",
    "    output = runnable_summarization.invoke({'input': text}).content\n",
    "    with open(\"./summary/summary.txt\", \"w\") as f:\n",
    "        f.write(output)\n",
    "    return {'summary': output}"
   ],
   "id": "faee61aeb0102054",
   "outputs": [],
   "execution_count": 16
  },
  {
   "metadata": {
    "ExecuteTime": {
     "end_time": "2025-03-24T16:46:07.482892Z",
     "start_time": "2025-03-24T16:46:07.476688Z"
    }
   },
   "cell_type": "code",
   "source": [
    "graph_summarizer_builder = StateGraph(SummaryGraphInput, output=SummaryGraphOutput)\n",
    "\n",
    "graph_summarizer_builder.add_node(\"read documents\", read_docs)\n",
    "graph_summarizer_builder.add_node(\"summarize documents\", summarize)\n",
    "\n",
    "graph_summarizer_builder.add_edge(START, \"read documents\")\n",
    "graph_summarizer_builder.add_edge(\"read documents\", \"summarize documents\")\n",
    "graph_summarizer_builder.add_edge(\"summarize documents\", END)\n",
    "\n",
    "memory = MemorySaver()\n",
    "graph_summarizer = graph_summarizer_builder.compile()"
   ],
   "id": "ea9d156798380857",
   "outputs": [],
   "execution_count": 17
  },
  {
   "metadata": {
    "ExecuteTime": {
     "end_time": "2025-03-24T16:45:41.159504Z",
     "start_time": "2025-03-24T16:45:40.499464Z"
    }
   },
   "cell_type": "code",
   "source": "display(Image(graph_summarizer.get_graph().draw_mermaid_png()))",
   "id": "37bb1e301c3cffc7",
   "outputs": [
    {
     "data": {
      "image/png": "[encoded data removed]",
      "text/plain": [
       "<IPython.core.display.Image object>"
      ]
     },
     "metadata": {},
     "output_type": "display_data"
    }
   ],
   "execution_count": 9
  },
  {
   "metadata": {
    "ExecuteTime": {
     "end_time": "2025-03-24T16:46:18.036456Z",
     "start_time": "2025-03-24T16:46:09.800306Z"
    }
   },
   "cell_type": "code",
   "source": "Markdown(graph_summarizer.invoke({}, config={'configurable': {'thread_id': \"summarizer_3\"}})['summary'])",
   "id": "42e00bc8432593c8",
   "outputs": [
    {
     "data": {
      "text/plain": [
       "<IPython.core.display.Markdown object>"
      ],
      "text/markdown": "**Employee Profiles:**\n\n1. **Alice Doe**\n   - Role: Senior Engineer\n   - Travel History: USA, Germany, France (3x)\n   - Preferred Airlines: Lufthansa, Delta\n   - Preferred Hotels: Marriott, Hilton\n   - Meal Preference: Vegetarian\n   - Seat Preference: Window\n   - Visa Requirement: Schengen, USA\n\n2. **Bob Smith**\n   - Role: Project Manager\n   - Travel History: India, UK (2x)\n   - Preferred Airlines: British Airways\n   - Preferred Hotels: IHG, Hyatt\n   - Meal Preference: Vegan\n   - Seat Preference: Aisle\n   - Visa Requirement: UK, India\n\n3. **Carol Lee**\n   - Role: Data Scientist\n   - Travel History: Singapore, Japan (1x)\n   - Preferred Airlines: Singapore Airlines\n   - Preferred Hotels: Marriott\n   - Meal Preference: Non-Veg\n   - Seat Preference: Aisle\n   - Visa Requirement: Japan, Singapore\n\n4. **David Wong**\n   - Role: Cybersecurity Lead\n   - Travel History: Canada, USA, Germany (4x)\n   - Preferred Airlines: Air Canada, Delta\n   - Preferred Hotels: Hilton\n   - Meal Preference: Kosher\n   - Seat Preference: Window\n   - Visa Requirement: Schengen, USA, Canada\n\n5. **Eva Patel**\n   - Role: Software Engineer\n   - Travel History: Remote (0 trips)\n   - Preferred Airlines: Emirates\n   - Preferred Hotels: Hyatt\n   - Meal Preference: Halal\n   - Seat Preference: Window\n   - Visa Requirement: Schengen\n\n**Travel Requests:**\n\n1. **TR001**\n   - Employee: Alice Doe\n   - Destination: Berlin\n   - Purpose: Conference\n   - Dates: 2024-07-15 to 2024-07-20\n   - Budget Limit: $2500\n   - Approval Status: Approved\n\n2. **TR002**\n   - Employee: Bob Smith\n   - Destination: London\n   - Purpose: Client Meeting\n   - Dates: 2024-08-01 to 2024-08-05\n   - Budget Limit: $3000\n   - Approval Status: Pending\n\n3. **TR003**\n   - Employee: Carol Lee\n   - Destination: Tokyo\n   - Purpose: Research\n   - Dates: 2024-09-10 to 2024-09-20\n   - Budget Limit: $4500\n   - Approval Status: Approved\n\n4. **TR004**\n   - Employee: David Wong\n   - Destination: Toronto\n   - Purpose: Internal Audit\n   - Dates: 2024-10-05 to 2024-10-15\n   - Budget Limit: $3500\n   - Approval Status: Rejected\n\n5. **TR005**\n   - Employee: Eva Patel\n   - Destination: Dubai\n   - Purpose: Business Expo\n   - Dates: 2024-11-01 to 2024-11-10\n   - Budget Limit: $2000\n   - Approval Status: Approved\n\n**Organizational Rules:**\n\n1. Max budget per trip per employee: $3,000 (Region dependent)\n2. Business class flights only for Director level & above\n3. Approval from direct manager required for travel abroad\n4. Preferred airline partners: Lufthansa, Emirates, Delta\n5. Hotels must be 4-star or higher for company bookings\n6. Travel insurance mandatory for international trips\n7. Employees cannot book flights exceeding the budget limit\n8. Visa approval must be completed before flight booking"
     },
     "execution_count": 18,
     "metadata": {},
     "output_type": "execute_result"
    }
   ],
   "execution_count": 18
  },
  {
   "metadata": {},
   "cell_type": "markdown",
   "source": "## Travel Agent AI",
   "id": "4e91c14787a4b85"
  },
  {
   "metadata": {},
   "cell_type": "markdown",
   "source": "### Creation of the graph",
   "id": "5509ef0365c18541"
  },
  {
   "metadata": {},
   "cell_type": "markdown",
   "source": "#### States",
   "id": "13695a6e96cda1eb"
  },
  {
   "metadata": {
    "ExecuteTime": {
     "end_time": "2025-03-24T16:46:23.335398Z",
     "start_time": "2025-03-24T16:46:23.333155Z"
    }
   },
   "cell_type": "code",
   "source": [
    "class TravelAgent(MessagesState):\n",
    "    summary: str\n",
    "    output: str\n",
    "    prompt: str"
   ],
   "id": "420507ca698ebff3",
   "outputs": [],
   "execution_count": 19
  },
  {
   "metadata": {},
   "cell_type": "markdown",
   "source": "#### Prompts",
   "id": "235d25c1305331fb"
  },
  {
   "metadata": {
    "ExecuteTime": {
     "end_time": "2025-03-24T16:46:23.737453Z",
     "start_time": "2025-03-24T16:46:23.733992Z"
    }
   },
   "cell_type": "code",
   "source": [
    "travel_agent_prompt = ChatPromptTemplate.from_messages([\n",
    "    (\"system\", \"\"\"You are a travel assistant. Understand the summary {summary} and help provide responses.\n",
    "    Help provide the itenary, suggest good hotels, the type of transport, the weather, the flight details, and help mark the calender also. You are essentially a travel concierge. Only respond to travel related questions.\n",
    "    \"\"\"),\n",
    "    (\"placeholder\", \"{history}\"),\n",
    "    (\"human\", \"{prompt}\")\n",
    "])"
   ],
   "id": "21d76a4ccf27ac55",
   "outputs": [],
   "execution_count": 20
  },
  {
   "metadata": {},
   "cell_type": "markdown",
   "source": "#### Create Nodes",
   "id": "b77b17c41813c4b9"
  },
  {
   "metadata": {
    "ExecuteTime": {
     "end_time": "2025-03-24T16:47:00.947868Z",
     "start_time": "2025-03-24T16:47:00.945174Z"
    }
   },
   "cell_type": "code",
   "source": [
    "def read_summary(state: TravelAgent):\n",
    "    with open(\"./summary/summary.txt\", \"r\") as f:\n",
    "        summary = f.read()\n",
    "\n",
    "    state['summary'] = summary\n",
    "    return state"
   ],
   "id": "c567fd5f8a0ce9d2",
   "outputs": [],
   "execution_count": 26
  },
  {
   "metadata": {
    "ExecuteTime": {
     "end_time": "2025-03-24T16:47:01.330061Z",
     "start_time": "2025-03-24T16:47:01.327679Z"
    }
   },
   "cell_type": "code",
   "source": [
    "def chatbot(state: TravelAgent):\n",
    "    prompt = state['prompt']\n",
    "    summary = state['summary']\n",
    "    runnable_chatbot = travel_agent_prompt | llm\n",
    "    output = runnable_chatbot.invoke({'prompt': prompt, 'history': state['messages'], 'summary': summary}).content\n",
    "    state['output'] = output\n",
    "    return state"
   ],
   "id": "a27aa5fbaf0d2b5b",
   "outputs": [],
   "execution_count": 27
  },
  {
   "metadata": {
    "ExecuteTime": {
     "end_time": "2025-03-24T16:47:02.282048Z",
     "start_time": "2025-03-24T16:47:02.276693Z"
    }
   },
   "cell_type": "code",
   "source": [
    "graph_chatbot_builder = StateGraph(TravelAgent)\n",
    "\n",
    "graph_chatbot_builder.add_node(\"get summary\", read_summary)\n",
    "graph_chatbot_builder.add_node(\"chatbot\", chatbot)\n",
    "\n",
    "graph_chatbot_builder.add_edge(START, \"get summary\")\n",
    "graph_chatbot_builder.add_edge(\"get summary\", \"chatbot\")\n",
    "graph_chatbot_builder.add_edge(\"chatbot\", END)\n",
    "\n",
    "memory = MemorySaver()\n",
    "graph_chatbot = graph_chatbot_builder.compile(checkpointer=memory)"
   ],
   "id": "444c06ec0616cbaa",
   "outputs": [],
   "execution_count": 28
  },
  {
   "metadata": {
    "ExecuteTime": {
     "end_time": "2025-03-24T16:40:29.556948Z",
     "start_time": "2025-03-24T16:40:28.121426Z"
    }
   },
   "cell_type": "code",
   "source": "display(Image(graph_chatbot.get_graph().draw_mermaid_png()))",
   "id": "3ca232ba48150f6e",
   "outputs": [
    {
     "data": {
      "image/png": "[encoded data removed]",
      "text/plain": [
       "<IPython.core.display.Image object>"
      ]
     },
     "metadata": {},
     "output_type": "display_data"
    }
   ],
   "execution_count": 34
  },
  {
   "metadata": {
    "ExecuteTime": {
     "end_time": "2025-03-24T16:47:03.952278Z",
     "start_time": "2025-03-24T16:47:03.949514Z"
    }
   },
   "cell_type": "code",
   "source": "config = {'configurable': {'thread_id': \"batman_chatbot\"}}",
   "id": "91ec0850da7f68a9",
   "outputs": [],
   "execution_count": 29
  },
  {
   "metadata": {
    "ExecuteTime": {
     "end_time": "2025-03-24T16:49:08.935498Z",
     "start_time": "2025-03-24T16:48:54.725631Z"
    }
   },
   "cell_type": "code",
   "source": [
    "user_input = input()\n",
    "test = graph_chatbot.invoke({\"prompt\": user_input, \"messages\": [(\"human\", user_input)]}, config=config)"
   ],
   "id": "ac12e888a16f3322",
   "outputs": [],
   "execution_count": 35
  },
  {
   "metadata": {
    "ExecuteTime": {
     "end_time": "2025-03-24T16:49:08.947043Z",
     "start_time": "2025-03-24T16:49:08.943304Z"
    }
   },
   "cell_type": "code",
   "source": "test['output']",
   "id": "b312c83f5e1a3977",
   "outputs": [
    {
     "data": {
      "text/plain": [
       "\"As of the information available up to October 2023, I don't have access to real-time visa status updates. However, for your trip to Berlin, you will need a Schengen visa. Since your travel request (TR001) is already approved, it's likely that the visa process is underway or completed. I recommend checking with your HR or travel department to confirm your visa status.\""
      ]
     },
     "execution_count": 36,
     "metadata": {},
     "output_type": "execute_result"
    }
   ],
   "execution_count": 36
  }
 ],
 "metadata": {
  "kernelspec": {
   "display_name": "Python 3",
   "language": "python",
   "name": "python3"
  },
  "language_info": {
   "codemirror_mode": {
    "name": "ipython",
    "version": 2
   },
   "file_extension": ".py",
   "mimetype": "text/x-python",
   "name": "python",
   "nbconvert_exporter": "python",
   "pygments_lexer": "ipython2",
   "version": "2.7.6"
  }
 },
 "nbformat": 4,
 "nbformat_minor": 5
}
