{
 "cells": [
  {
   "cell_type": "code",
   "id": "initial_id",
   "metadata": {
    "collapsed": true,
    "ExecuteTime": {
     "end_time": "2025-03-24T15:55:39.530313Z",
     "start_time": "2025-03-24T15:55:39.523681Z"
    }
   },
   "source": [
    "from langchain_core.prompts import ChatPromptTemplate\n",
    "from langchain_openai import ChatOpenAI\n",
    "from langgraph.constants import START, END\n",
    "from langgraph.graph import StateGraph, MessagesState\n",
    "from pydantic import BaseModel, Field\n",
    "from operator import add\n",
    "from typing import TypedDict\n",
    "from langgraph.checkpoint.memory import MemorySaver\n",
    "from IPython.display import Markdown, Image, display\n",
    "from dotenv import dotenv_values\n",
    "from pypdf import PdfReader\n",
    "import pandas as pd\n",
    "import os"
   ],
   "outputs": [],
   "execution_count": 40
  },
  {
   "metadata": {
    "ExecuteTime": {
     "end_time": "2025-03-24T15:16:56.436273Z",
     "start_time": "2025-03-24T15:16:56.433136Z"
    }
   },
   "cell_type": "code",
   "source": [
    "env_values = {**dotenv_values(\".env.shared\"), **dotenv_values(\".env.secret\")}\n",
    "\n",
    "os.environ[\"LANGSMITH_TRACING\"] = env_values[\"LANGSMITH_TRACING\"]\n",
    "os.environ[\"LANGSMITH_ENDPOINT\"] = env_values[\"LANGSMITH_ENDPOINT\"]\n",
    "os.environ[\"LANGSMITH_API_KEY\"] = env_values[\"LANGSMITH_API_KEY\"]\n",
    "os.environ[\"LANGSMITH_PROJECT\"] = env_values[\"LANGSMITH_PROJECT\"]\n",
    "os.environ[\"OPENAI_API_KEY\"] = env_values[\"OPENAI_API_KEY\"]"
   ],
   "id": "43d734ca9d720dd1",
   "outputs": [],
   "execution_count": 9
  },
  {
   "metadata": {},
   "cell_type": "markdown",
   "source": "## Summarization graph",
   "id": "cb691589cb8e0a24"
  },
  {
   "metadata": {
    "ExecuteTime": {
     "end_time": "2025-03-24T15:18:09.698634Z",
     "start_time": "2025-03-24T15:18:09.696186Z"
    }
   },
   "cell_type": "code",
   "source": "PATH_TO_FILES = \"./Data\"",
   "id": "82d0e75cedd4dcaf",
   "outputs": [],
   "execution_count": 10
  },
  {
   "metadata": {
    "ExecuteTime": {
     "end_time": "2025-03-24T15:25:01.646266Z",
     "start_time": "2025-03-24T15:25:01.640274Z"
    }
   },
   "cell_type": "code",
   "source": [
    "def read_csv_xlsx(path: str) -> str:\n",
    "    if path.endswith(\".xlsx\"):\n",
    "        df = pd.read_excel(path)\n",
    "        return df.to_string(index=False)\n",
    "    else:\n",
    "        df = pd.read_csv(path)\n",
    "        return df.to_string(index=False)\n",
    "\n",
    "def read_pdf(path: str) -> str:\n",
    "    with open(path, \"rb\") as f:\n",
    "        reader = PdfReader(f)\n",
    "        text = \"\"\n",
    "        for page in reader.pages:\n",
    "            text += page.extractText()\n",
    "\n",
    "    return text\n",
    "\n",
    "def read_docs():\n",
    "    dirs = os.listdir(PATH_TO_FILES)\n",
    "    text = \"\"\n",
    "    for dir in dirs:\n",
    "        files = os.listdir(os.path.join(PATH_TO_FILES, dir))\n",
    "        for file in files:\n",
    "            if not file.endswith(\".pdf\"):\n",
    "                text += read_csv_xlsx(os.path.join(os.path.join(PATH_TO_FILES, dir), file))\n",
    "            else:\n",
    "                text += read_pdf(os.path.join(os.path.join(PATH_TO_FILES, dir), file))\n",
    "\n",
    "    return text"
   ],
   "id": "9c54800c2da6a9c6",
   "outputs": [],
   "execution_count": 18
  },
  {
   "metadata": {
    "ExecuteTime": {
     "end_time": "2025-03-24T15:25:16.075716Z",
     "start_time": "2025-03-24T15:25:16.064753Z"
    }
   },
   "cell_type": "code",
   "source": "test = read_docs()",
   "id": "4039bf0f978e2fd",
   "outputs": [],
   "execution_count": 20
  },
  {
   "metadata": {
    "ExecuteTime": {
     "end_time": "2025-03-24T15:24:18.605633Z",
     "start_time": "2025-03-24T15:24:18.531576Z"
    }
   },
   "cell_type": "code",
   "outputs": [],
   "execution_count": 13,
   "source": "llm = ChatOpenAI(model=\"gpt-4o\", temperature=0.4, top_p=0.38)",
   "id": "d41a66ac5ecc2671"
  },
  {
   "metadata": {
    "ExecuteTime": {
     "end_time": "2025-03-24T15:29:12.521452Z",
     "start_time": "2025-03-24T15:29:12.516923Z"
    }
   },
   "cell_type": "code",
   "source": [
    "summarization_prompt = ChatPromptTemplate.from_messages([\n",
    "    (\"system\", \"You are a travel assistant. Help in summarizing the employee profiles, the organizational rules and the travel requirements. Ignore any IDs\"),\n",
    "    (\"human\", \"Summarize this {input}\")\n",
    "])"
   ],
   "id": "fcb173a8cd4e5345",
   "outputs": [],
   "execution_count": 26
  },
  {
   "metadata": {
    "ExecuteTime": {
     "end_time": "2025-03-24T15:29:42.185592Z",
     "start_time": "2025-03-24T15:29:42.182890Z"
    }
   },
   "cell_type": "code",
   "source": "runnable_summarization = summarization_prompt | llm",
   "id": "801fc6c199ffa0e0",
   "outputs": [],
   "execution_count": 27
  },
  {
   "metadata": {
    "ExecuteTime": {
     "end_time": "2025-03-24T15:30:25.455553Z",
     "start_time": "2025-03-24T15:30:14.279204Z"
    }
   },
   "cell_type": "code",
   "source": "output = runnable_summarization.invoke({'input': test}).content",
   "id": "234416916c34aa7c",
   "outputs": [],
   "execution_count": 30
  },
  {
   "metadata": {
    "ExecuteTime": {
     "end_time": "2025-03-24T15:30:25.471446Z",
     "start_time": "2025-03-24T15:30:25.464789Z"
    }
   },
   "cell_type": "code",
   "source": "Markdown(output)",
   "id": "61a02b9eb402d5fb",
   "outputs": [
    {
     "data": {
      "text/plain": [
       "<IPython.core.display.Markdown object>"
      ],
      "text/markdown": "### Employee Profiles Summary:\n\n1. **Alice Doe**: \n   - Role: Senior Engineer\n   - Travel History: USA, Germany, France (3 times)\n   - Preferred Airlines: Lufthansa, Delta\n   - Preferred Hotels: Marriott, Hilton\n   - Meal Preference: Vegetarian\n   - Seat Preference: Window\n   - Visa Requirement: Schengen, USA\n\n2. **Bob Smith**: \n   - Role: Project Manager\n   - Travel History: India, UK (2 times)\n   - Preferred Airlines: British Airways\n   - Preferred Hotels: IHG, Hyatt\n   - Meal Preference: Vegan\n   - Seat Preference: Aisle\n   - Visa Requirement: UK, India\n\n3. **Carol Lee**: \n   - Role: Data Scientist\n   - Travel History: Singapore, Japan (1 time)\n   - Preferred Airlines: Singapore Airlines\n   - Preferred Hotels: Marriott\n   - Meal Preference: Non-Veg\n   - Seat Preference: Aisle\n   - Visa Requirement: Japan, Singapore\n\n4. **David Wong**: \n   - Role: Cybersecurity Lead\n   - Travel History: Canada, USA, Germany (4 times)\n   - Preferred Airlines: Air Canada, Delta\n   - Preferred Hotels: Hilton\n   - Meal Preference: Kosher\n   - Seat Preference: Window\n   - Visa Requirement: Schengen, USA, Canada\n\n5. **Eva Patel**: \n   - Role: Software Engineer\n   - Travel History: Remote (0 trips)\n   - Preferred Airlines: Emirates\n   - Preferred Hotels: Hyatt\n   - Meal Preference: Halal\n   - Seat Preference: Window\n   - Visa Requirement: Schengen\n\n### Organizational Rules Summary:\n\n1. **Budget and Travel Class**:\n   - Max budget per trip per employee is $3,000, region dependent.\n   - Business class flights are only for Director level and above.\n\n2. **Approval and Booking**:\n   - Approval from direct manager is required for travel abroad.\n   - Employees cannot book flights exceeding the budget limit.\n   - Visa approval must be completed before flight booking.\n\n3. **Preferred Partners and Accommodations**:\n   - Preferred airline partners are Lufthansa, Emirates, and Delta.\n   - Hotels must be 4-star or higher for company bookings.\n\n4. **Insurance**:\n   - Travel insurance is mandatory for international trips.\n\n### Travel Requests Summary:\n\n1. **Alice Doe**: \n   - Destination: Berlin\n   - Purpose: Conference\n   - Dates: July 15-20, 2024\n   - Budget Limit: $2,500\n   - Status: Approved\n\n2. **Bob Smith**: \n   - Destination: London\n   - Purpose: Client Meeting\n   - Dates: August 1-5, 2024\n   - Budget Limit: $3,000\n   - Status: Pending\n\n3. **Carol Lee**: \n   - Destination: Tokyo\n   - Purpose: Research\n   - Dates: September 10-20, 2024\n   - Budget Limit: $4,500\n   - Status: Approved\n\n4. **David Wong**: \n   - Destination: Toronto\n   - Purpose: Internal Audit\n   - Dates: October 5-15, 2024\n   - Budget Limit: $3,500\n   - Status: Rejected\n\n5. **Eva Patel**: \n   - Destination: Dubai\n   - Purpose: Business Expo\n   - Dates: November 1-10, 2024\n   - Budget Limit: $2,000\n   - Status: Approved"
     },
     "execution_count": 31,
     "metadata": {},
     "output_type": "execute_result"
    }
   ],
   "execution_count": 31
  },
  {
   "metadata": {},
   "cell_type": "markdown",
   "source": "### Creation of the summary graph",
   "id": "d59b4d30b203e6c3"
  },
  {
   "metadata": {},
   "cell_type": "markdown",
   "source": "#### States",
   "id": "b882531b8216746f"
  },
  {
   "metadata": {
    "ExecuteTime": {
     "end_time": "2025-03-24T15:59:25.254731Z",
     "start_time": "2025-03-24T15:59:25.249631Z"
    }
   },
   "cell_type": "code",
   "source": [
    "class SummaryGraphInput(TypedDict):\n",
    "    summary: str\n",
    "    text: str\n",
    "\n",
    "class SummaryGraphOutput(TypedDict):\n",
    "    summary: str\n"
   ],
   "id": "d44a2364af8bd7c5",
   "outputs": [],
   "execution_count": 48
  },
  {
   "metadata": {},
   "cell_type": "markdown",
   "source": "#### Utils",
   "id": "5cc5d9bd26ee739f"
  },
  {
   "metadata": {
    "ExecuteTime": {
     "end_time": "2025-03-24T15:59:26.059857Z",
     "start_time": "2025-03-24T15:59:26.055968Z"
    }
   },
   "cell_type": "code",
   "source": [
    "def read_csv_xlsx(path: str) -> str:\n",
    "    if path.endswith(\".xlsx\"):\n",
    "        df = pd.read_excel(path)\n",
    "        return df.to_string(index=False)\n",
    "    else:\n",
    "        df = pd.read_csv(path)\n",
    "        return df.to_string(index=False)\n",
    "\n",
    "def read_pdf(path: str) -> str:\n",
    "    with open(path, \"rb\") as f:\n",
    "        reader = PdfReader(f)\n",
    "        text = \"\"\n",
    "        for page in reader.pages:\n",
    "            text += page.extractText()\n",
    "\n",
    "    return text"
   ],
   "id": "d8495aa8c4513225",
   "outputs": [],
   "execution_count": 49
  },
  {
   "metadata": {},
   "cell_type": "markdown",
   "source": "#### Prompts",
   "id": "75cb630bbd474469"
  },
  {
   "metadata": {
    "ExecuteTime": {
     "end_time": "2025-03-24T16:02:21.362981Z",
     "start_time": "2025-03-24T16:02:21.357214Z"
    }
   },
   "cell_type": "code",
   "source": [
    "summarization_prompt = ChatPromptTemplate.from_messages([\n",
    "    (\"system\", \"You are a travel assistant. Help in summarizing the employee profiles, the organizational rules and the travel requirements. Ignore any IDs. Do not provide the output in any font or styles. Provide the summary in a neat structured format.\"),\n",
    "    (\"human\", \"Summarize this {input}\")\n",
    "])"
   ],
   "id": "fe7d2806e4351d33",
   "outputs": [],
   "execution_count": 66
  },
  {
   "metadata": {},
   "cell_type": "markdown",
   "source": "#### Nodes",
   "id": "85a777a1b7b472f4"
  },
  {
   "metadata": {
    "ExecuteTime": {
     "end_time": "2025-03-24T16:02:22.125306Z",
     "start_time": "2025-03-24T16:02:22.121441Z"
    }
   },
   "cell_type": "code",
   "source": [
    "def read_docs(state: SummaryGraphInput):\n",
    "    PATH_TO_FILES = \"./Data\"\n",
    "    dirs = os.listdir(PATH_TO_FILES)\n",
    "    text = \"\"\n",
    "    for dir in dirs:\n",
    "        files = os.listdir(os.path.join(PATH_TO_FILES, dir))\n",
    "        for file in files:\n",
    "            if not file.endswith(\".pdf\"):\n",
    "                text += read_csv_xlsx(os.path.join(os.path.join(PATH_TO_FILES, dir), file))\n",
    "            else:\n",
    "                text += read_pdf(os.path.join(os.path.join(PATH_TO_FILES, dir), file))\n",
    "\n",
    "    return {'text': text}"
   ],
   "id": "ddf10bb9d373e169",
   "outputs": [],
   "execution_count": 67
  },
  {
   "metadata": {
    "ExecuteTime": {
     "end_time": "2025-03-24T16:02:22.349657Z",
     "start_time": "2025-03-24T16:02:22.346831Z"
    }
   },
   "cell_type": "code",
   "source": [
    "def summarize(state: SummaryGraphInput):\n",
    "    text = state['text']\n",
    "    runnable_summarization = summarization_prompt | llm\n",
    "    output = runnable_summarization.invoke({'input': text}).content\n",
    "    return {'summary': output}"
   ],
   "id": "faee61aeb0102054",
   "outputs": [],
   "execution_count": 68
  },
  {
   "metadata": {
    "ExecuteTime": {
     "end_time": "2025-03-24T16:02:23.190068Z",
     "start_time": "2025-03-24T16:02:23.184361Z"
    }
   },
   "cell_type": "code",
   "source": [
    "graph_summarizer_builder = StateGraph(SummaryGraphInput, output=SummaryGraphOutput)\n",
    "\n",
    "graph_summarizer_builder.add_node(\"read documents\", read_docs)\n",
    "graph_summarizer_builder.add_node(\"summarize documents\", summarize)\n",
    "\n",
    "graph_summarizer_builder.add_edge(START, \"read documents\")\n",
    "graph_summarizer_builder.add_edge(\"read documents\", \"summarize documents\")\n",
    "graph_summarizer_builder.add_edge(\"summarize documents\", END)\n",
    "\n",
    "memory = MemorySaver()\n",
    "graph_summarizer = graph_summarizer_builder.compile()"
   ],
   "id": "ea9d156798380857",
   "outputs": [],
   "execution_count": 69
  },
  {
   "metadata": {
    "ExecuteTime": {
     "end_time": "2025-03-24T16:01:08.519528Z",
     "start_time": "2025-03-24T16:00:58.141133Z"
    }
   },
   "cell_type": "code",
   "source": "display(Image(graph_summarizer.get_graph().draw_mermaid_png()))",
   "id": "37bb1e301c3cffc7",
   "outputs": [
    {
     "ename": "ReadTimeout",
     "evalue": "HTTPSConnectionPool(host='mermaid.ink', port=443): Read timed out. (read timeout=10)",
     "output_type": "error",
     "traceback": [
      "\u001B[31m---------------------------------------------------------------------------\u001B[39m",
      "\u001B[31mTimeoutError\u001B[39m                              Traceback (most recent call last)",
      "\u001B[36mFile \u001B[39m\u001B[32m~/PycharmProjects/TravelAgent/.venv/lib/python3.12/site-packages/urllib3/connectionpool.py:534\u001B[39m, in \u001B[36mHTTPConnectionPool._make_request\u001B[39m\u001B[34m(self, conn, method, url, body, headers, retries, timeout, chunked, response_conn, preload_content, decode_content, enforce_content_length)\u001B[39m\n\u001B[32m    533\u001B[39m \u001B[38;5;28;01mtry\u001B[39;00m:\n\u001B[32m--> \u001B[39m\u001B[32m534\u001B[39m     response = \u001B[43mconn\u001B[49m\u001B[43m.\u001B[49m\u001B[43mgetresponse\u001B[49m\u001B[43m(\u001B[49m\u001B[43m)\u001B[49m\n\u001B[32m    535\u001B[39m \u001B[38;5;28;01mexcept\u001B[39;00m (BaseSSLError, \u001B[38;5;167;01mOSError\u001B[39;00m) \u001B[38;5;28;01mas\u001B[39;00m e:\n",
      "\u001B[36mFile \u001B[39m\u001B[32m~/PycharmProjects/TravelAgent/.venv/lib/python3.12/site-packages/urllib3/connection.py:516\u001B[39m, in \u001B[36mHTTPConnection.getresponse\u001B[39m\u001B[34m(self)\u001B[39m\n\u001B[32m    515\u001B[39m \u001B[38;5;66;03m# Get the response from http.client.HTTPConnection\u001B[39;00m\n\u001B[32m--> \u001B[39m\u001B[32m516\u001B[39m httplib_response = \u001B[38;5;28;43msuper\u001B[39;49m\u001B[43m(\u001B[49m\u001B[43m)\u001B[49m\u001B[43m.\u001B[49m\u001B[43mgetresponse\u001B[49m\u001B[43m(\u001B[49m\u001B[43m)\u001B[49m\n\u001B[32m    518\u001B[39m \u001B[38;5;28;01mtry\u001B[39;00m:\n",
      "\u001B[36mFile \u001B[39m\u001B[32m/usr/lib/python3.12/http/client.py:1428\u001B[39m, in \u001B[36mHTTPConnection.getresponse\u001B[39m\u001B[34m(self)\u001B[39m\n\u001B[32m   1427\u001B[39m \u001B[38;5;28;01mtry\u001B[39;00m:\n\u001B[32m-> \u001B[39m\u001B[32m1428\u001B[39m     \u001B[43mresponse\u001B[49m\u001B[43m.\u001B[49m\u001B[43mbegin\u001B[49m\u001B[43m(\u001B[49m\u001B[43m)\u001B[49m\n\u001B[32m   1429\u001B[39m \u001B[38;5;28;01mexcept\u001B[39;00m \u001B[38;5;167;01mConnectionError\u001B[39;00m:\n",
      "\u001B[36mFile \u001B[39m\u001B[32m/usr/lib/python3.12/http/client.py:331\u001B[39m, in \u001B[36mHTTPResponse.begin\u001B[39m\u001B[34m(self)\u001B[39m\n\u001B[32m    330\u001B[39m \u001B[38;5;28;01mwhile\u001B[39;00m \u001B[38;5;28;01mTrue\u001B[39;00m:\n\u001B[32m--> \u001B[39m\u001B[32m331\u001B[39m     version, status, reason = \u001B[38;5;28;43mself\u001B[39;49m\u001B[43m.\u001B[49m\u001B[43m_read_status\u001B[49m\u001B[43m(\u001B[49m\u001B[43m)\u001B[49m\n\u001B[32m    332\u001B[39m     \u001B[38;5;28;01mif\u001B[39;00m status != CONTINUE:\n",
      "\u001B[36mFile \u001B[39m\u001B[32m/usr/lib/python3.12/http/client.py:292\u001B[39m, in \u001B[36mHTTPResponse._read_status\u001B[39m\u001B[34m(self)\u001B[39m\n\u001B[32m    291\u001B[39m \u001B[38;5;28;01mdef\u001B[39;00m\u001B[38;5;250m \u001B[39m\u001B[34m_read_status\u001B[39m(\u001B[38;5;28mself\u001B[39m):\n\u001B[32m--> \u001B[39m\u001B[32m292\u001B[39m     line = \u001B[38;5;28mstr\u001B[39m(\u001B[38;5;28;43mself\u001B[39;49m\u001B[43m.\u001B[49m\u001B[43mfp\u001B[49m\u001B[43m.\u001B[49m\u001B[43mreadline\u001B[49m\u001B[43m(\u001B[49m\u001B[43m_MAXLINE\u001B[49m\u001B[43m \u001B[49m\u001B[43m+\u001B[49m\u001B[43m \u001B[49m\u001B[32;43m1\u001B[39;49m\u001B[43m)\u001B[49m, \u001B[33m\"\u001B[39m\u001B[33miso-8859-1\u001B[39m\u001B[33m\"\u001B[39m)\n\u001B[32m    293\u001B[39m     \u001B[38;5;28;01mif\u001B[39;00m \u001B[38;5;28mlen\u001B[39m(line) > _MAXLINE:\n",
      "\u001B[36mFile \u001B[39m\u001B[32m/usr/lib/python3.12/socket.py:707\u001B[39m, in \u001B[36mSocketIO.readinto\u001B[39m\u001B[34m(self, b)\u001B[39m\n\u001B[32m    706\u001B[39m \u001B[38;5;28;01mtry\u001B[39;00m:\n\u001B[32m--> \u001B[39m\u001B[32m707\u001B[39m     \u001B[38;5;28;01mreturn\u001B[39;00m \u001B[38;5;28;43mself\u001B[39;49m\u001B[43m.\u001B[49m\u001B[43m_sock\u001B[49m\u001B[43m.\u001B[49m\u001B[43mrecv_into\u001B[49m\u001B[43m(\u001B[49m\u001B[43mb\u001B[49m\u001B[43m)\u001B[49m\n\u001B[32m    708\u001B[39m \u001B[38;5;28;01mexcept\u001B[39;00m timeout:\n",
      "\u001B[36mFile \u001B[39m\u001B[32m/usr/lib/python3.12/ssl.py:1252\u001B[39m, in \u001B[36mSSLSocket.recv_into\u001B[39m\u001B[34m(self, buffer, nbytes, flags)\u001B[39m\n\u001B[32m   1249\u001B[39m         \u001B[38;5;28;01mraise\u001B[39;00m \u001B[38;5;167;01mValueError\u001B[39;00m(\n\u001B[32m   1250\u001B[39m           \u001B[33m\"\u001B[39m\u001B[33mnon-zero flags not allowed in calls to recv_into() on \u001B[39m\u001B[38;5;132;01m%s\u001B[39;00m\u001B[33m\"\u001B[39m %\n\u001B[32m   1251\u001B[39m           \u001B[38;5;28mself\u001B[39m.\u001B[34m__class__\u001B[39m)\n\u001B[32m-> \u001B[39m\u001B[32m1252\u001B[39m     \u001B[38;5;28;01mreturn\u001B[39;00m \u001B[38;5;28;43mself\u001B[39;49m\u001B[43m.\u001B[49m\u001B[43mread\u001B[49m\u001B[43m(\u001B[49m\u001B[43mnbytes\u001B[49m\u001B[43m,\u001B[49m\u001B[43m \u001B[49m\u001B[43mbuffer\u001B[49m\u001B[43m)\u001B[49m\n\u001B[32m   1253\u001B[39m \u001B[38;5;28;01melse\u001B[39;00m:\n",
      "\u001B[36mFile \u001B[39m\u001B[32m/usr/lib/python3.12/ssl.py:1104\u001B[39m, in \u001B[36mSSLSocket.read\u001B[39m\u001B[34m(self, len, buffer)\u001B[39m\n\u001B[32m   1103\u001B[39m \u001B[38;5;28;01mif\u001B[39;00m buffer \u001B[38;5;129;01mis\u001B[39;00m \u001B[38;5;129;01mnot\u001B[39;00m \u001B[38;5;28;01mNone\u001B[39;00m:\n\u001B[32m-> \u001B[39m\u001B[32m1104\u001B[39m     \u001B[38;5;28;01mreturn\u001B[39;00m \u001B[38;5;28;43mself\u001B[39;49m\u001B[43m.\u001B[49m\u001B[43m_sslobj\u001B[49m\u001B[43m.\u001B[49m\u001B[43mread\u001B[49m\u001B[43m(\u001B[49m\u001B[38;5;28;43mlen\u001B[39;49m\u001B[43m,\u001B[49m\u001B[43m \u001B[49m\u001B[43mbuffer\u001B[49m\u001B[43m)\u001B[49m\n\u001B[32m   1105\u001B[39m \u001B[38;5;28;01melse\u001B[39;00m:\n",
      "\u001B[31mTimeoutError\u001B[39m: The read operation timed out",
      "\nThe above exception was the direct cause of the following exception:\n",
      "\u001B[31mReadTimeoutError\u001B[39m                          Traceback (most recent call last)",
      "\u001B[36mFile \u001B[39m\u001B[32m~/PycharmProjects/TravelAgent/.venv/lib/python3.12/site-packages/requests/adapters.py:667\u001B[39m, in \u001B[36mHTTPAdapter.send\u001B[39m\u001B[34m(self, request, stream, timeout, verify, cert, proxies)\u001B[39m\n\u001B[32m    666\u001B[39m \u001B[38;5;28;01mtry\u001B[39;00m:\n\u001B[32m--> \u001B[39m\u001B[32m667\u001B[39m     resp = \u001B[43mconn\u001B[49m\u001B[43m.\u001B[49m\u001B[43murlopen\u001B[49m\u001B[43m(\u001B[49m\n\u001B[32m    668\u001B[39m \u001B[43m        \u001B[49m\u001B[43mmethod\u001B[49m\u001B[43m=\u001B[49m\u001B[43mrequest\u001B[49m\u001B[43m.\u001B[49m\u001B[43mmethod\u001B[49m\u001B[43m,\u001B[49m\n\u001B[32m    669\u001B[39m \u001B[43m        \u001B[49m\u001B[43murl\u001B[49m\u001B[43m=\u001B[49m\u001B[43murl\u001B[49m\u001B[43m,\u001B[49m\n\u001B[32m    670\u001B[39m \u001B[43m        \u001B[49m\u001B[43mbody\u001B[49m\u001B[43m=\u001B[49m\u001B[43mrequest\u001B[49m\u001B[43m.\u001B[49m\u001B[43mbody\u001B[49m\u001B[43m,\u001B[49m\n\u001B[32m    671\u001B[39m \u001B[43m        \u001B[49m\u001B[43mheaders\u001B[49m\u001B[43m=\u001B[49m\u001B[43mrequest\u001B[49m\u001B[43m.\u001B[49m\u001B[43mheaders\u001B[49m\u001B[43m,\u001B[49m\n\u001B[32m    672\u001B[39m \u001B[43m        \u001B[49m\u001B[43mredirect\u001B[49m\u001B[43m=\u001B[49m\u001B[38;5;28;43;01mFalse\u001B[39;49;00m\u001B[43m,\u001B[49m\n\u001B[32m    673\u001B[39m \u001B[43m        \u001B[49m\u001B[43massert_same_host\u001B[49m\u001B[43m=\u001B[49m\u001B[38;5;28;43;01mFalse\u001B[39;49;00m\u001B[43m,\u001B[49m\n\u001B[32m    674\u001B[39m \u001B[43m        \u001B[49m\u001B[43mpreload_content\u001B[49m\u001B[43m=\u001B[49m\u001B[38;5;28;43;01mFalse\u001B[39;49;00m\u001B[43m,\u001B[49m\n\u001B[32m    675\u001B[39m \u001B[43m        \u001B[49m\u001B[43mdecode_content\u001B[49m\u001B[43m=\u001B[49m\u001B[38;5;28;43;01mFalse\u001B[39;49;00m\u001B[43m,\u001B[49m\n\u001B[32m    676\u001B[39m \u001B[43m        \u001B[49m\u001B[43mretries\u001B[49m\u001B[43m=\u001B[49m\u001B[38;5;28;43mself\u001B[39;49m\u001B[43m.\u001B[49m\u001B[43mmax_retries\u001B[49m\u001B[43m,\u001B[49m\n\u001B[32m    677\u001B[39m \u001B[43m        \u001B[49m\u001B[43mtimeout\u001B[49m\u001B[43m=\u001B[49m\u001B[43mtimeout\u001B[49m\u001B[43m,\u001B[49m\n\u001B[32m    678\u001B[39m \u001B[43m        \u001B[49m\u001B[43mchunked\u001B[49m\u001B[43m=\u001B[49m\u001B[43mchunked\u001B[49m\u001B[43m,\u001B[49m\n\u001B[32m    679\u001B[39m \u001B[43m    \u001B[49m\u001B[43m)\u001B[49m\n\u001B[32m    681\u001B[39m \u001B[38;5;28;01mexcept\u001B[39;00m (ProtocolError, \u001B[38;5;167;01mOSError\u001B[39;00m) \u001B[38;5;28;01mas\u001B[39;00m err:\n",
      "\u001B[36mFile \u001B[39m\u001B[32m~/PycharmProjects/TravelAgent/.venv/lib/python3.12/site-packages/urllib3/connectionpool.py:841\u001B[39m, in \u001B[36mHTTPConnectionPool.urlopen\u001B[39m\u001B[34m(self, method, url, body, headers, retries, redirect, assert_same_host, timeout, pool_timeout, release_conn, chunked, body_pos, preload_content, decode_content, **response_kw)\u001B[39m\n\u001B[32m    839\u001B[39m     new_e = ProtocolError(\u001B[33m\"\u001B[39m\u001B[33mConnection aborted.\u001B[39m\u001B[33m\"\u001B[39m, new_e)\n\u001B[32m--> \u001B[39m\u001B[32m841\u001B[39m retries = \u001B[43mretries\u001B[49m\u001B[43m.\u001B[49m\u001B[43mincrement\u001B[49m\u001B[43m(\u001B[49m\n\u001B[32m    842\u001B[39m \u001B[43m    \u001B[49m\u001B[43mmethod\u001B[49m\u001B[43m,\u001B[49m\u001B[43m \u001B[49m\u001B[43murl\u001B[49m\u001B[43m,\u001B[49m\u001B[43m \u001B[49m\u001B[43merror\u001B[49m\u001B[43m=\u001B[49m\u001B[43mnew_e\u001B[49m\u001B[43m,\u001B[49m\u001B[43m \u001B[49m\u001B[43m_pool\u001B[49m\u001B[43m=\u001B[49m\u001B[38;5;28;43mself\u001B[39;49m\u001B[43m,\u001B[49m\u001B[43m \u001B[49m\u001B[43m_stacktrace\u001B[49m\u001B[43m=\u001B[49m\u001B[43msys\u001B[49m\u001B[43m.\u001B[49m\u001B[43mexc_info\u001B[49m\u001B[43m(\u001B[49m\u001B[43m)\u001B[49m\u001B[43m[\u001B[49m\u001B[32;43m2\u001B[39;49m\u001B[43m]\u001B[49m\n\u001B[32m    843\u001B[39m \u001B[43m\u001B[49m\u001B[43m)\u001B[49m\n\u001B[32m    844\u001B[39m retries.sleep()\n",
      "\u001B[36mFile \u001B[39m\u001B[32m~/PycharmProjects/TravelAgent/.venv/lib/python3.12/site-packages/urllib3/util/retry.py:474\u001B[39m, in \u001B[36mRetry.increment\u001B[39m\u001B[34m(self, method, url, response, error, _pool, _stacktrace)\u001B[39m\n\u001B[32m    473\u001B[39m \u001B[38;5;28;01mif\u001B[39;00m read \u001B[38;5;129;01mis\u001B[39;00m \u001B[38;5;28;01mFalse\u001B[39;00m \u001B[38;5;129;01mor\u001B[39;00m method \u001B[38;5;129;01mis\u001B[39;00m \u001B[38;5;28;01mNone\u001B[39;00m \u001B[38;5;129;01mor\u001B[39;00m \u001B[38;5;129;01mnot\u001B[39;00m \u001B[38;5;28mself\u001B[39m._is_method_retryable(method):\n\u001B[32m--> \u001B[39m\u001B[32m474\u001B[39m     \u001B[38;5;28;01mraise\u001B[39;00m \u001B[43mreraise\u001B[49m\u001B[43m(\u001B[49m\u001B[38;5;28;43mtype\u001B[39;49m\u001B[43m(\u001B[49m\u001B[43merror\u001B[49m\u001B[43m)\u001B[49m\u001B[43m,\u001B[49m\u001B[43m \u001B[49m\u001B[43merror\u001B[49m\u001B[43m,\u001B[49m\u001B[43m \u001B[49m\u001B[43m_stacktrace\u001B[49m\u001B[43m)\u001B[49m\n\u001B[32m    475\u001B[39m \u001B[38;5;28;01melif\u001B[39;00m read \u001B[38;5;129;01mis\u001B[39;00m \u001B[38;5;129;01mnot\u001B[39;00m \u001B[38;5;28;01mNone\u001B[39;00m:\n",
      "\u001B[36mFile \u001B[39m\u001B[32m~/PycharmProjects/TravelAgent/.venv/lib/python3.12/site-packages/urllib3/util/util.py:39\u001B[39m, in \u001B[36mreraise\u001B[39m\u001B[34m(tp, value, tb)\u001B[39m\n\u001B[32m     38\u001B[39m         \u001B[38;5;28;01mraise\u001B[39;00m value.with_traceback(tb)\n\u001B[32m---> \u001B[39m\u001B[32m39\u001B[39m     \u001B[38;5;28;01mraise\u001B[39;00m value\n\u001B[32m     40\u001B[39m \u001B[38;5;28;01mfinally\u001B[39;00m:\n",
      "\u001B[36mFile \u001B[39m\u001B[32m~/PycharmProjects/TravelAgent/.venv/lib/python3.12/site-packages/urllib3/connectionpool.py:787\u001B[39m, in \u001B[36mHTTPConnectionPool.urlopen\u001B[39m\u001B[34m(self, method, url, body, headers, retries, redirect, assert_same_host, timeout, pool_timeout, release_conn, chunked, body_pos, preload_content, decode_content, **response_kw)\u001B[39m\n\u001B[32m    786\u001B[39m \u001B[38;5;66;03m# Make the request on the HTTPConnection object\u001B[39;00m\n\u001B[32m--> \u001B[39m\u001B[32m787\u001B[39m response = \u001B[38;5;28;43mself\u001B[39;49m\u001B[43m.\u001B[49m\u001B[43m_make_request\u001B[49m\u001B[43m(\u001B[49m\n\u001B[32m    788\u001B[39m \u001B[43m    \u001B[49m\u001B[43mconn\u001B[49m\u001B[43m,\u001B[49m\n\u001B[32m    789\u001B[39m \u001B[43m    \u001B[49m\u001B[43mmethod\u001B[49m\u001B[43m,\u001B[49m\n\u001B[32m    790\u001B[39m \u001B[43m    \u001B[49m\u001B[43murl\u001B[49m\u001B[43m,\u001B[49m\n\u001B[32m    791\u001B[39m \u001B[43m    \u001B[49m\u001B[43mtimeout\u001B[49m\u001B[43m=\u001B[49m\u001B[43mtimeout_obj\u001B[49m\u001B[43m,\u001B[49m\n\u001B[32m    792\u001B[39m \u001B[43m    \u001B[49m\u001B[43mbody\u001B[49m\u001B[43m=\u001B[49m\u001B[43mbody\u001B[49m\u001B[43m,\u001B[49m\n\u001B[32m    793\u001B[39m \u001B[43m    \u001B[49m\u001B[43mheaders\u001B[49m\u001B[43m=\u001B[49m\u001B[43mheaders\u001B[49m\u001B[43m,\u001B[49m\n\u001B[32m    794\u001B[39m \u001B[43m    \u001B[49m\u001B[43mchunked\u001B[49m\u001B[43m=\u001B[49m\u001B[43mchunked\u001B[49m\u001B[43m,\u001B[49m\n\u001B[32m    795\u001B[39m \u001B[43m    \u001B[49m\u001B[43mretries\u001B[49m\u001B[43m=\u001B[49m\u001B[43mretries\u001B[49m\u001B[43m,\u001B[49m\n\u001B[32m    796\u001B[39m \u001B[43m    \u001B[49m\u001B[43mresponse_conn\u001B[49m\u001B[43m=\u001B[49m\u001B[43mresponse_conn\u001B[49m\u001B[43m,\u001B[49m\n\u001B[32m    797\u001B[39m \u001B[43m    \u001B[49m\u001B[43mpreload_content\u001B[49m\u001B[43m=\u001B[49m\u001B[43mpreload_content\u001B[49m\u001B[43m,\u001B[49m\n\u001B[32m    798\u001B[39m \u001B[43m    \u001B[49m\u001B[43mdecode_content\u001B[49m\u001B[43m=\u001B[49m\u001B[43mdecode_content\u001B[49m\u001B[43m,\u001B[49m\n\u001B[32m    799\u001B[39m \u001B[43m    \u001B[49m\u001B[43m*\u001B[49m\u001B[43m*\u001B[49m\u001B[43mresponse_kw\u001B[49m\u001B[43m,\u001B[49m\n\u001B[32m    800\u001B[39m \u001B[43m\u001B[49m\u001B[43m)\u001B[49m\n\u001B[32m    802\u001B[39m \u001B[38;5;66;03m# Everything went great!\u001B[39;00m\n",
      "\u001B[36mFile \u001B[39m\u001B[32m~/PycharmProjects/TravelAgent/.venv/lib/python3.12/site-packages/urllib3/connectionpool.py:536\u001B[39m, in \u001B[36mHTTPConnectionPool._make_request\u001B[39m\u001B[34m(self, conn, method, url, body, headers, retries, timeout, chunked, response_conn, preload_content, decode_content, enforce_content_length)\u001B[39m\n\u001B[32m    535\u001B[39m \u001B[38;5;28;01mexcept\u001B[39;00m (BaseSSLError, \u001B[38;5;167;01mOSError\u001B[39;00m) \u001B[38;5;28;01mas\u001B[39;00m e:\n\u001B[32m--> \u001B[39m\u001B[32m536\u001B[39m     \u001B[38;5;28;43mself\u001B[39;49m\u001B[43m.\u001B[49m\u001B[43m_raise_timeout\u001B[49m\u001B[43m(\u001B[49m\u001B[43merr\u001B[49m\u001B[43m=\u001B[49m\u001B[43me\u001B[49m\u001B[43m,\u001B[49m\u001B[43m \u001B[49m\u001B[43murl\u001B[49m\u001B[43m=\u001B[49m\u001B[43murl\u001B[49m\u001B[43m,\u001B[49m\u001B[43m \u001B[49m\u001B[43mtimeout_value\u001B[49m\u001B[43m=\u001B[49m\u001B[43mread_timeout\u001B[49m\u001B[43m)\u001B[49m\n\u001B[32m    537\u001B[39m     \u001B[38;5;28;01mraise\u001B[39;00m\n",
      "\u001B[36mFile \u001B[39m\u001B[32m~/PycharmProjects/TravelAgent/.venv/lib/python3.12/site-packages/urllib3/connectionpool.py:367\u001B[39m, in \u001B[36mHTTPConnectionPool._raise_timeout\u001B[39m\u001B[34m(self, err, url, timeout_value)\u001B[39m\n\u001B[32m    366\u001B[39m \u001B[38;5;28;01mif\u001B[39;00m \u001B[38;5;28misinstance\u001B[39m(err, SocketTimeout):\n\u001B[32m--> \u001B[39m\u001B[32m367\u001B[39m     \u001B[38;5;28;01mraise\u001B[39;00m ReadTimeoutError(\n\u001B[32m    368\u001B[39m         \u001B[38;5;28mself\u001B[39m, url, \u001B[33mf\u001B[39m\u001B[33m\"\u001B[39m\u001B[33mRead timed out. (read timeout=\u001B[39m\u001B[38;5;132;01m{\u001B[39;00mtimeout_value\u001B[38;5;132;01m}\u001B[39;00m\u001B[33m)\u001B[39m\u001B[33m\"\u001B[39m\n\u001B[32m    369\u001B[39m     ) \u001B[38;5;28;01mfrom\u001B[39;00m\u001B[38;5;250m \u001B[39m\u001B[34;01merr\u001B[39;00m\n\u001B[32m    371\u001B[39m \u001B[38;5;66;03m# See the above comment about EAGAIN in Python 3.\u001B[39;00m\n",
      "\u001B[31mReadTimeoutError\u001B[39m: HTTPSConnectionPool(host='mermaid.ink', port=443): Read timed out. (read timeout=10)",
      "\nDuring handling of the above exception, another exception occurred:\n",
      "\u001B[31mReadTimeout\u001B[39m                               Traceback (most recent call last)",
      "\u001B[36mCell\u001B[39m\u001B[36m \u001B[39m\u001B[32mIn[59]\u001B[39m\u001B[32m, line 1\u001B[39m\n\u001B[32m----> \u001B[39m\u001B[32m1\u001B[39m display(Image(\u001B[43mgraph_summarizer\u001B[49m\u001B[43m.\u001B[49m\u001B[43mget_graph\u001B[49m\u001B[43m(\u001B[49m\u001B[43m)\u001B[49m\u001B[43m.\u001B[49m\u001B[43mdraw_mermaid_png\u001B[49m\u001B[43m(\u001B[49m\u001B[43m)\u001B[49m))\n",
      "\u001B[36mFile \u001B[39m\u001B[32m~/PycharmProjects/TravelAgent/.venv/lib/python3.12/site-packages/langchain_core/runnables/graph.py:631\u001B[39m, in \u001B[36mGraph.draw_mermaid_png\u001B[39m\u001B[34m(self, curve_style, node_colors, wrap_label_n_words, output_file_path, draw_method, background_color, padding)\u001B[39m\n\u001B[32m    624\u001B[39m \u001B[38;5;28;01mfrom\u001B[39;00m\u001B[38;5;250m \u001B[39m\u001B[34;01mlangchain_core\u001B[39;00m\u001B[34;01m.\u001B[39;00m\u001B[34;01mrunnables\u001B[39;00m\u001B[34;01m.\u001B[39;00m\u001B[34;01mgraph_mermaid\u001B[39;00m\u001B[38;5;250m \u001B[39m\u001B[38;5;28;01mimport\u001B[39;00m draw_mermaid_png\n\u001B[32m    626\u001B[39m mermaid_syntax = \u001B[38;5;28mself\u001B[39m.draw_mermaid(\n\u001B[32m    627\u001B[39m     curve_style=curve_style,\n\u001B[32m    628\u001B[39m     node_colors=node_colors,\n\u001B[32m    629\u001B[39m     wrap_label_n_words=wrap_label_n_words,\n\u001B[32m    630\u001B[39m )\n\u001B[32m--> \u001B[39m\u001B[32m631\u001B[39m \u001B[38;5;28;01mreturn\u001B[39;00m \u001B[43mdraw_mermaid_png\u001B[49m\u001B[43m(\u001B[49m\n\u001B[32m    632\u001B[39m \u001B[43m    \u001B[49m\u001B[43mmermaid_syntax\u001B[49m\u001B[43m=\u001B[49m\u001B[43mmermaid_syntax\u001B[49m\u001B[43m,\u001B[49m\n\u001B[32m    633\u001B[39m \u001B[43m    \u001B[49m\u001B[43moutput_file_path\u001B[49m\u001B[43m=\u001B[49m\u001B[43moutput_file_path\u001B[49m\u001B[43m,\u001B[49m\n\u001B[32m    634\u001B[39m \u001B[43m    \u001B[49m\u001B[43mdraw_method\u001B[49m\u001B[43m=\u001B[49m\u001B[43mdraw_method\u001B[49m\u001B[43m,\u001B[49m\n\u001B[32m    635\u001B[39m \u001B[43m    \u001B[49m\u001B[43mbackground_color\u001B[49m\u001B[43m=\u001B[49m\u001B[43mbackground_color\u001B[49m\u001B[43m,\u001B[49m\n\u001B[32m    636\u001B[39m \u001B[43m    \u001B[49m\u001B[43mpadding\u001B[49m\u001B[43m=\u001B[49m\u001B[43mpadding\u001B[49m\u001B[43m,\u001B[49m\n\u001B[32m    637\u001B[39m \u001B[43m\u001B[49m\u001B[43m)\u001B[49m\n",
      "\u001B[36mFile \u001B[39m\u001B[32m~/PycharmProjects/TravelAgent/.venv/lib/python3.12/site-packages/langchain_core/runnables/graph_mermaid.py:250\u001B[39m, in \u001B[36mdraw_mermaid_png\u001B[39m\u001B[34m(mermaid_syntax, output_file_path, draw_method, background_color, padding)\u001B[39m\n\u001B[32m    244\u001B[39m     img_bytes = asyncio.run(\n\u001B[32m    245\u001B[39m         _render_mermaid_using_pyppeteer(\n\u001B[32m    246\u001B[39m             mermaid_syntax, output_file_path, background_color, padding\n\u001B[32m    247\u001B[39m         )\n\u001B[32m    248\u001B[39m     )\n\u001B[32m    249\u001B[39m \u001B[38;5;28;01melif\u001B[39;00m draw_method == MermaidDrawMethod.API:\n\u001B[32m--> \u001B[39m\u001B[32m250\u001B[39m     img_bytes = \u001B[43m_render_mermaid_using_api\u001B[49m\u001B[43m(\u001B[49m\n\u001B[32m    251\u001B[39m \u001B[43m        \u001B[49m\u001B[43mmermaid_syntax\u001B[49m\u001B[43m,\u001B[49m\u001B[43m \u001B[49m\u001B[43moutput_file_path\u001B[49m\u001B[43m,\u001B[49m\u001B[43m \u001B[49m\u001B[43mbackground_color\u001B[49m\n\u001B[32m    252\u001B[39m \u001B[43m    \u001B[49m\u001B[43m)\u001B[49m\n\u001B[32m    253\u001B[39m \u001B[38;5;28;01melse\u001B[39;00m:\n\u001B[32m    254\u001B[39m     supported_methods = \u001B[33m\"\u001B[39m\u001B[33m, \u001B[39m\u001B[33m\"\u001B[39m.join([m.value \u001B[38;5;28;01mfor\u001B[39;00m m \u001B[38;5;129;01min\u001B[39;00m MermaidDrawMethod])\n",
      "\u001B[36mFile \u001B[39m\u001B[32m~/PycharmProjects/TravelAgent/.venv/lib/python3.12/site-packages/langchain_core/runnables/graph_mermaid.py:368\u001B[39m, in \u001B[36m_render_mermaid_using_api\u001B[39m\u001B[34m(mermaid_syntax, output_file_path, background_color, file_type)\u001B[39m\n\u001B[32m    362\u001B[39m         background_color = \u001B[33mf\u001B[39m\u001B[33m\"\u001B[39m\u001B[33m!\u001B[39m\u001B[38;5;132;01m{\u001B[39;00mbackground_color\u001B[38;5;132;01m}\u001B[39;00m\u001B[33m\"\u001B[39m\n\u001B[32m    364\u001B[39m image_url = (\n\u001B[32m    365\u001B[39m     \u001B[33mf\u001B[39m\u001B[33m\"\u001B[39m\u001B[33mhttps://mermaid.ink/img/\u001B[39m\u001B[38;5;132;01m{\u001B[39;00mmermaid_syntax_encoded\u001B[38;5;132;01m}\u001B[39;00m\u001B[33m\"\u001B[39m\n\u001B[32m    366\u001B[39m     \u001B[33mf\u001B[39m\u001B[33m\"\u001B[39m\u001B[33m?type=\u001B[39m\u001B[38;5;132;01m{\u001B[39;00mfile_type\u001B[38;5;132;01m}\u001B[39;00m\u001B[33m&bgColor=\u001B[39m\u001B[38;5;132;01m{\u001B[39;00mbackground_color\u001B[38;5;132;01m}\u001B[39;00m\u001B[33m\"\u001B[39m\n\u001B[32m    367\u001B[39m )\n\u001B[32m--> \u001B[39m\u001B[32m368\u001B[39m response = \u001B[43mrequests\u001B[49m\u001B[43m.\u001B[49m\u001B[43mget\u001B[49m\u001B[43m(\u001B[49m\u001B[43mimage_url\u001B[49m\u001B[43m,\u001B[49m\u001B[43m \u001B[49m\u001B[43mtimeout\u001B[49m\u001B[43m=\u001B[49m\u001B[32;43m10\u001B[39;49m\u001B[43m)\u001B[49m\n\u001B[32m    369\u001B[39m \u001B[38;5;28;01mif\u001B[39;00m response.status_code == \u001B[32m200\u001B[39m:\n\u001B[32m    370\u001B[39m     img_bytes = response.content\n",
      "\u001B[36mFile \u001B[39m\u001B[32m~/PycharmProjects/TravelAgent/.venv/lib/python3.12/site-packages/requests/api.py:73\u001B[39m, in \u001B[36mget\u001B[39m\u001B[34m(url, params, **kwargs)\u001B[39m\n\u001B[32m     62\u001B[39m \u001B[38;5;28;01mdef\u001B[39;00m\u001B[38;5;250m \u001B[39m\u001B[34mget\u001B[39m(url, params=\u001B[38;5;28;01mNone\u001B[39;00m, **kwargs):\n\u001B[32m     63\u001B[39m \u001B[38;5;250m    \u001B[39m\u001B[33mr\u001B[39m\u001B[33;03m\"\"\"Sends a GET request.\u001B[39;00m\n\u001B[32m     64\u001B[39m \n\u001B[32m     65\u001B[39m \u001B[33;03m    :param url: URL for the new :class:`Request` object.\u001B[39;00m\n\u001B[32m   (...)\u001B[39m\u001B[32m     70\u001B[39m \u001B[33;03m    :rtype: requests.Response\u001B[39;00m\n\u001B[32m     71\u001B[39m \u001B[33;03m    \"\"\"\u001B[39;00m\n\u001B[32m---> \u001B[39m\u001B[32m73\u001B[39m     \u001B[38;5;28;01mreturn\u001B[39;00m \u001B[43mrequest\u001B[49m\u001B[43m(\u001B[49m\u001B[33;43m\"\u001B[39;49m\u001B[33;43mget\u001B[39;49m\u001B[33;43m\"\u001B[39;49m\u001B[43m,\u001B[49m\u001B[43m \u001B[49m\u001B[43murl\u001B[49m\u001B[43m,\u001B[49m\u001B[43m \u001B[49m\u001B[43mparams\u001B[49m\u001B[43m=\u001B[49m\u001B[43mparams\u001B[49m\u001B[43m,\u001B[49m\u001B[43m \u001B[49m\u001B[43m*\u001B[49m\u001B[43m*\u001B[49m\u001B[43mkwargs\u001B[49m\u001B[43m)\u001B[49m\n",
      "\u001B[36mFile \u001B[39m\u001B[32m~/PycharmProjects/TravelAgent/.venv/lib/python3.12/site-packages/requests/api.py:59\u001B[39m, in \u001B[36mrequest\u001B[39m\u001B[34m(method, url, **kwargs)\u001B[39m\n\u001B[32m     55\u001B[39m \u001B[38;5;66;03m# By using the 'with' statement we are sure the session is closed, thus we\u001B[39;00m\n\u001B[32m     56\u001B[39m \u001B[38;5;66;03m# avoid leaving sockets open which can trigger a ResourceWarning in some\u001B[39;00m\n\u001B[32m     57\u001B[39m \u001B[38;5;66;03m# cases, and look like a memory leak in others.\u001B[39;00m\n\u001B[32m     58\u001B[39m \u001B[38;5;28;01mwith\u001B[39;00m sessions.Session() \u001B[38;5;28;01mas\u001B[39;00m session:\n\u001B[32m---> \u001B[39m\u001B[32m59\u001B[39m     \u001B[38;5;28;01mreturn\u001B[39;00m \u001B[43msession\u001B[49m\u001B[43m.\u001B[49m\u001B[43mrequest\u001B[49m\u001B[43m(\u001B[49m\u001B[43mmethod\u001B[49m\u001B[43m=\u001B[49m\u001B[43mmethod\u001B[49m\u001B[43m,\u001B[49m\u001B[43m \u001B[49m\u001B[43murl\u001B[49m\u001B[43m=\u001B[49m\u001B[43murl\u001B[49m\u001B[43m,\u001B[49m\u001B[43m \u001B[49m\u001B[43m*\u001B[49m\u001B[43m*\u001B[49m\u001B[43mkwargs\u001B[49m\u001B[43m)\u001B[49m\n",
      "\u001B[36mFile \u001B[39m\u001B[32m~/PycharmProjects/TravelAgent/.venv/lib/python3.12/site-packages/requests/sessions.py:589\u001B[39m, in \u001B[36mSession.request\u001B[39m\u001B[34m(self, method, url, params, data, headers, cookies, files, auth, timeout, allow_redirects, proxies, hooks, stream, verify, cert, json)\u001B[39m\n\u001B[32m    584\u001B[39m send_kwargs = {\n\u001B[32m    585\u001B[39m     \u001B[33m\"\u001B[39m\u001B[33mtimeout\u001B[39m\u001B[33m\"\u001B[39m: timeout,\n\u001B[32m    586\u001B[39m     \u001B[33m\"\u001B[39m\u001B[33mallow_redirects\u001B[39m\u001B[33m\"\u001B[39m: allow_redirects,\n\u001B[32m    587\u001B[39m }\n\u001B[32m    588\u001B[39m send_kwargs.update(settings)\n\u001B[32m--> \u001B[39m\u001B[32m589\u001B[39m resp = \u001B[38;5;28;43mself\u001B[39;49m\u001B[43m.\u001B[49m\u001B[43msend\u001B[49m\u001B[43m(\u001B[49m\u001B[43mprep\u001B[49m\u001B[43m,\u001B[49m\u001B[43m \u001B[49m\u001B[43m*\u001B[49m\u001B[43m*\u001B[49m\u001B[43msend_kwargs\u001B[49m\u001B[43m)\u001B[49m\n\u001B[32m    591\u001B[39m \u001B[38;5;28;01mreturn\u001B[39;00m resp\n",
      "\u001B[36mFile \u001B[39m\u001B[32m~/PycharmProjects/TravelAgent/.venv/lib/python3.12/site-packages/requests/sessions.py:703\u001B[39m, in \u001B[36mSession.send\u001B[39m\u001B[34m(self, request, **kwargs)\u001B[39m\n\u001B[32m    700\u001B[39m start = preferred_clock()\n\u001B[32m    702\u001B[39m \u001B[38;5;66;03m# Send the request\u001B[39;00m\n\u001B[32m--> \u001B[39m\u001B[32m703\u001B[39m r = \u001B[43madapter\u001B[49m\u001B[43m.\u001B[49m\u001B[43msend\u001B[49m\u001B[43m(\u001B[49m\u001B[43mrequest\u001B[49m\u001B[43m,\u001B[49m\u001B[43m \u001B[49m\u001B[43m*\u001B[49m\u001B[43m*\u001B[49m\u001B[43mkwargs\u001B[49m\u001B[43m)\u001B[49m\n\u001B[32m    705\u001B[39m \u001B[38;5;66;03m# Total elapsed time of the request (approximately)\u001B[39;00m\n\u001B[32m    706\u001B[39m elapsed = preferred_clock() - start\n",
      "\u001B[36mFile \u001B[39m\u001B[32m~/PycharmProjects/TravelAgent/.venv/lib/python3.12/site-packages/requests/adapters.py:713\u001B[39m, in \u001B[36mHTTPAdapter.send\u001B[39m\u001B[34m(self, request, stream, timeout, verify, cert, proxies)\u001B[39m\n\u001B[32m    711\u001B[39m     \u001B[38;5;28;01mraise\u001B[39;00m SSLError(e, request=request)\n\u001B[32m    712\u001B[39m \u001B[38;5;28;01melif\u001B[39;00m \u001B[38;5;28misinstance\u001B[39m(e, ReadTimeoutError):\n\u001B[32m--> \u001B[39m\u001B[32m713\u001B[39m     \u001B[38;5;28;01mraise\u001B[39;00m ReadTimeout(e, request=request)\n\u001B[32m    714\u001B[39m \u001B[38;5;28;01melif\u001B[39;00m \u001B[38;5;28misinstance\u001B[39m(e, _InvalidHeader):\n\u001B[32m    715\u001B[39m     \u001B[38;5;28;01mraise\u001B[39;00m InvalidHeader(e, request=request)\n",
      "\u001B[31mReadTimeout\u001B[39m: HTTPSConnectionPool(host='mermaid.ink', port=443): Read timed out. (read timeout=10)"
     ]
    }
   ],
   "execution_count": 59
  },
  {
   "metadata": {
    "ExecuteTime": {
     "end_time": "2025-03-24T16:02:34.097791Z",
     "start_time": "2025-03-24T16:02:25.624034Z"
    }
   },
   "cell_type": "code",
   "source": "Markdown(graph_summarizer.invoke({}, config={'configurable': {'thread_id': \"summarizer_2\"}})['summary'])",
   "id": "42e00bc8432593c8",
   "outputs": [
    {
     "data": {
      "text/plain": [
       "<IPython.core.display.Markdown object>"
      ],
      "text/markdown": "**Employee Profiles:**\n\n1. **Alice Doe**\n   - Role: Senior Engineer\n   - Travel History: USA, Germany, France (3x)\n   - Preferred Airlines: Lufthansa, Delta\n   - Preferred Hotels: Marriott, Hilton\n   - Meal Preference: Vegetarian\n   - Seat Preference: Window\n   - Visa Requirement: Schengen, USA\n\n2. **Bob Smith**\n   - Role: Project Manager\n   - Travel History: India, UK (2x)\n   - Preferred Airlines: British Airways\n   - Preferred Hotels: IHG, Hyatt\n   - Meal Preference: Vegan\n   - Seat Preference: Aisle\n   - Visa Requirement: UK, India\n\n3. **Carol Lee**\n   - Role: Data Scientist\n   - Travel History: Singapore, Japan (1x)\n   - Preferred Airlines: Singapore Airlines\n   - Preferred Hotels: Marriott\n   - Meal Preference: Non-Veg\n   - Seat Preference: Aisle\n   - Visa Requirement: Japan, Singapore\n\n4. **David Wong**\n   - Role: Cybersecurity Lead\n   - Travel History: Canada, USA, Germany (4x)\n   - Preferred Airlines: Air Canada, Delta\n   - Preferred Hotels: Hilton\n   - Meal Preference: Kosher\n   - Seat Preference: Window\n   - Visa Requirement: Schengen, USA, Canada\n\n5. **Eva Patel**\n   - Role: Software Engineer\n   - Travel History: Remote (0 trips)\n   - Preferred Airlines: Emirates\n   - Preferred Hotels: Hyatt\n   - Meal Preference: Halal\n   - Seat Preference: Window\n   - Visa Requirement: Schengen\n\n**Organizational Rules:**\n\n1. Max budget per trip per employee: $3,000 (Region dependent)\n2. Business class flights only for Director level & above\n3. Approval from direct manager required for travel abroad\n4. Preferred airline partners: Lufthansa, Emirates, Delta\n5. Hotels must be 4-star or higher for company bookings\n6. Travel insurance mandatory for international trips\n7. Employees cannot book flights exceeding the budget limit\n8. Visa approval must be completed before flight booking\n\n**Travel Requirements:**\n\n1. **Berlin (Alice Doe)**\n   - Purpose: Conference\n   - Dates: 2024-07-15 to 2024-07-20\n   - Budget Limit: $2500\n   - Approval Status: Approved\n\n2. **London (Bob Smith)**\n   - Purpose: Client Meeting\n   - Dates: 2024-08-01 to 2024-08-05\n   - Budget Limit: $3000\n   - Approval Status: Pending\n\n3. **Tokyo (Carol Lee)**\n   - Purpose: Research\n   - Dates: 2024-09-10 to 2024-09-20\n   - Budget Limit: $4500\n   - Approval Status: Approved\n\n4. **Toronto (David Wong)**\n   - Purpose: Internal Audit\n   - Dates: 2024-10-05 to 2024-10-15\n   - Budget Limit: $3500\n   - Approval Status: Rejected\n\n5. **Dubai (Eva Patel)**\n   - Purpose: Business Expo\n   - Dates: 2024-11-01 to 2024-11-10\n   - Budget Limit: $2000\n   - Approval Status: Approved"
     },
     "execution_count": 70,
     "metadata": {},
     "output_type": "execute_result"
    }
   ],
   "execution_count": 70
  },
  {
   "metadata": {},
   "cell_type": "code",
   "outputs": [],
   "execution_count": null,
   "source": "",
   "id": "420507ca698ebff3"
  }
 ],
 "metadata": {
  "kernelspec": {
   "display_name": "Python 3",
   "language": "python",
   "name": "python3"
  },
  "language_info": {
   "codemirror_mode": {
    "name": "ipython",
    "version": 2
   },
   "file_extension": ".py",
   "mimetype": "text/x-python",
   "name": "python",
   "nbconvert_exporter": "python",
   "pygments_lexer": "ipython2",
   "version": "2.7.6"
  }
 },
 "nbformat": 4,
 "nbformat_minor": 5
}
