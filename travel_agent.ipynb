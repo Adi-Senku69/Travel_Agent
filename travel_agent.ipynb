{
 "cells": [
  {
   "metadata": {
    "ExecuteTime": {
     "end_time": "2025-03-27T08:10:30.268218Z",
     "start_time": "2025-03-27T08:10:30.259080Z"
    }
   },
   "cell_type": "code",
   "source": [
    "from langchain.memory import summary\n",
    "from langchain_core.prompts import ChatPromptTemplate\n",
    "from langchain_openai import ChatOpenAI\n",
    "from langgraph.constants import START, END\n",
    "from langgraph.graph import StateGraph, MessagesState\n",
    "from pydantic import BaseModel, Field\n",
    "from operator import add\n",
    "import requests\n",
    "from datetime import datetime\n",
    "from serpapi import GoogleSearch\n",
    "from langgraph.prebuilt import tools_condition, ToolNode\n",
    "from langchain_core.tools import tool\n",
    "from trustcall import create_extractor\n",
    "from typing import TypedDict, Literal\n",
    "from langchain_core.runnables.config import RunnableConfig\n",
    "from langchain_core.messages import SystemMessage, HumanMessage, AIMessage, RemoveMessage, ToolMessage\n",
    "from langgraph.store.base import BaseStore\n",
    "from langgraph.checkpoint.memory import MemorySaver\n",
    "from langgraph.store.memory import InMemoryStore\n",
    "from IPython.display import Markdown, Image, display\n",
    "from dotenv import dotenv_values\n",
    "from pypdf import PdfReader\n",
    "import json\n",
    "import pandas as pd\n",
    "import os\n",
    "\n",
    "from typing_extensions import Optional"
   ],
   "id": "f6a2a04f2223e9ff",
   "outputs": [],
   "execution_count": 33
  },
  {
   "metadata": {
    "ExecuteTime": {
     "end_time": "2025-03-27T08:10:30.481499Z",
     "start_time": "2025-03-27T08:10:30.467007Z"
    }
   },
   "cell_type": "code",
   "source": [
    "env_values = {**dotenv_values(\".env.shared\"), **dotenv_values(\".env.secret\")}\n",
    "\n",
    "os.environ[\"LANGSMITH_TRACING\"] = env_values[\"LANGSMITH_TRACING\"]\n",
    "os.environ[\"LANGSMITH_ENDPOINT\"] = env_values[\"LANGSMITH_ENDPOINT\"]\n",
    "os.environ[\"LANGSMITH_API_KEY\"] = env_values[\"LANGSMITH_API_KEY\"]\n",
    "os.environ[\"LANGSMITH_PROJECT\"] = env_values[\"LANGSMITH_PROJECT\"]\n",
    "os.environ[\"OPENAI_API_KEY\"] = env_values[\"OPENAI_API_KEY\"]"
   ],
   "id": "97e0eb44bcd30761",
   "outputs": [],
   "execution_count": 34
  },
  {
   "metadata": {},
   "cell_type": "markdown",
   "source": "## Summarization graph",
   "id": "9c997f15272102ff"
  },
  {
   "metadata": {},
   "cell_type": "code",
   "outputs": [],
   "execution_count": null,
   "source": "PATH_TO_FILES = \"./Data\"",
   "id": "9e10da20b82dc58d"
  },
  {
   "metadata": {},
   "cell_type": "code",
   "outputs": [],
   "execution_count": null,
   "source": [
    "def read_csv_xlsx(path: str) -> str:\n",
    "    if path.endswith(\".xlsx\"):\n",
    "        df = pd.read_excel(path)\n",
    "        return df.to_string(index=False)\n",
    "    else:\n",
    "        df = pd.read_csv(path)\n",
    "        return df.to_string(index=False)\n",
    "\n",
    "def read_pdf(path: str) -> str:\n",
    "    with open(path, \"rb\") as f:\n",
    "        reader = PdfReader(f)\n",
    "        text = \"\"\n",
    "        for page in reader.pages:\n",
    "            text += page.extractText()\n",
    "\n",
    "    return text\n",
    "\n",
    "def read_docs():\n",
    "    dirs = os.listdir(PATH_TO_FILES)\n",
    "    text = \"\"\n",
    "    for dir in dirs:\n",
    "        files = os.listdir(os.path.join(PATH_TO_FILES, dir))\n",
    "        for file in files:\n",
    "            if not file.endswith(\".pdf\"):\n",
    "                text += read_csv_xlsx(os.path.join(os.path.join(PATH_TO_FILES, dir), file))\n",
    "            else:\n",
    "                text += read_pdf(os.path.join(os.path.join(PATH_TO_FILES, dir), file))\n",
    "\n",
    "    return text"
   ],
   "id": "d7469c4acbe08c11"
  },
  {
   "metadata": {},
   "cell_type": "code",
   "outputs": [],
   "execution_count": null,
   "source": "test = read_docs()",
   "id": "8eb019b8d4f81233"
  },
  {
   "metadata": {},
   "cell_type": "code",
   "outputs": [],
   "execution_count": null,
   "source": "llm = ChatOpenAI(model=\"gpt-4o\", temperature=0.4, top_p=0.38)",
   "id": "ba04ed8331048306"
  },
  {
   "metadata": {},
   "cell_type": "code",
   "outputs": [],
   "execution_count": null,
   "source": [
    "summarization_prompt = ChatPromptTemplate.from_messages([\n",
    "    (\"system\", \"You are a travel assistant. Help in summarizing the employee profiles, the organizational rules and the travel requirements. Ignore any IDs\"),\n",
    "    (\"human\", \"Summarize this {input}\")\n",
    "])"
   ],
   "id": "1d36d41071f07344"
  },
  {
   "metadata": {},
   "cell_type": "code",
   "outputs": [],
   "execution_count": null,
   "source": "runnable_summarization = summarization_prompt | llm",
   "id": "dee6983ba6c56e60"
  },
  {
   "metadata": {},
   "cell_type": "code",
   "outputs": [],
   "execution_count": null,
   "source": "output = runnable_summarization.invoke({'input': test}).content",
   "id": "567e9ae6226e7746"
  },
  {
   "metadata": {},
   "cell_type": "code",
   "outputs": [],
   "execution_count": null,
   "source": "Markdown(output)",
   "id": "347d665ca32526dc"
  },
  {
   "metadata": {},
   "cell_type": "markdown",
   "source": "### Creation of the summary graph",
   "id": "88718515b478c9fa"
  },
  {
   "metadata": {
    "ExecuteTime": {
     "end_time": "2025-03-27T08:12:42.853649Z",
     "start_time": "2025-03-27T08:12:41.702Z"
    }
   },
   "cell_type": "code",
   "source": "llm = ChatOpenAI(model=\"gpt-4o\", temperature=0, top_p=0.38)",
   "id": "df2a5c5d5e625043",
   "outputs": [],
   "execution_count": 35
  },
  {
   "metadata": {},
   "cell_type": "markdown",
   "source": "#### States",
   "id": "580a332b7fd11002"
  },
  {
   "metadata": {
    "ExecuteTime": {
     "end_time": "2025-03-27T08:12:42.863060Z",
     "start_time": "2025-03-27T08:12:42.858013Z"
    }
   },
   "cell_type": "code",
   "source": [
    "class SummaryGraphInput(TypedDict):\n",
    "    summary: str\n",
    "    text: str\n",
    "\n",
    "class SummaryGraphOutput(TypedDict):\n",
    "    summary_graph: str\n"
   ],
   "id": "ae6f28d9f1eae248",
   "outputs": [],
   "execution_count": 36
  },
  {
   "metadata": {},
   "cell_type": "markdown",
   "source": "#### Utils",
   "id": "daa352bffe5e4fc"
  },
  {
   "metadata": {
    "ExecuteTime": {
     "end_time": "2025-03-27T08:12:42.878018Z",
     "start_time": "2025-03-27T08:12:42.873297Z"
    }
   },
   "cell_type": "code",
   "source": [
    "def read_csv_xlsx(path: str) -> str:\n",
    "    if path.endswith(\".xlsx\"):\n",
    "        df = pd.read_excel(path)\n",
    "        return df.to_string(index=False)\n",
    "    else:\n",
    "        df = pd.read_csv(path)\n",
    "        return df.to_string(index=False)\n",
    "\n",
    "def read_pdf(path: str) -> str:\n",
    "    with open(path, \"rb\") as f:\n",
    "        reader = PdfReader(f)\n",
    "        text = \"\"\n",
    "        for page in reader.pages:\n",
    "            text += page.extractText()\n",
    "\n",
    "    return text"
   ],
   "id": "9ac36c6c76054a49",
   "outputs": [],
   "execution_count": 37
  },
  {
   "metadata": {},
   "cell_type": "markdown",
   "source": "#### Prompts",
   "id": "6e4363718683949"
  },
  {
   "metadata": {
    "ExecuteTime": {
     "end_time": "2025-03-27T08:12:42.889265Z",
     "start_time": "2025-03-27T08:12:42.885374Z"
    }
   },
   "cell_type": "code",
   "source": [
    "summarization_prompt = ChatPromptTemplate.from_messages([\n",
    "    (\"system\", \"You are a travel assistant. Help in summarizing the employee profiles, the organizational rules and the travel requirements. Add the employee IDs also. Ignore any other IDs. Do not provide the output in any font or styles. Provide the summary in a neat structured format.\"),\n",
    "    (\"human\", \"Summarize this {input}\")\n",
    "])"
   ],
   "id": "79dc2e4c1de5f079",
   "outputs": [],
   "execution_count": 38
  },
  {
   "metadata": {},
   "cell_type": "markdown",
   "source": "#### Nodes",
   "id": "4fd4e48a05df9275"
  },
  {
   "metadata": {
    "ExecuteTime": {
     "end_time": "2025-03-27T08:12:43.394123Z",
     "start_time": "2025-03-27T08:12:43.377090Z"
    }
   },
   "cell_type": "code",
   "source": [
    "def read_docs(state: SummaryGraphInput):\n",
    "    PATH_TO_FILES = \"./Data\"\n",
    "    dirs = os.listdir(PATH_TO_FILES)\n",
    "    text = \"\"\n",
    "    for dir in dirs:\n",
    "        files = os.listdir(os.path.join(PATH_TO_FILES, dir))\n",
    "        for file in files:\n",
    "            if not file.endswith(\".pdf\"):\n",
    "                text += read_csv_xlsx(os.path.join(os.path.join(PATH_TO_FILES, dir), file))\n",
    "            else:\n",
    "                text += read_pdf(os.path.join(os.path.join(PATH_TO_FILES, dir), file))\n",
    "\n",
    "    return {'text': text}"
   ],
   "id": "b8e4617ebd40cf93",
   "outputs": [],
   "execution_count": 39
  },
  {
   "metadata": {
    "ExecuteTime": {
     "end_time": "2025-03-27T08:12:43.813383Z",
     "start_time": "2025-03-27T08:12:43.806118Z"
    }
   },
   "cell_type": "code",
   "source": [
    "def summarize(state: SummaryGraphInput):\n",
    "    text = state['text']\n",
    "    runnable_summarization = summarization_prompt | llm\n",
    "    output = runnable_summarization.invoke({'input': text}).content\n",
    "    with open(\"./summary/summary.txt\", \"w\") as f:\n",
    "        f.write(output)\n",
    "    return {'summary_graph': output}"
   ],
   "id": "49d07b61aa4a3519",
   "outputs": [],
   "execution_count": 40
  },
  {
   "metadata": {
    "ExecuteTime": {
     "end_time": "2025-03-27T08:12:44.215683Z",
     "start_time": "2025-03-27T08:12:44.203605Z"
    }
   },
   "cell_type": "code",
   "source": [
    "graph_summarizer_builder = StateGraph(SummaryGraphInput, output=SummaryGraphOutput)\n",
    "\n",
    "graph_summarizer_builder.add_node(\"read documents\", read_docs)\n",
    "graph_summarizer_builder.add_node(\"summarize documents\", summarize)\n",
    "\n",
    "graph_summarizer_builder.add_edge(START, \"read documents\")\n",
    "graph_summarizer_builder.add_edge(\"read documents\", \"summarize documents\")\n",
    "graph_summarizer_builder.add_edge(\"summarize documents\", END)\n",
    "\n",
    "memory = MemorySaver()\n",
    "graph_summarizer = graph_summarizer_builder.compile()"
   ],
   "id": "c27e61b51dde9f0",
   "outputs": [],
   "execution_count": 41
  },
  {
   "metadata": {},
   "cell_type": "code",
   "outputs": [],
   "execution_count": null,
   "source": "display(Image(graph_summarizer.get_graph().draw_mermaid_png()))",
   "id": "8c5d1cf81439090b"
  },
  {
   "metadata": {},
   "cell_type": "code",
   "outputs": [],
   "execution_count": null,
   "source": "Markdown(graph_summarizer.invoke({}, config={'configurable': {'thread_id': \"summarizer_4\"}})['summary_graph'])",
   "id": "7e4d1669e9dc1c07"
  },
  {
   "metadata": {},
   "cell_type": "markdown",
   "source": "## Travel Agent AI",
   "id": "a76e84daeaf49751"
  },
  {
   "metadata": {},
   "cell_type": "markdown",
   "source": "### Creation of the graph",
   "id": "e083fb9390497a81"
  },
  {
   "metadata": {},
   "cell_type": "markdown",
   "source": "#### Output Formats",
   "id": "548c61293babfc39"
  },
  {
   "metadata": {
    "ExecuteTime": {
     "end_time": "2025-03-27T08:55:30.015213Z",
     "start_time": "2025-03-27T08:55:29.999017Z"
    }
   },
   "cell_type": "code",
   "source": [
    "class Profile(BaseModel):\n",
    "    travel_history: str = Field(description=\"The travel history of the employee.\")\n",
    "    preferences: str = Field(description=\"The preferences s (airlines, hotels, window/aisle, meal choice, etc.) of the employee.\")\n",
    "    role_specific_permissions: str = Field(description=\"The roles specific to this employee.\")\n",
    "    likes: str | None = Field(description=\"The likes of the employee.\")\n",
    "    dislikes: str | None = Field(description=\"The dislikes of the employee.\")\n",
    "    flight: str | None = Field(description=\"The flight details of the flight which the employee is taking.\")\n",
    "    hotel: str | None = Field(description=\"The hotel which the employee is staying.\")\n",
    "\n",
    "class TravelRequirements(BaseModel):\n",
    "    destination: str = Field(description=\"The destination of travel the employee.\")\n",
    "    source: str | None = Field(description=\"The place from which the employee will start travelling\")\n",
    "    purpose: Literal['leisure', 'business'] = Field(description=\"The purpose of travel the employee.\")\n",
    "    date_of_departure: str = Field(description=\"The date of departure of the employee.\")\n",
    "    date_of_arrival: str = Field(description=\"The date of arrival of the employee.\")\n",
    "    duration: str = Field(description=\"The duration of travel the employee.\")\n",
    "\n",
    "class OrganizationalRules(BaseModel):\n",
    "    travel_budgets: str = Field(description=\"The travel budgets of the organization for each cadre of employee\")\n",
    "    approval_hierarchies: str= Field(description=\"The approval hierarchies for each employee.\")\n",
    "    preferred_vendors: str = Field(description=\"The preferred vendors for the organization.\")\n",
    "    visa_requirements: str = Field(description=\"The type of visa requirements for the travel.\")\n",
    "\n",
    "class Traveller(BaseModel):\n",
    "    name: str = Field(description=\"The name of the employee.\")\n",
    "    employee_id: str = Field(description=\"The ID of the employee.\")\n",
    "    profile: Profile = Field(description=\"The profile of the employee.\")\n",
    "    travel_requirements: TravelRequirements = Field(description=\"The travel requirements for the employee.\")\n",
    "    organizational_rules: OrganizationalRules = Field(description=\"The organizational rules for the employee.\")\n",
    "\n",
    "class Travellers(BaseModel):\n",
    "    travellers: list[Traveller] = Field(description=\"The list of travellers.\")\n"
   ],
   "id": "6f257a742bf1aeb9",
   "outputs": [],
   "execution_count": 171
  },
  {
   "metadata": {
    "ExecuteTime": {
     "end_time": "2025-03-27T08:55:30.207140Z",
     "start_time": "2025-03-27T08:55:30.199973Z"
    }
   },
   "cell_type": "code",
   "source": "from pprint import pprint",
   "id": "c7044218f3f84c46",
   "outputs": [],
   "execution_count": 172
  },
  {
   "metadata": {
    "ExecuteTime": {
     "end_time": "2025-03-27T08:55:31.899204Z",
     "start_time": "2025-03-27T08:55:30.683317Z"
    }
   },
   "cell_type": "code",
   "source": [
    "llm = ChatOpenAI(model=\"gpt-4o\", temperature=0)\n",
    "\n",
    "trustcall_extractor = create_extractor(\n",
    "    llm,\n",
    "    tools=[Travellers],\n",
    "    tool_choice=\"Travellers\"\n",
    ")"
   ],
   "id": "50c0814fe12b31ba",
   "outputs": [],
   "execution_count": 173
  },
  {
   "metadata": {},
   "cell_type": "code",
   "outputs": [],
   "execution_count": null,
   "source": [
    "with open(\"./summary/summary.txt\", \"r\") as f:\n",
    "    data = f.read()"
   ],
   "id": "f421da19235e52f"
  },
  {
   "metadata": {},
   "cell_type": "code",
   "outputs": [],
   "execution_count": null,
   "source": [
    "system_msg = \"Extract the profiles of all employees from the given data. {data}\"\n",
    "trustcaller_system_message = SystemMessage(content=system_msg.format(data=data))"
   ],
   "id": "db975484a7cfd2e1"
  },
  {
   "metadata": {},
   "cell_type": "code",
   "outputs": [],
   "execution_count": null,
   "source": "result = trustcall_extractor.invoke({\"messages\": [trustcaller_system_message]})",
   "id": "fcd2fa7cbeeb943e"
  },
  {
   "metadata": {},
   "cell_type": "code",
   "outputs": [],
   "execution_count": null,
   "source": "schema = result['responses']",
   "id": "3473790f01824f06"
  },
  {
   "metadata": {},
   "cell_type": "code",
   "outputs": [],
   "execution_count": null,
   "source": "schema[0].model_dump()",
   "id": "fa47e50a0aae42e6"
  },
  {
   "metadata": {},
   "cell_type": "code",
   "outputs": [],
   "execution_count": null,
   "source": "travellers =  result[\"messages\"][0].tool_calls[0]['args']['travellers']",
   "id": "764c9a1bfb47a7d6"
  },
  {
   "metadata": {},
   "cell_type": "code",
   "outputs": [],
   "execution_count": null,
   "source": [
    "in_mem_store = InMemoryStore()\n",
    "\n",
    "\n",
    "for traveller in travellers:\n",
    "    key = traveller.get(\"employee_id\", None)\n",
    "    if key is not None:\n",
    "        namespace = (\"memory\", key.lower())\n",
    "        in_mem_store.put(namespace, \"traveler\", traveller)\n"
   ],
   "id": "802c872982e10cf8"
  },
  {
   "metadata": {},
   "cell_type": "code",
   "outputs": [],
   "execution_count": null,
   "source": [
    "for m in in_mem_store.search((\"memory\", \"1001\")):\n",
    "    pprint(m)"
   ],
   "id": "63d593f6d3fcd130"
  },
  {
   "metadata": {},
   "cell_type": "code",
   "outputs": [],
   "execution_count": null,
   "source": "",
   "id": "9697fde6b8c5a8d2"
  },
  {
   "metadata": {},
   "cell_type": "markdown",
   "source": "#### States",
   "id": "553dc5de67519006"
  },
  {
   "metadata": {
    "ExecuteTime": {
     "end_time": "2025-03-27T08:12:50.169063Z",
     "start_time": "2025-03-27T08:12:50.162284Z"
    }
   },
   "cell_type": "code",
   "source": [
    "class TravelAgent(MessagesState):\n",
    "    profile: Traveller\n",
    "    output: str\n",
    "    prompt: str\n",
    "    summary: str\n",
    "    flight_data: str\n",
    "    hotel_data: str\n",
    "    weather_data: str\n",
    "    summary_graph: str\n",
    "    user_specification: str"
   ],
   "id": "5a861608e388c8fc",
   "outputs": [],
   "execution_count": 43
  },
  {
   "metadata": {
    "ExecuteTime": {
     "end_time": "2025-03-27T08:12:50.430854Z",
     "start_time": "2025-03-27T08:12:50.425689Z"
    }
   },
   "cell_type": "code",
   "source": [
    "class ToolCalls(TypedDict):\n",
    "    tools: Literal['flight', 'traffic', 'weather', 'hotel']"
   ],
   "id": "9de5c9f45c257e3",
   "outputs": [],
   "execution_count": 44
  },
  {
   "metadata": {},
   "cell_type": "markdown",
   "source": "#### Prompts",
   "id": "d9bb4293c406cbdb"
  },
  {
   "metadata": {},
   "cell_type": "markdown",
   "source": "#### Create Nodes",
   "id": "5be958dbb187b717"
  },
  {
   "metadata": {
    "ExecuteTime": {
     "end_time": "2025-03-27T08:12:51.468362Z",
     "start_time": "2025-03-27T08:12:51.451911Z"
    }
   },
   "cell_type": "code",
   "source": [
    "def add_travellers(state: TravelAgent, store:BaseStore):\n",
    "    with open(\"./summary/summary.txt\", \"r\") as f:\n",
    "        data = f.read()\n",
    "    trustcall_extractor = create_extractor(\n",
    "    llm,\n",
    "    tools=[Travellers],\n",
    "    tool_choice=\"Travellers\")\n",
    "    system_msg = \"Extract the profiles of all employees from the given data. {data}\"\n",
    "    trustcaller_system_message = SystemMessage(content=system_msg.format(data=data))\n",
    "    result = trustcall_extractor.invoke({\"messages\": [trustcaller_system_message]})\n",
    "    travellers =  result[\"messages\"][0].tool_calls[0]['args']['travellers']\n",
    "    for traveller in travellers:\n",
    "        key = traveller.get(\"employee_id\", None)\n",
    "        if key is not None:\n",
    "            namespace = (\"memory\", key.lower())\n",
    "            store.put(namespace, \"traveler\", traveller)\n",
    "    return state\n"
   ],
   "id": "6b779aeb65f2acdb",
   "outputs": [],
   "execution_count": 45
  },
  {
   "metadata": {
    "ExecuteTime": {
     "end_time": "2025-03-27T08:17:40.802561Z",
     "start_time": "2025-03-27T08:17:40.791709Z"
    }
   },
   "cell_type": "code",
   "source": [
    "def read_profile(state: TravelAgent, config: RunnableConfig, store: BaseStore):\n",
    "    id = config['configurable']['user_id']\n",
    "    namespace = (\"memory\", id)\n",
    "    user_specification = state.get('user_specification')\n",
    "    profile = store.get(namespace, \"traveler\")\n",
    "    if user_specification is not None and profile is not None:\n",
    "        extractor = create_extractor(\n",
    "            llm,\n",
    "            tools=[Traveller],\n",
    "            tool_choice=\"Traveller\"\n",
    "        )\n",
    "        result = extractor.invoke({\"messages\": [(\"system\", \"Update the travel specification.\"), (\"human\", user_specification)], 'existing': {\"Traveller\": profile}})\n",
    "        updated_profile = result['responses'][0].model_dump()\n",
    "        state['profile'] = updated_profile\n",
    "        store.put(namespace, \"traveller\", updated_profile)\n",
    "        return state\n",
    "    state['profile'] = profile.value\n",
    "    print(f\"PROFILE:{profile.value}\")\n",
    "    return state"
   ],
   "id": "77b62c1e3c0c7d05",
   "outputs": [],
   "execution_count": 68
  },
  {
   "metadata": {
    "ExecuteTime": {
     "end_time": "2025-03-27T08:17:40.925934Z",
     "start_time": "2025-03-27T08:17:40.919073Z"
    }
   },
   "cell_type": "code",
   "source": [
    "def to_create_profile(state: TravelAgent, store: BaseStore, config: RunnableConfig):\n",
    "    file_path = \"./summary/summary.txt\"\n",
    "    if os.path.exists(file_path) and os.stat(file_path).st_size == 0:\n",
    "        return \"summary graph\"\n",
    "    elif not store.search(('memory', config['configurable']['user_id'])):\n",
    "        return \"add travellers\"\n",
    "    else:\n",
    "        return \"read profile\""
   ],
   "id": "90fc49feef32f96b",
   "outputs": [],
   "execution_count": 69
  },
  {
   "metadata": {
    "ExecuteTime": {
     "end_time": "2025-03-27T08:17:41.036325Z",
     "start_time": "2025-03-27T08:17:41.029187Z"
    }
   },
   "cell_type": "code",
   "source": [
    "def check_profiles(state: TravelAgent):\n",
    "    profile = state['profile']\n",
    "    if profile is None:\n",
    "        return END\n",
    "    else:\n",
    "        return \"chatbot\"\n"
   ],
   "id": "64582c66e3966ca3",
   "outputs": [],
   "execution_count": 70
  },
  {
   "metadata": {
    "ExecuteTime": {
     "end_time": "2025-03-27T08:28:12.009416Z",
     "start_time": "2025-03-27T08:28:11.999123Z"
    }
   },
   "cell_type": "code",
   "source": [
    "def route_ai(state: TravelAgent):\n",
    "    messages = state['messages']\n",
    "    count = 0\n",
    "    for message in messages:\n",
    "        if isinstance(message, AIMessage) and count < 10:\n",
    "            if message.content:\n",
    "                count += 1\n",
    "    print(count)\n",
    "    if count >= 10:\n",
    "        return \"summarizer and updater\"\n",
    "    else:\n",
    "        return END"
   ],
   "id": "f1b02997a3d78ff5",
   "outputs": [],
   "execution_count": 124
  },
  {
   "metadata": {
    "ExecuteTime": {
     "end_time": "2025-03-27T08:28:12.179468Z",
     "start_time": "2025-03-27T08:28:12.173960Z"
    }
   },
   "cell_type": "code",
   "source": "TRUSTCALL_INSTRUCTION = \"\"\"Create or update the memory (JSON doc) to incorporate information from the following conversation only if necessary. Do not change the organization rules. If no changes are necessary then return None\"\"\"",
   "id": "8efe84aab07a7a32",
   "outputs": [],
   "execution_count": 125
  },
  {
   "metadata": {
    "ExecuteTime": {
     "end_time": "2025-03-27T08:28:12.324059Z",
     "start_time": "2025-03-27T08:28:12.315464Z"
    }
   },
   "cell_type": "code",
   "source": [
    "def summarizer_and_updater(state: TravelAgent, config: RunnableConfig, store: BaseStore):\n",
    "    messages = state['messages']\n",
    "    summarization_prompt = ChatPromptTemplate.from_messages([\n",
    "    (\"system\", \"\"\"You are an assistant, who helps in summarizing the conversation.\n",
    "    Conversation: {messages}\"\"\"),\n",
    "    (\"human\", \"Summarize the conversation\")\n",
    "])\n",
    "    runnable_summarizer = summarization_prompt | llm\n",
    "    extractor = create_extractor(\n",
    "        llm,\n",
    "        tools=[Traveller],\n",
    "        tool_choice=\"Traveller\"\n",
    "    )\n",
    "    summary = state.get('summary', \"\")\n",
    "    output = runnable_summarizer.invoke({'messages': messages}).content\n",
    "    summary += output\n",
    "    deleted_messages = [RemoveMessage(id=message.id) for message in messages[:-4]]\n",
    "    profile = state['profile']\n",
    "    json_profile = {\"Traveller\": profile}\n",
    "\n",
    "    result = extractor.invoke({\"messages\": [SystemMessage(content=TRUSTCALL_INSTRUCTION)] + messages, 'existing': json_profile})\n",
    "    updated_profile = result['responses'][0].model_dump()\n",
    "    store.put((\"memory\", config['configurable']['user_id']), 'traveler', updated_profile)\n",
    "    state['summary'] = summary\n",
    "    state['messages'] = deleted_messages\n",
    "    return state"
   ],
   "id": "3d82fd74ed4b1a6",
   "outputs": [],
   "execution_count": 126
  },
  {
   "metadata": {
    "ExecuteTime": {
     "end_time": "2025-03-27T08:59:04.507383Z",
     "start_time": "2025-03-27T08:59:04.497428Z"
    }
   },
   "cell_type": "code",
   "source": [
    "chatbot_prompt = ChatPromptTemplate.from_messages([\n",
    "    (\"system\", \"\"\"You are a travel assistant. Help answer questions based on the profile. Analyze the profile and give relevant suggestions according to the profile.\n",
    "    The order of precedence for suggestions is likes, dislikes and then preferences. Adhere to the organizational rules for budget and other corporate matters.\n",
    "    The itinerary must be in a well structured format with the most likely to visit places first. Do not provide more than 5 suggestions. Take into account if there is any meetings when providing the time for leisure activities. You are essentially a travel concierge.\n",
    "    If there is some ambiguity in the question posed by the user, analyze the history to make some inferences, if that also does not work then ask a follow up question to rectify the ambiguity.\n",
    "    Behave like a concierge, providing follow up suggestions after providing the answer. Provide emoji's in the output.\n",
    "\n",
    "    Tool Call Instructions:\n",
    "    Analyze the travel requirements carefully.\n",
    "    To retrieve the flight data, use the flight_data tool call. The parameters of this tool, must first be generated from the prompt and then the travel requirements in the profile, and then if there is some ambiguity, clarify with the user. Use the current date and time to make real time booking suggestions. Make sure to adhere to all the organizational rules. When using departure token provide all the details including the departure token. If there are no flights, for the given query, then provide that as output and ask the user for clarification. For the return flight, unless the user specifies, use the date of departure as outbound date and keep the arrival date from 1-2 days from the outbound date.\n",
    "\n",
    "    To get hotel data, use the get_hotel_data tool, and all the parameters to this tool must be acquired from the prompt and the travel requirements and the user preferences and the organizational rules. Any ambiguity present, clarify with the user.\n",
    "\n",
    "    To get weather data, use the get_weather tool to get real time weather data. This tool can also forecast the weather for upto 3 days. Use this tool to account for the weather when generating itinerary, places to visit etc. if asked by the user. If the user asks to find the weather use this tool directly.\n",
    "\n",
    "    Action Instructions:\n",
    "    If for some reason a flight is canceled use the get_flight_data tool to get flight data, with the same arrival and departure id but new dates.\n",
    "    Do the same for hotel rebooking also by using get_hotel_data tool.\n",
    "\n",
    "\n",
    "    Answer questions only related to travelling.\n",
    "    Use the current date and time for real time suggestions. This is the current date and time: {date_time}\n",
    "    Summary of the conversation (can be empty also): {summary}\n",
    "    Reply from the tools for tool calls(can be empty also). If the reply from the tools is 'There are no such flights for the given criteria.' Then return do not perform any more tool calls: {reply}\n",
    "    If there is a reply from the tool calls, then provide the output based on the reply from the tool.\n",
    "    Profile: {profile}\n",
    "    Organization Rules: {organization}\n",
    "    Travel Requirements: {travel_requirements}\n",
    "    \"\"\"),\n",
    "    (\"placeholder\", \"{messages}\"),\n",
    "    (\"human\", \"{input}\")\n",
    "\n",
    "])"
   ],
   "id": "b8781262191a9366",
   "outputs": [],
   "execution_count": 176
  },
  {
   "metadata": {
    "ExecuteTime": {
     "end_time": "2025-03-27T08:59:04.740028Z",
     "start_time": "2025-03-27T08:59:04.731217Z"
    }
   },
   "cell_type": "code",
   "source": [
    "def chatbot(state: TravelAgent):\n",
    "    prompt = state['prompt']\n",
    "    summary = state.get('summary', \"\")\n",
    "    profile = state['profile']\n",
    "    messages = state['messages']\n",
    "    date_time = datetime.now()\n",
    "    formatted_date_time = date_time.strftime(\"%Y-%m-%d %H:%M:%S\")\n",
    "    reply = state.get(\"flight_data\", \"\")\n",
    "        # print(\"Inside\")\n",
    "    last_instance = messages[-1]\n",
    "    if isinstance(last_instance, ToolMessage):\n",
    "        if messages[-2].tool_calls[0]['name'] == \"get_flight_data\":\n",
    "            if  \"error\" not in last_instance.content.lower():\n",
    "                reply = last_instance.content\n",
    "                if 'There are no such flights for the given criteria.' in reply:\n",
    "                    state['output'] = reply\n",
    "                    state['messages'] = [(\"ai\", reply)]\n",
    "                    return state\n",
    "                state['flight_data'] = reply\n",
    "        elif messages[-2].tool_calls[0]['name'] == \"get_hotel_data\":\n",
    "            reply = last_instance.content\n",
    "            state['hotel_data'] = reply\n",
    "        elif messages[-2].tool_calls[0]['name'] == \"get_weather\":\n",
    "            reply = last_instance.content\n",
    "            state['weather_data'] = reply\n",
    "\n",
    "        messages.pop()\n",
    "        messages.pop()\n",
    "    # print(summary)\n",
    "    runnable_chatbot = chatbot_prompt | llm.bind_tools(tools, parallel_tool_calls=False)\n",
    "    output = runnable_chatbot.invoke({'input': prompt, 'summary': summary, \"profile\": str({\"name\": profile['name'] , \"profile\":profile['profile']}), \"reply\": reply, 'messages': messages, 'date_time': formatted_date_time, 'organization': profile['organizational_rules'], 'travel_requirements': profile['travel_requirements']})\n",
    "    state['output'] = output.content\n",
    "    state['messages'] = [output]\n",
    "    return state"
   ],
   "id": "9cf67a29d391183c",
   "outputs": [],
   "execution_count": 177
  },
  {
   "metadata": {
    "ExecuteTime": {
     "end_time": "2025-03-27T08:59:04.944211Z",
     "start_time": "2025-03-27T08:59:04.936619Z"
    }
   },
   "cell_type": "code",
   "source": [
    "def route_to_update(state: TravelAgent):\n",
    "    prompt = state['prompt']\n",
    "    system_msg = \"If the user provides some personal preferences, likes or dislikes, or something related to travel requirements such as destination, duration of the trip, type of trip, flight taken, hotel staying at, etc. then return 'true', else return 'false'. Do not provide any explanations.\"\n",
    "    template = ChatPromptTemplate.from_messages([\n",
    "        (\"system\", system_msg),\n",
    "        (\"human\", prompt)\n",
    "    ])\n",
    "    runnable_template = template | llm\n",
    "    output = runnable_template.invoke({}).content\n",
    "    if \"true\" in output:\n",
    "        return \"update profile\"\n",
    "    else:\n",
    "        return END"
   ],
   "id": "c2cc4b1d05a65117",
   "outputs": [],
   "execution_count": 178
  },
  {
   "metadata": {
    "ExecuteTime": {
     "end_time": "2025-03-27T09:17:48.536298Z",
     "start_time": "2025-03-27T09:17:48.526605Z"
    }
   },
   "cell_type": "code",
   "source": [
    "def update_profile(state: TravelAgent, store:BaseStore):\n",
    "    prompt = state['prompt']\n",
    "    profile = state['profile']\n",
    "    json_profile = {\"Traveller\": profile}\n",
    "\n",
    "    trustcall_system_msg = \"Update the profile based on based on the prompt. Update the dates if the user specifies a date. Update the places of stay and the flight taken also if needed.\"\n",
    "    extractor = create_extractor(\n",
    "        llm,\n",
    "        tools=[Traveller],\n",
    "        tool_choice='Traveller',\n",
    "    )\n",
    "    flight = profile.get('flight')\n",
    "    hotel = profile.get('hotel')\n",
    "    if flight is not None and hotel is not None:\n",
    "        result = extractor.invoke({'messages':[(\"system\", trustcall_system_msg),(\"human\", prompt + state['flight_data'] + \"Save the flight number\" + state['hotel_data'])], 'existing': json_profile})\n",
    "    elif flight is not None:\n",
    "        result = extractor.invoke({'messages':[(\"system\", trustcall_system_msg),(\"human\", prompt + state['flight_data'] + \"Save the flight number\")], 'existing': json_profile})\n",
    "    elif hotel is not None:\n",
    "        result = extractor.invoke({'messages':[(\"system\", trustcall_system_msg),(\"human\", prompt + state['hotel_data'])], 'existing': json_profile})\n",
    "    else:\n",
    "        result = extractor.invoke({'messages':[(\"system\", trustcall_system_msg),(\"human\", prompt)], 'existing': json_profile})\n",
    "\n",
    "    updated_profile = result['responses'][0].model_dump()\n",
    "    store.put((\"memory\", config['configurable']['user_id']), 'traveler', updated_profile)\n",
    "    state['profile'] = updated_profile\n",
    "    return state\n"
   ],
   "id": "47677ab082185bfe",
   "outputs": [],
   "execution_count": 199
  },
  {
   "metadata": {
    "ExecuteTime": {
     "end_time": "2025-03-27T09:17:48.991572Z",
     "start_time": "2025-03-27T09:17:48.967730Z"
    }
   },
   "cell_type": "code",
   "source": [
    "@tool\n",
    "def get_flight_data(departure_city:str, arrival_city:str, return_date:str | None, outbound_date:str, currency:str=\"USD\", type:str=\"2\", travel_class:str=\"1\", multi_city_json:str=None, adults:str=\"1\", children:str=\"0\", sort_by:str=\"1\", stops:str=\"0\", return_times:str=None, layover_duration:str=None, max_price:str=None, departure_token:str=None) -> dict:\n",
    "    \"\"\"\n",
    "    Fetch flight details using SerpAPI.\n",
    "\n",
    "    Parameters:\n",
    "    departure_id (str): Name of the departure city in IATA code (e.g., 'New York').\n",
    "    arrival_id (str): Name of the arrival city in IATA code (e.g., 'London').\n",
    "    retrun_date (str | None): Return date in YYYY-MM-DD format.\n",
    "    outbound_date (str): Departure date in YYYY-MM-DD format.\n",
    "    currency (str): Parameter defines the currency of the returned prices.\n",
    "    type (str): Parameter defines the type of the flights. Available options:\n",
    "\n",
    "        1 - Round trip (default)\n",
    "        2 - One way\n",
    "        3 - Multi-city\n",
    "\n",
    "\n",
    "    travel_class (str): Parameter defines the travel class.\n",
    "            Available options:\n",
    "            1 - Economy (default)\n",
    "            2 - Premium economy\n",
    "            3 - Business\n",
    "            4 - First\n",
    "\n",
    "    multi_city_json (dict): Parameter defines the flight information for multi-city flights. It's a JSON string containing multiple flight information objects. Each object should contain the following fields:\n",
    "\n",
    "departure_id - The departure airport code or location kgmid. The format is the same as the main departure_id parameter.\n",
    "arrival_id - The arrival airport code or location kgmid. The format is the same as the main arrival_id parameter.\n",
    "date - Flight date. The format is the same as the outbound_date parameter.\n",
    "times - Time range for the flight. The format is the same as the outbound_times parameter. This parameter is optional.\n",
    "\n",
    "Example:\n",
    "[{\"departure_id\":\"CDG\",\"arrival_id\":\"NRT\",\"date\":\"2025-04-01\"},{\"departure_id\":\"NRT\",\"arrival_id\":\"LAX,SEA\",\"date\":\"2025-04-08\"},{\"departure_id\":\"LAX,SEA\",\"arrival_id\":\"AUS\",\"date\":\"2025-04-15\",\"times\":\"8,18,9,23\"}]\n",
    "\n",
    "    adults (str): Number of adults\n",
    "    children (str): Number of children\n",
    "    sort_by (str): Parameter defines the sorting order of the results.\n",
    "            Available options:\n",
    "\n",
    "            1 - Top flights (default)\n",
    "            2 - Price\n",
    "            3 - Departure time\n",
    "            4 - Arrival time\n",
    "            5 - Duration\n",
    "            6 - Emissions\n",
    "    stops (str): Parameter defines the number of stops during the flight.\n",
    "                Available options:\n",
    "\n",
    "                0 - Any number of stops (default)\n",
    "                1 - Nonstop only\n",
    "                2 - 1 stop or fewer\n",
    "                3 - 2 stops or fewer\n",
    "    max_price (str): Maximum price of the ticket.\n",
    "    return_times (str): Parameter defines the return times range. It's a string containing two (for departure only) or four (for departure and arrival) comma-separated numbers. Each number represents the beginning of an hour. For example:\n",
    "\n",
    "        4,18: 4:00 AM - 7:00 PM departure\n",
    "        0,18: 12:00 AM - 7:00 PM departure\n",
    "        19,23: 7:00 PM - 12:00 AM departure\n",
    "        4,18,3,19: 4:00 AM - 7:00 PM departure, 3:00 AM - 8:00 PM arrival\n",
    "        0,23,3,19: unrestricted departure, 3:00 AM - 8:00 PM arrival\n",
    "\n",
    "    layover_duration (str): Parameter defines the layover duration, in minutes. It's a string containing two comma-separated numbers. For example, specify 90,330 for 1 hr 30 min - 5 hr 30 min.\n",
    "\n",
    "    departure_token (str): Used to get details of the return flight\n",
    "\n",
    "    Returns:\n",
    "    dict: Flight details if available, else an error message.\n",
    "\n",
    "    \"\"\"\n",
    "    cities_iata = {\n",
    "    \"new york\": \"JFK\",\n",
    "    \"los angeles\": \"LAX\",\n",
    "    \"chicago\": \"ORD\",\n",
    "    \"san francisco\": \"SFO\",\n",
    "    \"dallas\": \"DFW\",\n",
    "    \"miami\": \"MIA\",\n",
    "    \"atlanta\": \"ATL\",\n",
    "    \"london\": \"LHR\",\n",
    "    \"paris\": \"CDG\",\n",
    "    \"tokyo\": \"HND\",\n",
    "    \"dubai\": \"DXB\",\n",
    "    \"singapore\": \"SIN\",\n",
    "    \"hong kong\": \"HKG\",\n",
    "    \"sydney\": \"SYD\",\n",
    "    \"toronto\": \"YYZ\",\n",
    "    \"frankfurt\": \"FRA\",\n",
    "    \"amsterdam\": \"AMS\",\n",
    "    \"madrid\": \"MAD\",\n",
    "    \"beijing\": \"PEK\",\n",
    "    \"seoul\": \"ICN\",\n",
    "    \"bangkok\": \"BKK\",\n",
    "    \"rome\": \"FCO\",\n",
    "    \"istanbul\": \"IST\",\n",
    "    \"são paulo\": \"GRU\",\n",
    "    \"mexico city\": \"MEX\",\n",
    "    \"moscow\": \"SVO\",\n",
    "    \"delhi\": \"DEL\",\n",
    "    \"mumbai\": \"BOM\",\n",
    "    \"shanghai\": \"PVG\",\n",
    "    \"johannesburg\": \"JNB\",\n",
    "    \"bangalore\": \"BLR\",\n",
    "    \"berlin\": \"BER\",\n",
    "}\n",
    "\n",
    "    departure_id = cities_iata.get(departure_city.lower(), departure_city)\n",
    "    arrival_id = cities_iata.get(arrival_city.lower(), arrival_city)\n",
    "\n",
    "\n",
    "    params = {\n",
    "        \"engine\": \"google_flights\",\n",
    "        \"departure_id\": departure_id,\n",
    "        \"arrival_id\": arrival_id,\n",
    "        \"return_date\": return_date,\n",
    "        \"outbound_date\": outbound_date,\n",
    "        \"api_key\": env_values[\"SERP_API_KEY\"],\n",
    "        \"currency\": currency,\n",
    "        \"type\": type,\n",
    "        \"travel_class\": travel_class,\n",
    "        \"multi_city_json\": multi_city_json,\n",
    "        \"adults\": adults,\n",
    "        \"children\": children,\n",
    "        \"sort_by\": sort_by,\n",
    "        \"max_price\": max_price,\n",
    "        \"return_times\": return_times,\n",
    "        \"layover_duration\": layover_duration,\n",
    "        \"stops\": stops,\n",
    "        \"departure_token\": departure_token\n",
    "    }\n",
    "\n",
    "    try:\n",
    "        search = GoogleSearch(params)\n",
    "        results = search.get_dict()\n",
    "        results = results['best_flights'][:10]\n",
    "        print(results)\n",
    "        cleaned_flights = [clean_flight_data(flight) for flight in results]\n",
    "        tidy_json = json.dumps(cleaned_flights, indent=4)\n",
    "        # print(tidy_json)\n",
    "        return tidy_json\n",
    "    except Exception as e:\n",
    "        return \"There are no such flights for the given criteria.\"\n"
   ],
   "id": "d051f371724315ea",
   "outputs": [],
   "execution_count": 200
  },
  {
   "metadata": {
    "ExecuteTime": {
     "end_time": "2025-03-27T09:17:49.391275Z",
     "start_time": "2025-03-27T09:17:49.384635Z"
    }
   },
   "cell_type": "code",
   "source": [
    "def clean_flight_data(flight_data):\n",
    "    # Remove airline_logo and departure_token from the top-level dictionary\n",
    "    # flight_data.pop('departure_token', None)\n",
    "    flight_data.pop('airline_logo', None)\n",
    "\n",
    "    # Iterate through flights and remove airline_logo from each flight\n",
    "    for flight in flight_data.get('flights', []):\n",
    "        flight.pop('airline_logo', None)\n",
    "\n",
    "    return flight_data"
   ],
   "id": "44c7979809f48371",
   "outputs": [],
   "execution_count": 201
  },
  {
   "metadata": {
    "ExecuteTime": {
     "end_time": "2025-03-27T09:17:49.678021Z",
     "start_time": "2025-03-27T09:17:49.671525Z"
    }
   },
   "cell_type": "code",
   "source": "# get_flight_data(\"BLR\", \"DXB\", \"2025-03-29\", \"2025-03-27\")",
   "id": "62c0786419b87e93",
   "outputs": [],
   "execution_count": 202
  },
  {
   "metadata": {
    "ExecuteTime": {
     "end_time": "2025-03-27T09:17:49.965495Z",
     "start_time": "2025-03-27T09:17:49.956317Z"
    }
   },
   "cell_type": "code",
   "source": [
    "@tool\n",
    "def get_hotel_data(location: str, checkin_date: str, checkout_date: str, adults:str=\"1\", children:str=\"0\",\n",
    "                   rating:str=\"8\", hotel_class:str=\"4\"):\n",
    "    \"\"\"\n",
    "    Fetches hotel data from Google Hotels using SerpAPI.\n",
    "\n",
    "    :param location: City or location name\n",
    "    :param checkin_date: Check-in date in YYYY-MM-DD format\n",
    "    :param checkout_date: Check-out date in YYYY-MM-DD format\n",
    "    :param adults: Number of adults\n",
    "    :param children: Number of children\n",
    "    :param rating: Hotel rating\n",
    "    :param hotel_class: The number of stars of the hotel\n",
    "    :return: List of hotels with their details\n",
    "    \"\"\"\n",
    "    params = {\n",
    "        \"engine\": \"google_hotels\",\n",
    "        \"q\": location,\n",
    "        \"check_in_date\": checkin_date,\n",
    "        \"check_out_date\": checkout_date,\n",
    "        \"api_key\": env_values[\"SERP_API_KEY\"],\n",
    "        \"adults\": adults,\n",
    "        \"children\": children,\n",
    "        \"rating\": rating,\n",
    "        \"hotel_class\": hotel_class,\n",
    "    }\n",
    "\n",
    "    response = GoogleSearch(params)\n",
    "    data = response.get_dict()\n",
    "\n",
    "    hotels = []\n",
    "    # print(data)\n",
    "\n",
    "    if \"properties\" in data:\n",
    "        for hotel in data[\"properties\"]:\n",
    "            hotels.append({\n",
    "                \"name\": hotel.get(\"name\"),\n",
    "                \"price\": hotel.get(\"rate_per_night\"),\n",
    "                \"description\": hotel.get(\"description\"),\n",
    "                \"ratings\": hotel.get(\"overall_rating\"),\n",
    "                \"stars\": hotel.get(\"hotel_class\"),\n",
    "                \"check_in_time\": hotel.get(\"check_in_time\"),\n",
    "                \"check_out_time\": hotel.get(\"check_out_time\"),\n",
    "                \"link\": hotel.get(\"link\"),\n",
    "            })\n",
    "            # hotels.append(hotel)\n",
    "    else:\n",
    "        hotels = \"No results found.\"\n",
    "\n",
    "    return hotels\n",
    "\n"
   ],
   "id": "a6c181be2b8ff41b",
   "outputs": [],
   "execution_count": 203
  },
  {
   "metadata": {
    "ExecuteTime": {
     "end_time": "2025-03-27T09:17:50.401307Z",
     "start_time": "2025-03-27T09:17:50.388824Z"
    }
   },
   "cell_type": "code",
   "source": [
    "@tool\n",
    "def get_weather(city, days):\n",
    "    \"\"\"\n",
    "    Get weather from weather API.\n",
    "    :param city: The city name.\n",
    "    :param days: The number of days to forecast\n",
    "    :return: weather data.\n",
    "    \"\"\"\n",
    "# URLs for current weather and forecast\n",
    "    API_KEY = env_values['WEATHERAPI_KEY']\n",
    "    CURRENT_URL = f\"http://api.weatherapi.com/v1/current.json?key={API_KEY}&q={city}&aqi=no\"\n",
    "    FORECAST_URL = f\"http://api.weatherapi.com/v1/forecast.json?key={API_KEY}&q={city}&days={days}&aqi=no&alerts=no\"\n",
    "\n",
    "    output = \"\"\n",
    "    # Fetch Current Weather\n",
    "    current_response = requests.get(CURRENT_URL)\n",
    "    if current_response.status_code == 200:\n",
    "        current_data = current_response.json()\n",
    "        current_temp = current_data[\"current\"][\"temp_c\"]\n",
    "        condition = current_data[\"current\"][\"condition\"][\"text\"]\n",
    "        output += f\"Current Weather in {city}: {current_temp}°C, {condition}\\n\"\n",
    "    else:\n",
    "        output +=  f\"Error fetching current weather: {current_response.status_code}, {current_response.text}\"\n",
    "\n",
    "    # Fetch Forecast Weather\n",
    "    forecast_response = requests.get(FORECAST_URL)\n",
    "    if forecast_response.status_code == 200:\n",
    "        forecast_data = forecast_response.json()\n",
    "\n",
    "        print(\"\\nForecast:\")\n",
    "        for day in forecast_data[\"forecast\"][\"forecastday\"]:\n",
    "            date = day[\"date\"]\n",
    "            max_temp = day[\"day\"][\"maxtemp_c\"]\n",
    "            min_temp = day[\"day\"][\"mintemp_c\"]\n",
    "            condition = day[\"day\"][\"condition\"][\"text\"]\n",
    "            output += f\"{date}: {condition}, {min_temp}-{max_temp}°C\"\n",
    "    else:\n",
    "        output += f\"Error fetching forecast: {forecast_response.status_code}, {forecast_response.text}\"\n",
    "\n",
    "    return output\n"
   ],
   "id": "5bf6ad8c9919a695",
   "outputs": [],
   "execution_count": 204
  },
  {
   "metadata": {
    "ExecuteTime": {
     "end_time": "2025-03-27T09:17:50.883784Z",
     "start_time": "2025-03-27T09:17:50.876944Z"
    }
   },
   "cell_type": "code",
   "source": "tools = [get_flight_data, get_hotel_data, get_weather]",
   "id": "e87d4afd7ae5dcc3",
   "outputs": [],
   "execution_count": 205
  },
  {
   "metadata": {
    "ExecuteTime": {
     "end_time": "2025-03-27T09:17:51.298663Z",
     "start_time": "2025-03-27T09:17:51.291573Z"
    }
   },
   "cell_type": "code",
   "source": "tools_node = ToolNode(tools)",
   "id": "66c211547a87bf9c",
   "outputs": [],
   "execution_count": 206
  },
  {
   "metadata": {
    "ExecuteTime": {
     "end_time": "2025-03-27T08:59:08.186251Z",
     "start_time": "2025-03-27T08:59:08.171008Z"
    }
   },
   "cell_type": "code",
   "source": [
    "graph_chatbot_builder = StateGraph(TravelAgent)\n",
    "\n",
    "graph_chatbot_builder.add_node(\"read profile\", read_profile)\n",
    "graph_chatbot_builder.add_node(\"summary graph\", graph_summarizer)\n",
    "graph_chatbot_builder.add_node(\"add travellers\", add_travellers)\n",
    "graph_chatbot_builder.add_node(\"chatbot\", chatbot)\n",
    "graph_chatbot_builder.add_node(\"summarizer and updater\", summarizer_and_updater)\n",
    "graph_chatbot_builder.add_node(\"tools\", tools_node)\n",
    "graph_chatbot_builder.add_node(\"update profile\", update_profile)\n",
    "\n",
    "graph_chatbot_builder.add_conditional_edges(START, to_create_profile, ['summary graph', 'read profile', \"add travellers\"])\n",
    "graph_chatbot_builder.add_edge(\"summary graph\", \"add travellers\")\n",
    "graph_chatbot_builder.add_edge(\"add travellers\", \"read profile\")\n",
    "graph_chatbot_builder.add_conditional_edges(\"read profile\", check_profiles, [\"chatbot\", END])\n",
    "graph_chatbot_builder.add_conditional_edges(\"chatbot\", route_ai, [\"summarizer and updater\", END])\n",
    "graph_chatbot_builder.add_conditional_edges(\"chatbot\", tools_condition)\n",
    "graph_chatbot_builder.add_conditional_edges(\"chatbot\", route_to_update, [\"update profile\", END])\n",
    "graph_chatbot_builder.add_edge(\"tools\", \"chatbot\")\n",
    "graph_chatbot_builder.add_edge(\"summarizer and updater\", END)\n",
    "graph_chatbot_builder.add_edge(\"update profile\", END)\n",
    "\n",
    "memory = MemorySaver()\n",
    "store = InMemoryStore()\n",
    "graph_chatbot = graph_chatbot_builder.compile(checkpointer=memory, store=store, debug=False)"
   ],
   "id": "9a79f26666b99000",
   "outputs": [],
   "execution_count": 187
  },
  {
   "metadata": {
    "ExecuteTime": {
     "end_time": "2025-03-27T08:26:24.258416Z",
     "start_time": "2025-03-27T08:26:20.795678Z"
    }
   },
   "cell_type": "code",
   "source": "display(Image(graph_chatbot.get_graph(xray=1).draw_mermaid_png()))",
   "id": "947bbb5dc8da2829",
   "outputs": [
    {
     "data": {
      "image/png": "[encoded data removed]",
      "text/plain": [
       "<IPython.core.display.Image object>"
      ]
     },
     "metadata": {},
     "output_type": "display_data"
    }
   ],
   "execution_count": 122
  },
  {
   "metadata": {
    "ExecuteTime": {
     "end_time": "2025-03-27T08:59:14.180805Z",
     "start_time": "2025-03-27T08:59:14.173525Z"
    }
   },
   "cell_type": "code",
   "source": "config = {'configurable': {'thread_id': \"chatbot-new-70\", \"user_id\": \"1001\"}}",
   "id": "fd3b83ee714dae25",
   "outputs": [],
   "execution_count": 188
  },
  {
   "metadata": {
    "ExecuteTime": {
     "end_time": "2025-03-27T09:16:45.559238Z",
     "start_time": "2025-03-27T09:16:18.594536Z"
    }
   },
   "cell_type": "code",
   "source": [
    "# for _ in range(3):\n",
    "user_input = input()\n",
    "test = graph_chatbot.invoke({\"prompt\": user_input, \"messages\": [(\"human\", user_input)]}, config=config)\n",
    "    # print(test['output'])"
   ],
   "id": "a39bb8fcb22d51",
   "outputs": [
    {
     "name": "stdout",
     "output_type": "stream",
     "text": [
      "PROFILE:{'name': 'Carol Lee', 'employee_id': '1003', 'profile': {'travel_history': 'Singapore, Japan (1x)', 'preferences': 'Preferred Airlines: Singapore Airlines; Preferred Hotels: 5-star; Meal Preference: Non-Veg; Seat Preference: Aisle', 'role_specific_permissions': 'Data Scientist', 'likes': None, 'dislikes': None, 'flight': 'Japan Airlines', 'hotel': None}, 'travel_requirements': {'destination': 'Tokyo', 'source': 'Bangalore', 'purpose': 'business', 'date_of_departure': '2025-09-10', 'date_of_arrival': '2025-09-20', 'duration': '10 days'}, 'organizational_rules': {'travel_budgets': 'Max budget per trip per employee: $3,000 (Region dependent)', 'approval_hierarchies': 'Approval from direct manager required for travel abroad', 'preferred_vendors': 'Preferred airline partners: Lufthansa, Emirates, Delta; Hotels must be 5-star for company bookings', 'visa_requirements': 'Visa approval must be completed before flight booking'}}\n",
      "5\n"
     ]
    }
   ],
   "execution_count": 197
  },
  {
   "metadata": {
    "ExecuteTime": {
     "end_time": "2025-03-27T09:16:45.570102Z",
     "start_time": "2025-03-27T09:16:45.563827Z"
    }
   },
   "cell_type": "code",
   "source": "Markdown(test['output'])",
   "id": "e1d4b75ef4eebabc",
   "outputs": [
    {
     "data": {
      "text/plain": [
       "<IPython.core.display.Markdown object>"
      ],
      "text/markdown": "Staying at the Hyatt Regency Tokyo offers you a great location to explore some of Tokyo's most iconic attractions. Here are some places you might want to visit nearby:\n\n1. **Shinjuku Gyoen National Garden** 🌳\n   - **Distance:** Approximately 1.5 km\n   - **Description:** A beautiful and expansive park featuring traditional Japanese gardens, a greenhouse, and cherry blossoms in spring.\n\n2. **Tokyo Metropolitan Government Building** 🏢\n   - **Distance:** Approximately 0.5 km\n   - **Description:** Offers free observation decks with panoramic views of Tokyo, including Mount Fuji on clear days.\n\n3. **Meiji Shrine** ⛩️\n   - **Distance:** Approximately 3 km\n   - **Description:** A serene Shinto shrine surrounded by a lush forest, dedicated to Emperor Meiji and Empress Shoken.\n\n4. **Omoide Yokocho (Memory Lane)** 🍜\n   - **Distance:** Approximately 1 km\n   - **Description:** A narrow alleyway filled with small eateries offering traditional Japanese dishes like yakitori and ramen.\n\n5. **Tokyo Opera City** 🎶\n   - **Distance:** Approximately 1.5 km\n   - **Description:** A cultural complex with a concert hall, art gallery, and various dining options.\n\nThese attractions offer a mix of cultural, historical, and modern experiences, all within a short distance from your hotel. Enjoy your stay and exploration in Tokyo! If you need more information or assistance, feel free to ask. 😊"
     },
     "execution_count": 198,
     "metadata": {},
     "output_type": "execute_result"
    }
   ],
   "execution_count": 198
  },
  {
   "metadata": {},
   "cell_type": "code",
   "outputs": [],
   "execution_count": null,
   "source": "# test['messages'][-3].tool_calls[0]['name']",
   "id": "cce64269fa2d4ebd"
  },
  {
   "metadata": {},
   "cell_type": "code",
   "outputs": [],
   "execution_count": null,
   "source": "Gin_mem_store.get((\"memory\", \"1001\"), \"traveler\")",
   "id": "a031854f30c4bf6"
  },
  {
   "metadata": {},
   "cell_type": "code",
   "outputs": [],
   "execution_count": null,
   "source": [
    "# def get_coordinates(place_name):\n",
    "#     \"\"\"Convert place name to latitude and longitude using TomTom Geocoding API.\"\"\"\n",
    "#     API_KEY= env_values['TOM_API_KEY']\n",
    "#     geo_url = f\"https://api.tomtom.com/search/2/geocode/{place_name}.json?key={API_KEY}\"\n",
    "#     response = requests.get(geo_url)\n",
    "#     data = response.json()\n",
    "#\n",
    "#     if \"results\" in data and len(data[\"results\"]) > 0:\n",
    "#         location = data[\"results\"][0][\"position\"]\n",
    "#         return location[\"lat\"], location[\"lon\"]\n",
    "#     else:\n",
    "#         print(f\"Location not found: {place_name}\")\n",
    "#         return None, None\n",
    "#\n",
    "# def get_traffic_between_places(origin, destination):\n",
    "#     \"\"\"Fetch real-time traffic data between two places.\"\"\"\n",
    "#     lat1, lon1 = get_coordinates(origin)\n",
    "#     lat2, lon2 = get_coordinates(destination)\n",
    "#\n",
    "#     if lat1 is None or lon1 is None or lat2 is None or lon2 is None:\n",
    "#         return\n",
    "#\n",
    "#     # TomTom Routing API with Traffic Data\n",
    "#     route_url = f\"https://api.tomtom.com/routing/1/calculateRoute/{lat1},{lon1}:{lat2},{lon2}/json?key={API_KEY}&traffic=true\"\n",
    "#\n",
    "#     response = requests.get(route_url)\n",
    "#     route_data = response.json()\n",
    "#\n",
    "#     if \"routes\" in route_data:\n",
    "#         route = route_data[\"routes\"][0][\"summary\"]\n",
    "#         print(f\"Traffic Data Between {origin} and {destination}:\")\n",
    "#         print(f\"  Distance: {route['lengthInMeters'] / 1000:.2f} km\")\n",
    "#         print(f\"  Estimated Time: {route['travelTimeInSeconds'] // 60} min\")\n",
    "#         print(f\"  Traffic Delay: {route['trafficDelayInSeconds'] // 60} min\")\n",
    "#     else:\n",
    "#         print(\"No route data available.\")\n",
    "#\n",
    "# # Example Usage\n",
    "# origin = \"Banaswadi, Banglore\"\n",
    "# destination = \"Koramangala, Banglore\"\n",
    "# get_traffic_between_places(origin, destination)"
   ],
   "id": "c4dd8f40929ff1f1"
  },
  {
   "metadata": {
    "ExecuteTime": {
     "end_time": "2025-03-27T14:37:29.927897Z",
     "start_time": "2025-03-27T14:37:29.919930Z"
    }
   },
   "cell_type": "code",
   "source": [
    "from langgraph_sdk import get_client\n",
    "import asyncio"
   ],
   "id": "38724c5e83d7f959",
   "outputs": [],
   "execution_count": 356
  },
  {
   "metadata": {
    "ExecuteTime": {
     "end_time": "2025-03-27T14:37:30.433184Z",
     "start_time": "2025-03-27T14:37:30.423075Z"
    }
   },
   "cell_type": "code",
   "source": "url = \"http://localhost:8124\"",
   "id": "63708f5e639a1490",
   "outputs": [],
   "execution_count": 357
  },
  {
   "metadata": {
    "ExecuteTime": {
     "end_time": "2025-03-27T14:37:31.150820Z",
     "start_time": "2025-03-27T14:37:30.921076Z"
    }
   },
   "cell_type": "code",
   "source": "client = get_client(url=url)",
   "id": "50a50ebb242207c8",
   "outputs": [],
   "execution_count": 358
  },
  {
   "metadata": {
    "ExecuteTime": {
     "end_time": "2025-03-27T14:37:31.359034Z",
     "start_time": "2025-03-27T14:37:31.338998Z"
    }
   },
   "cell_type": "code",
   "source": "thread = await client.threads.create()",
   "id": "24e5281461473418",
   "outputs": [],
   "execution_count": 359
  },
  {
   "metadata": {
    "ExecuteTime": {
     "end_time": "2025-03-27T14:37:31.986090Z",
     "start_time": "2025-03-27T14:37:31.976478Z"
    }
   },
   "cell_type": "code",
   "source": "thread",
   "id": "b12034f89c07ad9e",
   "outputs": [
    {
     "data": {
      "text/plain": [
       "{'thread_id': 'dbbaebc1-e979-45ed-b800-d8aa7e6bcd43',\n",
       " 'created_at': '2025-03-27T14:37:31.351873+00:00',\n",
       " 'updated_at': '2025-03-27T14:37:31.351873+00:00',\n",
       " 'metadata': {},\n",
       " 'status': 'idle',\n",
       " 'config': {},\n",
       " 'values': None,\n",
       " 'interrupts': {}}"
      ]
     },
     "execution_count": 360,
     "metadata": {},
     "output_type": "execute_result"
    }
   ],
   "execution_count": 360
  },
  {
   "metadata": {
    "ExecuteTime": {
     "end_time": "2025-03-27T14:37:32.788898Z",
     "start_time": "2025-03-27T14:37:32.782628Z"
    }
   },
   "cell_type": "code",
   "source": [
    "user_input = \"Give me some flight suggestions from Banglore to Berlin for 1 person on the on 2025-07-03 for 5 days in business class\"\n",
    "config = {'configurable': {\"thread_id\": \"test-server\", 'user_id': \"1001\"}}\n",
    "graph_name = \"chatbot\""
   ],
   "id": "755d934300bd7fa1",
   "outputs": [],
   "execution_count": 361
  },
  {
   "metadata": {
    "ExecuteTime": {
     "end_time": "2025-03-27T14:38:18.187188Z",
     "start_time": "2025-03-27T14:38:12.848358Z"
    }
   },
   "cell_type": "code",
   "source": "user_input = input()",
   "id": "6192890ecdded4b1",
   "outputs": [],
   "execution_count": 368
  },
  {
   "metadata": {
    "ExecuteTime": {
     "end_time": "2025-03-27T14:38:19.043818Z",
     "start_time": "2025-03-27T14:38:19.022154Z"
    }
   },
   "cell_type": "code",
   "source": "run = await client.runs.create(thread['thread_id'], graph_name, input={\"prompt\": user_input, \"messages\": [(\"human\", user_input)]}, config=config, multitask_strategy=\"interrupt\")",
   "id": "d7762e008471139",
   "outputs": [],
   "execution_count": 369
  },
  {
   "metadata": {
    "ExecuteTime": {
     "end_time": "2025-03-27T14:38:54.350328Z",
     "start_time": "2025-03-27T14:38:19.430158Z"
    }
   },
   "cell_type": "code",
   "source": "output = await client.runs.join(thread['thread_id'], run[\"run_id\"])",
   "id": "96c9cb6a5230d7b3",
   "outputs": [],
   "execution_count": 370
  },
  {
   "metadata": {
    "ExecuteTime": {
     "end_time": "2025-03-27T14:38:54.364316Z",
     "start_time": "2025-03-27T14:38:54.356487Z"
    }
   },
   "cell_type": "code",
   "source": "Markdown(output['output'])",
   "id": "504f400197fee457",
   "outputs": [
    {
     "data": {
      "text/plain": [
       "<IPython.core.display.Markdown object>"
      ],
      "text/markdown": "Here are some alternative 4-star hotel suggestions in Berlin:\n\n1. **Mercure Hotel Berlin Wittenbergplatz**\n   - **Price:** $128 per night\n   - **Description:** Plush rooms in a contemporary hotel offering a modern restaurant/bar & a hip lounge.\n   - **Ratings:** 4.6\n   - **Check-in Time:** 12:00 AM\n   - **Check-out Time:** 12:00 AM\n   - [More Info](https://all.accor.com/lien_externe.svlt?goto=fiche_hotel&code_hotel=9147&merchantid=seo-maps-DE-9147&sourceid=aw-cen&utm_medium=seo%20maps&utm_source=google%20Maps&utm_campaign=seo%20maps)\n\n2. **Crowne Plaza Berlin City Centre**\n   - **Price:** $126 per night\n   - **Description:** Sophisticated lodging with free Wi-Fi, dining & 2 bars, plus a spa with an indoor pool & a sauna.\n   - **Ratings:** 4.4\n   - **Check-in Time:** 3:00 PM\n   - **Check-out Time:** 12:00 PM\n   - [More Info](https://www.ihg.com/crowneplaza/hotels/gb/en/berlin/bercc/hoteldetail?cm_mmc=GoogleMaps-_-CP-_-DE-_-BERCC)\n\n3. **Hotel NH Collection Berlin Mitte am Checkpoint Charlie**\n   - **Price:** $120 per night\n   - **Description:** Airy, modern hotel offering a spa with a rooftop relaxation area, plus terrace dining & free Wi-Fi.\n   - **Ratings:** 4.4\n   - **Check-in Time:** 12:00 PM\n   - **Check-out Time:** 12:00 PM\n   - [More Info](https://www.nh-hotels.com/en/hotel/nh-collection-berlin-mitte-checkpoint-charlie?utm_campaign=local-gmb&utm_medium=organic_search&utm_source=google_gmb)\n\n4. **Estrel Berlin**\n   - **Price:** $121 per night\n   - **Description:** Sprawling contemporary lodging with 5 restaurants, 3 bars & a spa, plus a waterfront garden.\n   - **Ratings:** 4.4\n   - **Check-in Time:** 3:00 PM\n   - **Check-out Time:** 10:00 AM\n   - [More Info](https://www.estrel.com/)\n\n5. **centrovital**\n   - **Price:** $100 per night\n   - **Description:** Refined rooms & suites in a classy spa hotel with a lake-view restaurant & a bistro/bar.\n   - **Ratings:** 4.3\n   - **Check-in Time:** 3:00 PM\n   - **Check-out Time:** 11:00 AM\n   - [More Info](https://www.centrovital-berlin.de/#gbp)\n\nThese options should meet your needs for a comfortable stay in Berlin. Let me know if you need further assistance! 🏨✨"
     },
     "execution_count": 371,
     "metadata": {},
     "output_type": "execute_result"
    }
   ],
   "execution_count": 371
  },
  {
   "metadata": {
    "ExecuteTime": {
     "end_time": "2025-03-27T14:37:59.848803Z",
     "start_time": "2025-03-27T14:37:59.835026Z"
    }
   },
   "cell_type": "code",
   "source": "thread_alert = await client.threads.create()",
   "id": "5c14e540363fe559",
   "outputs": [],
   "execution_count": 366
  },
  {
   "metadata": {
    "ExecuteTime": {
     "end_time": "2025-03-27T14:37:59.921141Z",
     "start_time": "2025-03-27T14:37:59.862021Z"
    }
   },
   "cell_type": "code",
   "source": "run_alert = await client.runs.create(thread_alert['thread_id'], \"alert_graph\", input={}, config=config, multitask_strategy=\"interrupt\")",
   "id": "354fc673fe3e2217",
   "outputs": [],
   "execution_count": 367
  },
  {
   "metadata": {
    "ExecuteTime": {
     "end_time": "2025-03-27T12:03:11.407641Z",
     "start_time": "2025-03-27T12:03:11.386729Z"
    }
   },
   "cell_type": "code",
   "source": "result",
   "id": "f9bcd7d013aed236",
   "outputs": [
    {
     "data": {
      "text/plain": [
       "{'run_id': '1f00b033-5bc2-6a40-bc0f-86dbaeb93ac9',\n",
       " 'thread_id': '8c117b01-c665-4375-a3b8-620f6f8eadbb',\n",
       " 'assistant_id': '611c7da4-793c-5ecf-ac4e-10150409bb44',\n",
       " 'created_at': '2025-03-27T12:01:26.283453+00:00',\n",
       " 'updated_at': '2025-03-27T12:01:27.530463+00:00',\n",
       " 'metadata': {'assistant_id': '611c7da4-793c-5ecf-ac4e-10150409bb44'},\n",
       " 'status': 'success',\n",
       " 'kwargs': {'input': {},\n",
       "  'config': {'metadata': {'graph_id': 'alert_graph',\n",
       "    'created_by': 'system',\n",
       "    'assistant_id': '611c7da4-793c-5ecf-ac4e-10150409bb44'},\n",
       "   'configurable': {'run_id': '1f00b033-5bc2-6a40-bc0f-86dbaeb93ac9',\n",
       "    'user_id': '1001',\n",
       "    'graph_id': 'alert_graph',\n",
       "    'thread_id': '8c117b01-c665-4375-a3b8-620f6f8eadbb',\n",
       "    'assistant_id': '611c7da4-793c-5ecf-ac4e-10150409bb44',\n",
       "    'langgraph_auth_user': None,\n",
       "    'langgraph_auth_user_id': '',\n",
       "    'langgraph_auth_permissions': []}},\n",
       "  'command': None,\n",
       "  'webhook': None,\n",
       "  'subgraphs': False,\n",
       "  'temporary': False,\n",
       "  'stream_mode': ['values'],\n",
       "  'feedback_keys': None,\n",
       "  'interrupt_after': None,\n",
       "  'interrupt_before': None},\n",
       " 'multitask_strategy': 'interrupt'}"
      ]
     },
     "execution_count": 252,
     "metadata": {},
     "output_type": "execute_result"
    }
   ],
   "execution_count": 252
  },
  {
   "metadata": {},
   "cell_type": "code",
   "outputs": [],
   "execution_count": null,
   "source": "",
   "id": "212932cfdb32d008"
  }
 ],
 "metadata": {
  "kernelspec": {
   "display_name": "Python 3",
   "language": "python",
   "name": "python3"
  },
  "language_info": {
   "codemirror_mode": {
    "name": "ipython",
    "version": 2
   },
   "file_extension": ".py",
   "mimetype": "text/x-python",
   "name": "python",
   "nbconvert_exporter": "python",
   "pygments_lexer": "ipython2",
   "version": "2.7.6"
  }
 },
 "nbformat": 4,
 "nbformat_minor": 5
}
