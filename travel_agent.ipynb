{
 "cells": [
  {
   "cell_type": "code",
   "id": "initial_id",
   "metadata": {
    "collapsed": true,
    "ExecuteTime": {
     "end_time": "2025-03-25T15:52:45.284714Z",
     "start_time": "2025-03-25T15:52:45.281536Z"
    }
   },
   "source": [
    "from langchain_core.prompts import ChatPromptTemplate\n",
    "from langchain_openai import ChatOpenAI\n",
    "from langgraph.constants import START, END\n",
    "from langgraph.graph import StateGraph, MessagesState\n",
    "from pydantic import BaseModel, Field\n",
    "from operator import add\n",
    "from trustcall import create_extractor\n",
    "from typing import TypedDict, Literal\n",
    "from langchain_core.runnables.config import RunnableConfig\n",
    "from langchain_core.messages import SystemMessage, HumanMessage, AIMessage, RemoveMessage\n",
    "from langgraph.store.base import BaseStore\n",
    "from langgraph.checkpoint.memory import MemorySaver\n",
    "from langgraph.store.memory import InMemoryStore\n",
    "from IPython.display import Markdown, Image, display\n",
    "from dotenv import dotenv_values\n",
    "from pypdf import PdfReader\n",
    "import pandas as pd\n",
    "import os\n",
    "\n",
    "from typing_extensions import Optional"
   ],
   "outputs": [],
   "execution_count": 122
  },
  {
   "metadata": {
    "ExecuteTime": {
     "end_time": "2025-03-25T15:52:45.660487Z",
     "start_time": "2025-03-25T15:52:45.656696Z"
    }
   },
   "cell_type": "code",
   "source": [
    "env_values = {**dotenv_values(\".env.shared\"), **dotenv_values(\".env.secret\")}\n",
    "\n",
    "os.environ[\"LANGSMITH_TRACING\"] = env_values[\"LANGSMITH_TRACING\"]\n",
    "os.environ[\"LANGSMITH_ENDPOINT\"] = env_values[\"LANGSMITH_ENDPOINT\"]\n",
    "os.environ[\"LANGSMITH_API_KEY\"] = env_values[\"LANGSMITH_API_KEY\"]\n",
    "os.environ[\"LANGSMITH_PROJECT\"] = env_values[\"LANGSMITH_PROJECT\"]\n",
    "os.environ[\"OPENAI_API_KEY\"] = env_values[\"OPENAI_API_KEY\"]"
   ],
   "id": "43d734ca9d720dd1",
   "outputs": [],
   "execution_count": 123
  },
  {
   "metadata": {},
   "cell_type": "markdown",
   "source": "## Summarization graph",
   "id": "cb691589cb8e0a24"
  },
  {
   "metadata": {
    "ExecuteTime": {
     "end_time": "2025-03-25T13:26:00.828712Z",
     "start_time": "2025-03-25T13:26:00.826371Z"
    }
   },
   "cell_type": "code",
   "source": "PATH_TO_FILES = \"./Data\"",
   "id": "82d0e75cedd4dcaf",
   "outputs": [],
   "execution_count": 26
  },
  {
   "metadata": {
    "ExecuteTime": {
     "end_time": "2025-03-25T13:26:01.185049Z",
     "start_time": "2025-03-25T13:26:01.180449Z"
    }
   },
   "cell_type": "code",
   "source": [
    "def read_csv_xlsx(path: str) -> str:\n",
    "    if path.endswith(\".xlsx\"):\n",
    "        df = pd.read_excel(path)\n",
    "        return df.to_string(index=False)\n",
    "    else:\n",
    "        df = pd.read_csv(path)\n",
    "        return df.to_string(index=False)\n",
    "\n",
    "def read_pdf(path: str) -> str:\n",
    "    with open(path, \"rb\") as f:\n",
    "        reader = PdfReader(f)\n",
    "        text = \"\"\n",
    "        for page in reader.pages:\n",
    "            text += page.extractText()\n",
    "\n",
    "    return text\n",
    "\n",
    "def read_docs():\n",
    "    dirs = os.listdir(PATH_TO_FILES)\n",
    "    text = \"\"\n",
    "    for dir in dirs:\n",
    "        files = os.listdir(os.path.join(PATH_TO_FILES, dir))\n",
    "        for file in files:\n",
    "            if not file.endswith(\".pdf\"):\n",
    "                text += read_csv_xlsx(os.path.join(os.path.join(PATH_TO_FILES, dir), file))\n",
    "            else:\n",
    "                text += read_pdf(os.path.join(os.path.join(PATH_TO_FILES, dir), file))\n",
    "\n",
    "    return text"
   ],
   "id": "9c54800c2da6a9c6",
   "outputs": [],
   "execution_count": 27
  },
  {
   "metadata": {
    "ExecuteTime": {
     "end_time": "2025-03-25T13:26:01.588541Z",
     "start_time": "2025-03-25T13:26:01.579983Z"
    }
   },
   "cell_type": "code",
   "source": "test = read_docs()",
   "id": "4039bf0f978e2fd",
   "outputs": [],
   "execution_count": 28
  },
  {
   "metadata": {
    "ExecuteTime": {
     "end_time": "2025-03-25T13:26:02.044989Z",
     "start_time": "2025-03-25T13:26:01.993208Z"
    }
   },
   "cell_type": "code",
   "source": "llm = ChatOpenAI(model=\"gpt-4o\", temperature=0.4, top_p=0.38)",
   "id": "d41a66ac5ecc2671",
   "outputs": [],
   "execution_count": 29
  },
  {
   "metadata": {
    "ExecuteTime": {
     "end_time": "2025-03-25T13:26:03.088649Z",
     "start_time": "2025-03-25T13:26:03.086623Z"
    }
   },
   "cell_type": "code",
   "source": [
    "summarization_prompt = ChatPromptTemplate.from_messages([\n",
    "    (\"system\", \"You are a travel assistant. Help in summarizing the employee profiles, the organizational rules and the travel requirements. Ignore any IDs\"),\n",
    "    (\"human\", \"Summarize this {input}\")\n",
    "])"
   ],
   "id": "fcb173a8cd4e5345",
   "outputs": [],
   "execution_count": 30
  },
  {
   "metadata": {
    "ExecuteTime": {
     "end_time": "2025-03-25T13:26:03.424793Z",
     "start_time": "2025-03-25T13:26:03.422853Z"
    }
   },
   "cell_type": "code",
   "source": "runnable_summarization = summarization_prompt | llm",
   "id": "801fc6c199ffa0e0",
   "outputs": [],
   "execution_count": 31
  },
  {
   "metadata": {
    "ExecuteTime": {
     "end_time": "2025-03-25T13:26:14.583235Z",
     "start_time": "2025-03-25T13:26:05.294705Z"
    }
   },
   "cell_type": "code",
   "source": "output = runnable_summarization.invoke({'input': test}).content",
   "id": "234416916c34aa7c",
   "outputs": [],
   "execution_count": 32
  },
  {
   "metadata": {
    "ExecuteTime": {
     "end_time": "2025-03-24T16:24:46.280676Z",
     "start_time": "2025-03-24T16:24:46.274650Z"
    }
   },
   "cell_type": "code",
   "source": "Markdown(output)",
   "id": "61a02b9eb402d5fb",
   "outputs": [
    {
     "data": {
      "text/plain": [
       "<IPython.core.display.Markdown object>"
      ],
      "text/markdown": "**Employee Profiles:**\n\n1. **Alice Doe** - Senior Engineer\n   - Travel History: USA, Germany, France (3x)\n   - Preferred Airlines: Lufthansa, Delta\n   - Preferred Hotels: Marriott, Hilton\n   - Meal Preference: Vegetarian\n   - Seat Preference: Window\n   - Visa Requirement: Schengen, USA\n\n2. **Bob Smith** - Project Manager\n   - Travel History: India, UK (2x)\n   - Preferred Airlines: British Airways\n   - Preferred Hotels: IHG, Hyatt\n   - Meal Preference: Vegan\n   - Seat Preference: Aisle\n   - Visa Requirement: UK, India\n\n3. **Carol Lee** - Data Scientist\n   - Travel History: Singapore, Japan (1x)\n   - Preferred Airlines: Singapore Airlines\n   - Preferred Hotels: Marriott\n   - Meal Preference: Non-Veg\n   - Seat Preference: Aisle\n   - Visa Requirement: Japan, Singapore\n\n4. **David Wong** - Cybersecurity Lead\n   - Travel History: Canada, USA, Germany (4x)\n   - Preferred Airlines: Air Canada, Delta\n   - Preferred Hotels: Hilton\n   - Meal Preference: Kosher\n   - Seat Preference: Window\n   - Visa Requirement: Schengen, USA, Canada\n\n5. **Eva Patel** - Software Engineer\n   - Travel History: Remote (0 trips)\n   - Preferred Airlines: Emirates\n   - Preferred Hotels: Hyatt\n   - Meal Preference: Halal\n   - Seat Preference: Window\n   - Visa Requirement: Schengen\n\n**Travel Requests:**\n\n1. **Alice Doe** - Berlin for a Conference from 2024-07-15 to 2024-07-20, Budget: $2500, Status: Approved\n2. **Bob Smith** - London for a Client Meeting from 2024-08-01 to 2024-08-05, Budget: $3000, Status: Pending\n3. **Carol Lee** - Tokyo for Research from 2024-09-10 to 2024-09-20, Budget: $4500, Status: Approved\n4. **David Wong** - Toronto for Internal Audit from 2024-10-05 to 2024-10-15, Budget: $3500, Status: Rejected\n5. **Eva Patel** - Dubai for a Business Expo from 2024-11-01 to 2024-11-10, Budget: $2000, Status: Approved\n\n**Organizational Rules:**\n\n1. Max budget per trip per employee is $3,000, region dependent.\n2. Business class flights are only for Director level & above.\n3. Approval from direct manager is required for travel abroad.\n4. Preferred airline partners are Lufthansa, Emirates, and Delta.\n5. Hotels must be 4-star or higher for company bookings.\n6. Travel insurance is mandatory for international trips.\n7. Employees cannot book flights exceeding the budget limit.\n8. Visa approval must be completed before flight booking."
     },
     "execution_count": 10,
     "metadata": {},
     "output_type": "execute_result"
    }
   ],
   "execution_count": 10
  },
  {
   "metadata": {},
   "cell_type": "markdown",
   "source": "### Creation of the summary graph",
   "id": "d59b4d30b203e6c3"
  },
  {
   "metadata": {
    "ExecuteTime": {
     "end_time": "2025-03-25T13:26:28.363135Z",
     "start_time": "2025-03-25T13:26:28.317828Z"
    }
   },
   "cell_type": "code",
   "source": "llm = ChatOpenAI(model=\"gpt-4o\", temperature=0, top_p=0.38)",
   "id": "7fd865bfa2410a43",
   "outputs": [],
   "execution_count": 37
  },
  {
   "metadata": {},
   "cell_type": "markdown",
   "source": "#### States",
   "id": "b882531b8216746f"
  },
  {
   "metadata": {
    "ExecuteTime": {
     "end_time": "2025-03-25T13:26:28.738178Z",
     "start_time": "2025-03-25T13:26:28.735763Z"
    }
   },
   "cell_type": "code",
   "source": [
    "class SummaryGraphInput(TypedDict):\n",
    "    summary: str\n",
    "    text: str\n",
    "\n",
    "class SummaryGraphOutput(TypedDict):\n",
    "    summary: str\n"
   ],
   "id": "d44a2364af8bd7c5",
   "outputs": [],
   "execution_count": 38
  },
  {
   "metadata": {},
   "cell_type": "markdown",
   "source": "#### Utils",
   "id": "5cc5d9bd26ee739f"
  },
  {
   "metadata": {
    "ExecuteTime": {
     "end_time": "2025-03-25T13:26:29.077022Z",
     "start_time": "2025-03-25T13:26:29.074115Z"
    }
   },
   "cell_type": "code",
   "source": [
    "def read_csv_xlsx(path: str) -> str:\n",
    "    if path.endswith(\".xlsx\"):\n",
    "        df = pd.read_excel(path)\n",
    "        return df.to_string(index=False)\n",
    "    else:\n",
    "        df = pd.read_csv(path)\n",
    "        return df.to_string(index=False)\n",
    "\n",
    "def read_pdf(path: str) -> str:\n",
    "    with open(path, \"rb\") as f:\n",
    "        reader = PdfReader(f)\n",
    "        text = \"\"\n",
    "        for page in reader.pages:\n",
    "            text += page.extractText()\n",
    "\n",
    "    return text"
   ],
   "id": "d8495aa8c4513225",
   "outputs": [],
   "execution_count": 39
  },
  {
   "metadata": {},
   "cell_type": "markdown",
   "source": "#### Prompts",
   "id": "75cb630bbd474469"
  },
  {
   "metadata": {
    "ExecuteTime": {
     "end_time": "2025-03-25T14:31:51.457541Z",
     "start_time": "2025-03-25T14:31:51.452649Z"
    }
   },
   "cell_type": "code",
   "source": [
    "summarization_prompt = ChatPromptTemplate.from_messages([\n",
    "    (\"system\", \"You are a travel assistant. Help in summarizing the employee profiles, the organizational rules and the travel requirements. Add the employee IDs also. Ignore any other IDs. Do not provide the output in any font or styles. Provide the summary in a neat structured format.\"),\n",
    "    (\"human\", \"Summarize this {input}\")\n",
    "])"
   ],
   "id": "fe7d2806e4351d33",
   "outputs": [],
   "execution_count": 96
  },
  {
   "metadata": {},
   "cell_type": "markdown",
   "source": "#### Nodes",
   "id": "85a777a1b7b472f4"
  },
  {
   "metadata": {
    "ExecuteTime": {
     "end_time": "2025-03-25T14:31:51.811113Z",
     "start_time": "2025-03-25T14:31:51.805265Z"
    }
   },
   "cell_type": "code",
   "source": [
    "def read_docs(state: SummaryGraphInput):\n",
    "    PATH_TO_FILES = \"./Data\"\n",
    "    dirs = os.listdir(PATH_TO_FILES)\n",
    "    text = \"\"\n",
    "    for dir in dirs:\n",
    "        files = os.listdir(os.path.join(PATH_TO_FILES, dir))\n",
    "        for file in files:\n",
    "            if not file.endswith(\".pdf\"):\n",
    "                text += read_csv_xlsx(os.path.join(os.path.join(PATH_TO_FILES, dir), file))\n",
    "            else:\n",
    "                text += read_pdf(os.path.join(os.path.join(PATH_TO_FILES, dir), file))\n",
    "\n",
    "    return {'text': text}"
   ],
   "id": "ddf10bb9d373e169",
   "outputs": [],
   "execution_count": 97
  },
  {
   "metadata": {
    "ExecuteTime": {
     "end_time": "2025-03-25T14:31:51.963585Z",
     "start_time": "2025-03-25T14:31:51.960647Z"
    }
   },
   "cell_type": "code",
   "source": [
    "def summarize(state: SummaryGraphInput):\n",
    "    text = state['text']\n",
    "    runnable_summarization = summarization_prompt | llm\n",
    "    output = runnable_summarization.invoke({'input': text}).content\n",
    "    with open(\"./summary/summary.txt\", \"w\") as f:\n",
    "        f.write(output)\n",
    "    return {'summary': output}"
   ],
   "id": "faee61aeb0102054",
   "outputs": [],
   "execution_count": 98
  },
  {
   "metadata": {
    "ExecuteTime": {
     "end_time": "2025-03-25T14:31:52.115850Z",
     "start_time": "2025-03-25T14:31:52.108336Z"
    }
   },
   "cell_type": "code",
   "source": [
    "graph_summarizer_builder = StateGraph(SummaryGraphInput, output=SummaryGraphOutput)\n",
    "\n",
    "graph_summarizer_builder.add_node(\"read documents\", read_docs)\n",
    "graph_summarizer_builder.add_node(\"summarize documents\", summarize)\n",
    "\n",
    "graph_summarizer_builder.add_edge(START, \"read documents\")\n",
    "graph_summarizer_builder.add_edge(\"read documents\", \"summarize documents\")\n",
    "graph_summarizer_builder.add_edge(\"summarize documents\", END)\n",
    "\n",
    "memory = MemorySaver()\n",
    "graph_summarizer = graph_summarizer_builder.compile()"
   ],
   "id": "ea9d156798380857",
   "outputs": [],
   "execution_count": 99
  },
  {
   "metadata": {
    "ExecuteTime": {
     "end_time": "2025-03-24T16:45:41.159504Z",
     "start_time": "2025-03-24T16:45:40.499464Z"
    }
   },
   "cell_type": "code",
   "source": "display(Image(graph_summarizer.get_graph().draw_mermaid_png()))",
   "id": "37bb1e301c3cffc7",
   "outputs": [
    {
     "data": {
      "image/png": "[encoded data removed]",
      "text/plain": [
       "<IPython.core.display.Image object>"
      ]
     },
     "metadata": {},
     "output_type": "display_data"
    }
   ],
   "execution_count": 9
  },
  {
   "metadata": {
    "ExecuteTime": {
     "end_time": "2025-03-25T14:32:52.308477Z",
     "start_time": "2025-03-25T14:32:43.859454Z"
    }
   },
   "cell_type": "code",
   "source": "Markdown(graph_summarizer.invoke({}, config={'configurable': {'thread_id': \"summarizer_4\"}})['summary'])",
   "id": "42e00bc8432593c8",
   "outputs": [
    {
     "data": {
      "text/plain": [
       "<IPython.core.display.Markdown object>"
      ],
      "text/markdown": "Employee Profiles:\n1. Employee ID: 1001\n   - Name: Alice Doe\n   - Role: Senior Engineer\n   - Travel History: USA, Germany, France (3x)\n   - Preferred Airlines: Lufthansa, Delta\n   - Preferred Hotels: Marriott, Hilton\n   - Meal Preference: Vegetarian\n   - Seat Preference: Window\n   - Visa Requirement: Schengen, USA\n\n2. Employee ID: 1002\n   - Name: Bob Smith\n   - Role: Project Manager\n   - Travel History: India, UK (2x)\n   - Preferred Airlines: British Airways\n   - Preferred Hotels: IHG, Hyatt\n   - Meal Preference: Vegan\n   - Seat Preference: Aisle\n   - Visa Requirement: UK, India\n\n3. Employee ID: 1003\n   - Name: Carol Lee\n   - Role: Data Scientist\n   - Travel History: Singapore, Japan (1x)\n   - Preferred Airlines: Singapore Airlines\n   - Preferred Hotels: Marriott\n   - Meal Preference: Non-Veg\n   - Seat Preference: Aisle\n   - Visa Requirement: Japan, Singapore\n\n4. Employee ID: 1004\n   - Name: David Wong\n   - Role: Cybersecurity Lead\n   - Travel History: Canada, USA, Germany (4x)\n   - Preferred Airlines: Air Canada, Delta\n   - Preferred Hotels: Hilton\n   - Meal Preference: Kosher\n   - Seat Preference: Window\n   - Visa Requirement: Schengen, USA, Canada\n\n5. Employee ID: 1005\n   - Name: Eva Patel\n   - Role: Software Engineer\n   - Travel History: Remote (0 trips)\n   - Preferred Airlines: Emirates\n   - Preferred Hotels: Hyatt\n   - Meal Preference: Halal\n   - Seat Preference: Window\n   - Visa Requirement: Schengen\n\nOrganizational Rules:\n1. Max budget per trip per employee: $3,000 (Region dependent)\n2. Business class flights only for Director level & above\n3. Approval from direct manager required for travel abroad\n4. Preferred airline partners: Lufthansa, Emirates, Delta\n5. Hotels must be 4-star or higher for company bookings\n6. Travel insurance mandatory for international trips\n7. Employees cannot book flights exceeding the budget limit\n8. Visa approval must be completed before flight booking\n\nTravel Requirements:\n1. Employee ID: 1001\n   - Destination: Berlin\n   - Purpose: Conference\n   - Start Date: 2024-07-15\n   - End Date: 2024-07-20\n   - Budget Limit: $2500\n   - Approval Status: Approved\n\n2. Employee ID: 1002\n   - Destination: London\n   - Purpose: Client Meeting\n   - Start Date: 2024-08-01\n   - End Date: 2024-08-05\n   - Budget Limit: $3000\n   - Approval Status: Pending\n\n3. Employee ID: 1003\n   - Destination: Tokyo\n   - Purpose: Research\n   - Start Date: 2024-09-10\n   - End Date: 2024-09-20\n   - Budget Limit: $4500\n   - Approval Status: Approved\n\n4. Employee ID: 1004\n   - Destination: Toronto\n   - Purpose: Internal Audit\n   - Start Date: 2024-10-05\n   - End Date: 2024-10-15\n   - Budget Limit: $3500\n   - Approval Status: Rejected\n\n5. Employee ID: 1005\n   - Destination: Dubai\n   - Purpose: Business Expo\n   - Start Date: 2024-11-01\n   - End Date: 2024-11-10\n   - Budget Limit: $2000\n   - Approval Status: Approved"
     },
     "execution_count": 101,
     "metadata": {},
     "output_type": "execute_result"
    }
   ],
   "execution_count": 101
  },
  {
   "metadata": {},
   "cell_type": "markdown",
   "source": "## Travel Agent AI",
   "id": "4e91c14787a4b85"
  },
  {
   "metadata": {},
   "cell_type": "markdown",
   "source": "### Creation of the graph",
   "id": "5509ef0365c18541"
  },
  {
   "metadata": {},
   "cell_type": "markdown",
   "source": "#### Output Formats",
   "id": "c9eec4f7ba46f890"
  },
  {
   "metadata": {
    "ExecuteTime": {
     "end_time": "2025-03-25T17:02:27.962759Z",
     "start_time": "2025-03-25T17:02:27.954692Z"
    }
   },
   "cell_type": "code",
   "source": [
    "class Profile(BaseModel):\n",
    "    travel_history: str = Field(description=\"The travel history of the employee.\")\n",
    "    preferences: str = Field(description=\"The preferences s (airlines, hotels, window/aisle, meal choice, etc.) of the employee.\")\n",
    "    role_specific_permissions: str = Field(description=\"The roles specific to this employee.\")\n",
    "    likes: str | None = Field(description=\"The likes of the employee.\")\n",
    "    dislikes: str | None = Field(description=\"The dislikes of the employee.\")\n",
    "    place_of_stay: str | None = Field(description=\"The place of stay of the employee, during the travel\")\n",
    "\n",
    "class TravelRequirements(BaseModel):\n",
    "    destination: str = Field(description=\"The destination of travel the employee.\")\n",
    "    purpose: Literal['leisure', 'business'] = Field(description=\"The purpose of travel the employee.\")\n",
    "    dates: str = Field(description=\"The dates of travel the employee.\")\n",
    "    duration: str = Field(description=\"The duration of travel the employee.\")\n",
    "\n",
    "class OrganizationalRules(BaseModel):\n",
    "    travel_budgets: str = Field(description=\"The travel budgets of the organization for each cadre of employee\")\n",
    "    approval_hierarchies: str= Field(description=\"The approval hierarchies for each employee.\")\n",
    "    preferred_vendors: str = Field(description=\"The preferred vendors for the organization.\")\n",
    "    visa_requirements: str = Field(description=\"The type of visa requirements for the travel.\")\n",
    "\n",
    "class Traveller(BaseModel):\n",
    "    name: str = Field(description=\"The name of the employee.\")\n",
    "    employee_id: str = Field(description=\"The ID of the employee.\")\n",
    "    profile: Profile = Field(description=\"The profile of the employee.\")\n",
    "    travel_requirements: TravelRequirements = Field(description=\"The travel requirements for the employee.\")\n",
    "    organizational_rules: OrganizationalRules = Field(description=\"The organizational rules for the employee.\")\n",
    "\n",
    "class Travellers(BaseModel):\n",
    "    travellers: list[Traveller] = Field(description=\"The list of travellers.\")\n"
   ],
   "id": "8dddf7b48beffc09",
   "outputs": [],
   "execution_count": 302
  },
  {
   "metadata": {
    "ExecuteTime": {
     "end_time": "2025-03-25T17:02:28.153306Z",
     "start_time": "2025-03-25T17:02:28.151417Z"
    }
   },
   "cell_type": "code",
   "source": "from pprint import pprint",
   "id": "a95d34f622e7e5da",
   "outputs": [],
   "execution_count": 303
  },
  {
   "metadata": {
    "ExecuteTime": {
     "end_time": "2025-03-25T17:02:28.605449Z",
     "start_time": "2025-03-25T17:02:28.537685Z"
    }
   },
   "cell_type": "code",
   "source": [
    "llm = ChatOpenAI(model=\"gpt-4o\", temperature=0)\n",
    "\n",
    "trustcall_extractor = create_extractor(\n",
    "    llm,\n",
    "    tools=[Travellers],\n",
    "    tool_choice=\"Travellers\"\n",
    ")"
   ],
   "id": "8e68e80e17125836",
   "outputs": [],
   "execution_count": 304
  },
  {
   "metadata": {
    "ExecuteTime": {
     "end_time": "2025-03-25T17:02:28.984410Z",
     "start_time": "2025-03-25T17:02:28.982013Z"
    }
   },
   "cell_type": "code",
   "source": [
    "with open(\"./summary/summary.txt\", \"r\") as f:\n",
    "    data = f.read()"
   ],
   "id": "fc09f8869b3d8003",
   "outputs": [],
   "execution_count": 305
  },
  {
   "metadata": {
    "ExecuteTime": {
     "end_time": "2025-03-25T17:02:29.800437Z",
     "start_time": "2025-03-25T17:02:29.798421Z"
    }
   },
   "cell_type": "code",
   "source": [
    "system_msg = \"Extract the profiles of all employees from the given data. {data}\"\n",
    "trustcaller_system_message = SystemMessage(content=system_msg.format(data=data))"
   ],
   "id": "db27fb4354a16231",
   "outputs": [],
   "execution_count": 306
  },
  {
   "metadata": {
    "ExecuteTime": {
     "end_time": "2025-03-25T17:02:41.646416Z",
     "start_time": "2025-03-25T17:02:32.161981Z"
    }
   },
   "cell_type": "code",
   "source": "result = trustcall_extractor.invoke({\"messages\": [trustcaller_system_message]})",
   "id": "c5a886bdd91db303",
   "outputs": [],
   "execution_count": 307
  },
  {
   "metadata": {
    "ExecuteTime": {
     "end_time": "2025-03-25T17:02:41.651115Z",
     "start_time": "2025-03-25T17:02:41.649225Z"
    }
   },
   "cell_type": "code",
   "source": "schema = result['responses']",
   "id": "215f9c976f7b0acc",
   "outputs": [],
   "execution_count": 308
  },
  {
   "metadata": {
    "ExecuteTime": {
     "end_time": "2025-03-25T17:02:41.700934Z",
     "start_time": "2025-03-25T17:02:41.697239Z"
    }
   },
   "cell_type": "code",
   "source": "schema[0].model_dump()",
   "id": "45936233cbfea796",
   "outputs": [
    {
     "data": {
      "text/plain": [
       "{'travellers': [{'name': 'Alice Doe',\n",
       "   'employee_id': '1001',\n",
       "   'profile': {'travel_history': 'USA, Germany, France (3x)',\n",
       "    'preferences': 'Preferred Airlines: Lufthansa, Delta; Preferred Hotels: Marriott, Hilton; Meal Preference: Vegetarian; Seat Preference: Window',\n",
       "    'role_specific_permissions': 'Senior Engineer',\n",
       "    'likes': None,\n",
       "    'dislikes': None},\n",
       "   'travel_requirements': {'destination': 'Berlin',\n",
       "    'purpose': 'business',\n",
       "    'dates': '2024-07-15 to 2024-07-20',\n",
       "    'duration': '5 days'},\n",
       "   'organizational_rules': {'travel_budgets': 'Max budget per trip per employee: $3,000 (Region dependent)',\n",
       "    'approval_hierarchies': 'Approval from direct manager required for travel abroad',\n",
       "    'preferred_vendors': 'Preferred airline partners: Lufthansa, Emirates, Delta; Hotels must be 4-star or higher for company bookings',\n",
       "    'visa_requirements': 'Visa approval must be completed before flight booking'}},\n",
       "  {'name': 'Bob Smith',\n",
       "   'employee_id': '1002',\n",
       "   'profile': {'travel_history': 'India, UK (2x)',\n",
       "    'preferences': 'Preferred Airlines: British Airways; Preferred Hotels: IHG, Hyatt; Meal Preference: Vegan; Seat Preference: Aisle',\n",
       "    'role_specific_permissions': 'Project Manager',\n",
       "    'likes': None,\n",
       "    'dislikes': None},\n",
       "   'travel_requirements': {'destination': 'London',\n",
       "    'purpose': 'business',\n",
       "    'dates': '2024-08-01 to 2024-08-05',\n",
       "    'duration': '4 days'},\n",
       "   'organizational_rules': {'travel_budgets': 'Max budget per trip per employee: $3,000 (Region dependent)',\n",
       "    'approval_hierarchies': 'Approval from direct manager required for travel abroad',\n",
       "    'preferred_vendors': 'Preferred airline partners: Lufthansa, Emirates, Delta; Hotels must be 4-star or higher for company bookings',\n",
       "    'visa_requirements': 'Visa approval must be completed before flight booking'}},\n",
       "  {'name': 'Carol Lee',\n",
       "   'employee_id': '1003',\n",
       "   'profile': {'travel_history': 'Singapore, Japan (1x)',\n",
       "    'preferences': 'Preferred Airlines: Singapore Airlines; Preferred Hotels: Marriott; Meal Preference: Non-Veg; Seat Preference: Aisle',\n",
       "    'role_specific_permissions': 'Data Scientist',\n",
       "    'likes': None,\n",
       "    'dislikes': None},\n",
       "   'travel_requirements': {'destination': 'Tokyo',\n",
       "    'purpose': 'business',\n",
       "    'dates': '2024-09-10 to 2024-09-20',\n",
       "    'duration': '10 days'},\n",
       "   'organizational_rules': {'travel_budgets': 'Max budget per trip per employee: $3,000 (Region dependent)',\n",
       "    'approval_hierarchies': 'Approval from direct manager required for travel abroad',\n",
       "    'preferred_vendors': 'Preferred airline partners: Lufthansa, Emirates, Delta; Hotels must be 4-star or higher for company bookings',\n",
       "    'visa_requirements': 'Visa approval must be completed before flight booking'}},\n",
       "  {'name': 'David Wong',\n",
       "   'employee_id': '1004',\n",
       "   'profile': {'travel_history': 'Canada, USA, Germany (4x)',\n",
       "    'preferences': 'Preferred Airlines: Air Canada, Delta; Preferred Hotels: Hilton; Meal Preference: Kosher; Seat Preference: Window',\n",
       "    'role_specific_permissions': 'Cybersecurity Lead',\n",
       "    'likes': None,\n",
       "    'dislikes': None},\n",
       "   'travel_requirements': {'destination': 'Toronto',\n",
       "    'purpose': 'business',\n",
       "    'dates': '2024-10-05 to 2024-10-15',\n",
       "    'duration': '10 days'},\n",
       "   'organizational_rules': {'travel_budgets': 'Max budget per trip per employee: $3,000 (Region dependent)',\n",
       "    'approval_hierarchies': 'Approval from direct manager required for travel abroad',\n",
       "    'preferred_vendors': 'Preferred airline partners: Lufthansa, Emirates, Delta; Hotels must be 4-star or higher for company bookings',\n",
       "    'visa_requirements': 'Visa approval must be completed before flight booking'}},\n",
       "  {'name': 'Eva Patel',\n",
       "   'employee_id': '1005',\n",
       "   'profile': {'travel_history': 'Remote (0 trips)',\n",
       "    'preferences': 'Preferred Airlines: Emirates; Preferred Hotels: Hyatt; Meal Preference: Halal; Seat Preference: Window',\n",
       "    'role_specific_permissions': 'Software Engineer',\n",
       "    'likes': None,\n",
       "    'dislikes': None},\n",
       "   'travel_requirements': {'destination': 'Dubai',\n",
       "    'purpose': 'business',\n",
       "    'dates': '2024-11-01 to 2024-11-10',\n",
       "    'duration': '9 days'},\n",
       "   'organizational_rules': {'travel_budgets': 'Max budget per trip per employee: $3,000 (Region dependent)',\n",
       "    'approval_hierarchies': 'Approval from direct manager required for travel abroad',\n",
       "    'preferred_vendors': 'Preferred airline partners: Lufthansa, Emirates, Delta; Hotels must be 4-star or higher for company bookings',\n",
       "    'visa_requirements': 'Visa approval must be completed before flight booking'}}]}"
      ]
     },
     "execution_count": 309,
     "metadata": {},
     "output_type": "execute_result"
    }
   ],
   "execution_count": 309
  },
  {
   "metadata": {
    "ExecuteTime": {
     "end_time": "2025-03-25T17:02:41.751356Z",
     "start_time": "2025-03-25T17:02:41.749030Z"
    }
   },
   "cell_type": "code",
   "source": "travellers =  result[\"messages\"][0].tool_calls[0]['args']['travellers']",
   "id": "420dc6df3aff2a99",
   "outputs": [],
   "execution_count": 310
  },
  {
   "metadata": {
    "ExecuteTime": {
     "end_time": "2025-03-25T17:02:41.803437Z",
     "start_time": "2025-03-25T17:02:41.800972Z"
    }
   },
   "cell_type": "code",
   "source": [
    "in_mem_store = InMemoryStore()\n",
    "\n",
    "\n",
    "for traveller in travellers:\n",
    "    key = traveller.get(\"employee_id\", None)\n",
    "    if key is not None:\n",
    "        namespace = (\"memory\", key.lower())\n",
    "        in_mem_store.put(namespace, \"traveler\", traveller)\n"
   ],
   "id": "830a3156cc72aff4",
   "outputs": [],
   "execution_count": 311
  },
  {
   "metadata": {
    "ExecuteTime": {
     "end_time": "2025-03-25T16:47:13.331887Z",
     "start_time": "2025-03-25T16:47:13.329772Z"
    }
   },
   "cell_type": "code",
   "source": [
    "for traveller in travellers:\n",
    "    in_mem_store.delete(namespace, traveller.get(\"name\"))"
   ],
   "id": "b099990f5715fd87",
   "outputs": [],
   "execution_count": 246
  },
  {
   "metadata": {
    "ExecuteTime": {
     "end_time": "2025-03-25T16:47:42.483958Z",
     "start_time": "2025-03-25T16:47:42.480906Z"
    }
   },
   "cell_type": "code",
   "source": [
    "for m in in_mem_store.search((\"memory\", \"1001\")):\n",
    "    pprint(m)"
   ],
   "id": "2e2c5cc4203078f6",
   "outputs": [
    {
     "name": "stdout",
     "output_type": "stream",
     "text": [
      "Item(namespace=['memory', '1001'], key='traveler', value={'name': 'Alice Doe', 'employee_id': '1001', 'profile': {'travel_history': 'USA, Germany, France (3x)', 'preferences': 'Preferred Airlines: Lufthansa, Delta; Preferred Hotels: Marriott, Hilton; Meal Preference: Vegetarian; Seat Preference: Window', 'role_specific_permissions': 'Senior Engineer'}, 'travel_requirements': {'destination': 'Berlin', 'purpose': 'business', 'dates': '2024-07-15 to 2024-07-20', 'duration': '5 days'}, 'organizational_rules': {'travel_budgets': 'Max budget per trip per employee: $3,000 (Region dependent)', 'approval_hierarchies': 'Approval from direct manager required for travel abroad', 'preferred_vendors': 'Preferred airline partners: Lufthansa, Emirates, Delta; Hotels must be 4-star or higher for company bookings', 'visa_requirements': 'Visa approval must be completed before flight booking'}}, created_at='2025-03-25T16:47:15.931577+00:00', updated_at='2025-03-25T16:47:15.931579+00:00', score=None)\n"
     ]
    }
   ],
   "execution_count": 248
  },
  {
   "metadata": {},
   "cell_type": "code",
   "outputs": [],
   "execution_count": null,
   "source": "",
   "id": "350a9794fc632170"
  },
  {
   "metadata": {},
   "cell_type": "markdown",
   "source": "#### States",
   "id": "13695a6e96cda1eb"
  },
  {
   "metadata": {
    "ExecuteTime": {
     "end_time": "2025-03-25T17:03:10.472591Z",
     "start_time": "2025-03-25T17:03:10.470354Z"
    }
   },
   "cell_type": "code",
   "source": [
    "class TravelAgent(MessagesState):\n",
    "    profile: Traveller\n",
    "    output: str\n",
    "    prompt: str\n",
    "    summary: str"
   ],
   "id": "420507ca698ebff3",
   "outputs": [],
   "execution_count": 312
  },
  {
   "metadata": {},
   "cell_type": "markdown",
   "source": "#### Prompts",
   "id": "235d25c1305331fb"
  },
  {
   "metadata": {
    "ExecuteTime": {
     "end_time": "2025-03-25T17:03:10.766885Z",
     "start_time": "2025-03-25T17:03:10.764309Z"
    }
   },
   "cell_type": "code",
   "source": [
    "travel_agent_prompt = ChatPromptTemplate.from_messages([\n",
    "    (\"system\", \"\"\"You are a travel assistant. Understand the summary {summary} and help provide responses.\n",
    "    Help provide the itenary, suggest good hotels, the type of transport, the weather, the flight details, and help mark the calender also. You are essentially a travel concierge. Only respond to travel related questions.\n",
    "    \"\"\"),\n",
    "    (\"placeholder\", \"{history}\"),\n",
    "    (\"human\", \"{prompt}\")\n",
    "])"
   ],
   "id": "21d76a4ccf27ac55",
   "outputs": [],
   "execution_count": 313
  },
  {
   "metadata": {},
   "cell_type": "markdown",
   "source": "#### Create Nodes",
   "id": "b77b17c41813c4b9"
  },
  {
   "metadata": {
    "ExecuteTime": {
     "end_time": "2025-03-25T17:03:11.041503Z",
     "start_time": "2025-03-25T17:03:11.038829Z"
    }
   },
   "cell_type": "code",
   "source": [
    "def read_profile(state: TravelAgent, config: RunnableConfig, store: BaseStore):\n",
    "    id = config['configurable']['user_id']\n",
    "    namespace = (\"memory\", id)\n",
    "    profile = store.get(namespace, \"traveler\")\n",
    "    state['profile'] = profile.value\n",
    "    return state"
   ],
   "id": "480ce2fe7f7b6ecb",
   "outputs": [],
   "execution_count": 314
  },
  {
   "metadata": {
    "ExecuteTime": {
     "end_time": "2025-03-25T17:03:11.196356Z",
     "start_time": "2025-03-25T17:03:11.193927Z"
    }
   },
   "cell_type": "code",
   "source": [
    "def check_profiles(state: TravelAgent):\n",
    "    profile = state['profile']\n",
    "    if profile is None:\n",
    "        return END\n",
    "    else:\n",
    "        return \"chatbot\"\n"
   ],
   "id": "c567fd5f8a0ce9d2",
   "outputs": [],
   "execution_count": 315
  },
  {
   "metadata": {
    "ExecuteTime": {
     "end_time": "2025-03-25T17:27:08.210214Z",
     "start_time": "2025-03-25T17:27:08.207642Z"
    }
   },
   "cell_type": "code",
   "source": [
    "summarization_prompt = ChatPromptTemplate.from_messages([\n",
    "    (\"system\", \"\"\"You are an assistant, who helps in summarizing the conversation.\n",
    "    Conversation: {messages}\"\"\"),\n",
    "    (\"human\", \"Summarize the conversation\")\n",
    "])"
   ],
   "id": "6c42c56637db4fb1",
   "outputs": [],
   "execution_count": 368
  },
  {
   "metadata": {
    "ExecuteTime": {
     "end_time": "2025-03-25T17:27:08.299342Z",
     "start_time": "2025-03-25T17:27:08.296201Z"
    }
   },
   "cell_type": "code",
   "source": [
    "def route_ai(state: TravelAgent):\n",
    "    messages = state['messages']\n",
    "    count = 0\n",
    "    for message in messages:\n",
    "        if isinstance(message, AIMessage) and count < 5:\n",
    "            count += 1\n",
    "    print(count)\n",
    "    if count >= 5:\n",
    "        return \"summarizer and updater\"\n",
    "    else:\n",
    "        return END"
   ],
   "id": "92b655474ca5464e",
   "outputs": [],
   "execution_count": 369
  },
  {
   "metadata": {
    "ExecuteTime": {
     "end_time": "2025-03-25T17:27:08.441221Z",
     "start_time": "2025-03-25T17:27:08.438765Z"
    }
   },
   "cell_type": "code",
   "source": "TRUSTCALL_INSTRUCTION = \"\"\"Create or update the memory (JSON doc) to incorporate information from the following conversation only if necessary. Do not change the organization rules. If no changes are necessary then return None\"\"\"",
   "id": "8fe7aef7cd00be79",
   "outputs": [],
   "execution_count": 370
  },
  {
   "metadata": {
    "ExecuteTime": {
     "end_time": "2025-03-25T17:27:08.587506Z",
     "start_time": "2025-03-25T17:27:08.583186Z"
    }
   },
   "cell_type": "code",
   "source": [
    "def summarizer_and_updater(state: TravelAgent, config: RunnableConfig, store: BaseStore):\n",
    "    messages = state['messages']\n",
    "    runnable_summarizer = summarization_prompt | llm\n",
    "    extractor = create_extractor(\n",
    "        llm,\n",
    "        tools=[Traveller],\n",
    "        tool_choice=\"Traveller\"\n",
    "    )\n",
    "    summary = state.get('summary', \"\")\n",
    "    output = runnable_summarizer.invoke({'messages': messages}).content\n",
    "    summary += output\n",
    "    deleted_messages = [RemoveMessage(id=message.id) for message in messages[:-4]]\n",
    "    profile = state['profile']\n",
    "    json_profile = {\"Traveller\": profile}\n",
    "\n",
    "    result = extractor.invoke({\"messages\": [SystemMessage(content=TRUSTCALL_INSTRUCTION)] + messages, 'existing': json_profile})\n",
    "    updated_profile = result['responses'][0].model_dump()\n",
    "    store.put((\"memory\", config['configurable']['user_id']), 'traveler', updated_profile)\n",
    "    state['summary'] = summary\n",
    "    state['messages'] = deleted_messages\n",
    "    return state"
   ],
   "id": "c43d434e18656904",
   "outputs": [],
   "execution_count": 371
  },
  {
   "metadata": {
    "ExecuteTime": {
     "end_time": "2025-03-25T17:27:08.688640Z",
     "start_time": "2025-03-25T17:27:08.686328Z"
    }
   },
   "cell_type": "code",
   "source": [
    "chatbot_prompt = ChatPromptTemplate.from_messages([\n",
    "    (\"system\", \"\"\"You are a travel assistant. Help answer questions based on the profile. Analyze the profile and give relevant suggestions according to the profile.\n",
    "    The order of precedence for suggestions is likes, dislikes and then preferences. Adhere to the organizational rules for budget and other corporate matters.\n",
    "    The itinerary must be in a well structured format with the most likely to visit places first. Do not provide more than 5 suggestions. Take into account if there is any meetings when providing the time for leisure activities.\n",
    "    Answer questions only related to travelling.\n",
    "    Summary of the conversation (can be empty also): {summary}\n",
    "    Profile: {profile}\"\"\"),\n",
    "    (\"human\", \"{input}\")\n",
    "\n",
    "])"
   ],
   "id": "343a0b3800773f25",
   "outputs": [],
   "execution_count": 372
  },
  {
   "metadata": {
    "ExecuteTime": {
     "end_time": "2025-03-25T17:27:09.092885Z",
     "start_time": "2025-03-25T17:27:09.090143Z"
    }
   },
   "cell_type": "code",
   "source": [
    "def chatbot(state: TravelAgent):\n",
    "    prompt = state['prompt']\n",
    "    summary = state.get('summary', \"\")\n",
    "    profile = state['profile']\n",
    "    if summary is None:\n",
    "        summary = state['messages']\n",
    "    runnable_chatbot = chatbot_prompt | llm\n",
    "    output = runnable_chatbot.invoke({'input': prompt, 'summary': summary, \"profile\": profile}).content\n",
    "    state['output'] = output\n",
    "    state['messages'] = [(\"ai\", output)]\n",
    "    return state"
   ],
   "id": "a27aa5fbaf0d2b5b",
   "outputs": [],
   "execution_count": 373
  },
  {
   "metadata": {
    "ExecuteTime": {
     "end_time": "2025-03-25T17:27:09.435108Z",
     "start_time": "2025-03-25T17:27:09.426543Z"
    }
   },
   "cell_type": "code",
   "source": [
    "graph_chatbot_builder = StateGraph(TravelAgent)\n",
    "\n",
    "graph_chatbot_builder.add_node(\"read profile\", read_profile)\n",
    "graph_chatbot_builder.add_node(\"chatbot\", chatbot)\n",
    "graph_chatbot_builder.add_node(\"summarizer and updater\", summarizer_and_updater)\n",
    "\n",
    "graph_chatbot_builder.add_edge(START, \"read profile\")\n",
    "graph_chatbot_builder.add_conditional_edges(\"read profile\", check_profiles, [\"chatbot\", END])\n",
    "graph_chatbot_builder.add_conditional_edges(\"chatbot\", route_ai, [\"summarizer and updater\", END])\n",
    "graph_chatbot_builder.add_edge(\"summarizer and updater\", END)\n",
    "\n",
    "memory = MemorySaver()\n",
    "store = InMemoryStore()\n",
    "graph_chatbot = graph_chatbot_builder.compile(checkpointer=memory, store=in_mem_store)"
   ],
   "id": "444c06ec0616cbaa",
   "outputs": [],
   "execution_count": 374
  },
  {
   "metadata": {
    "ExecuteTime": {
     "end_time": "2025-03-25T16:25:20.304985Z",
     "start_time": "2025-03-25T16:25:19.468322Z"
    }
   },
   "cell_type": "code",
   "source": "display(Image(graph_chatbot.get_graph().draw_mermaid_png()))",
   "id": "3ca232ba48150f6e",
   "outputs": [
    {
     "data": {
      "image/png": "[encoded data removed]",
      "text/plain": [
       "<IPython.core.display.Image object>"
      ]
     },
     "metadata": {},
     "output_type": "display_data"
    }
   ],
   "execution_count": 157
  },
  {
   "metadata": {
    "ExecuteTime": {
     "end_time": "2025-03-25T17:27:13.912951Z",
     "start_time": "2025-03-25T17:27:13.911027Z"
    }
   },
   "cell_type": "code",
   "source": "config = {'configurable': {'thread_id': \"chatbot-new-18\", \"user_id\": \"1002\"}}",
   "id": "91ec0850da7f68a9",
   "outputs": [],
   "execution_count": 375
  },
  {
   "metadata": {
    "ExecuteTime": {
     "end_time": "2025-03-25T17:27:26.677967Z",
     "start_time": "2025-03-25T17:27:15.692513Z"
    }
   },
   "cell_type": "code",
   "source": [
    "# for _ in range(3):\n",
    "user_input = input()\n",
    "test = graph_chatbot.invoke({\"prompt\": user_input, \"messages\": [(\"human\", user_input)]}, config=config)\n",
    "    # print(test['output'])"
   ],
   "id": "ac12e888a16f3322",
   "outputs": [
    {
     "name": "stdout",
     "output_type": "stream",
     "text": [
      "1\n"
     ]
    }
   ],
   "execution_count": 376
  },
  {
   "metadata": {
    "ExecuteTime": {
     "end_time": "2025-03-25T17:27:26.749176Z",
     "start_time": "2025-03-25T17:27:26.745056Z"
    }
   },
   "cell_type": "code",
   "source": "print(test['output'])",
   "id": "1249e53cd07057e4",
   "outputs": [
    {
     "name": "stdout",
     "output_type": "stream",
     "text": [
      "Based on Bob Smith's profile and preferences, here are some restaurant suggestions in Paris that align with his likes and dietary preferences:\n",
      "\n",
      "1. **Le Potager de Charlotte**\n",
      "   - Cuisine: Vegan\n",
      "   - Highlights: Known for its creative vegan dishes, this restaurant offers a delightful experience for those who prefer plant-based meals. It's a great spot to enjoy a vegan pasta dish.\n",
      "\n",
      "2. **Gentle Gourmet**\n",
      "   - Cuisine: Vegan\n",
      "   - Highlights: This restaurant is famous for its gourmet vegan cuisine and offers a variety of dishes that cater to vegan preferences. It's an excellent choice for a sophisticated dining experience.\n",
      "\n",
      "3. **Le Faitout**\n",
      "   - Cuisine: Vegan\n",
      "   - Highlights: A cozy spot that offers a range of vegan dishes, including pasta options. It's perfect for a casual meal while exploring the city.\n",
      "\n",
      "4. **42 Degrés**\n",
      "   - Cuisine: Raw Vegan\n",
      "   - Highlights: Known for its raw vegan menu, this restaurant provides a unique dining experience with innovative dishes that are both healthy and delicious.\n",
      "\n",
      "5. **Hank Vegan Burger**\n",
      "   - Cuisine: Vegan Fast Food\n",
      "   - Highlights: If you're in the mood for a quick and satisfying meal, Hank Vegan Burger offers delicious vegan burgers and sides, perfect for a casual lunch or dinner.\n",
      "\n",
      "These suggestions are based on Bob's preference for vegan meals and his growing fondness for pasta. Enjoy your culinary adventures in Paris!\n"
     ]
    }
   ],
   "execution_count": 377
  },
  {
   "metadata": {},
   "cell_type": "code",
   "outputs": [],
   "execution_count": null,
   "source": "",
   "id": "20d6a8021724b375"
  }
 ],
 "metadata": {
  "kernelspec": {
   "display_name": "Python 3",
   "language": "python",
   "name": "python3"
  },
  "language_info": {
   "codemirror_mode": {
    "name": "ipython",
    "version": 2
   },
   "file_extension": ".py",
   "mimetype": "text/x-python",
   "name": "python",
   "nbconvert_exporter": "python",
   "pygments_lexer": "ipython2",
   "version": "2.7.6"
  }
 },
 "nbformat": 4,
 "nbformat_minor": 5
}
