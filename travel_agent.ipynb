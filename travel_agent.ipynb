{
 "cells": [
  {
   "cell_type": "code",
   "id": "initial_id",
   "metadata": {
    "collapsed": true,
    "ExecuteTime": {
     "end_time": "2025-03-25T20:56:15.342354Z",
     "start_time": "2025-03-25T20:56:15.339395Z"
    }
   },
   "source": [
    "from langchain_core.prompts import ChatPromptTemplate\n",
    "from langchain_openai import ChatOpenAI\n",
    "from langgraph.constants import START, END\n",
    "from langgraph.graph import StateGraph, MessagesState\n",
    "from pydantic import BaseModel, Field\n",
    "from operator import add\n",
    "from serpapi import GoogleSearch\n",
    "from langgraph.prebuilt import tools_condition, ToolNode\n",
    "from langchain_core.tools import tool\n",
    "from trustcall import create_extractor\n",
    "from typing import TypedDict, Literal\n",
    "from langchain_core.runnables.config import RunnableConfig\n",
    "from langchain_core.messages import SystemMessage, HumanMessage, AIMessage, RemoveMessage, ToolMessage\n",
    "from langgraph.store.base import BaseStore\n",
    "from langgraph.checkpoint.memory import MemorySaver\n",
    "from langgraph.store.memory import InMemoryStore\n",
    "from IPython.display import Markdown, Image, display\n",
    "from dotenv import dotenv_values\n",
    "from pypdf import PdfReader\n",
    "import pandas as pd\n",
    "import os\n",
    "\n",
    "from typing_extensions import Optional"
   ],
   "outputs": [],
   "execution_count": 423
  },
  {
   "metadata": {
    "ExecuteTime": {
     "end_time": "2025-03-25T20:56:15.522071Z",
     "start_time": "2025-03-25T20:56:15.518694Z"
    }
   },
   "cell_type": "code",
   "source": [
    "env_values = {**dotenv_values(\".env.shared\"), **dotenv_values(\".env.secret\")}\n",
    "\n",
    "os.environ[\"LANGSMITH_TRACING\"] = env_values[\"LANGSMITH_TRACING\"]\n",
    "os.environ[\"LANGSMITH_ENDPOINT\"] = env_values[\"LANGSMITH_ENDPOINT\"]\n",
    "os.environ[\"LANGSMITH_API_KEY\"] = env_values[\"LANGSMITH_API_KEY\"]\n",
    "os.environ[\"LANGSMITH_PROJECT\"] = env_values[\"LANGSMITH_PROJECT\"]\n",
    "os.environ[\"OPENAI_API_KEY\"] = env_values[\"OPENAI_API_KEY\"]"
   ],
   "id": "43d734ca9d720dd1",
   "outputs": [],
   "execution_count": 424
  },
  {
   "metadata": {},
   "cell_type": "markdown",
   "source": "## Summarization graph",
   "id": "cb691589cb8e0a24"
  },
  {
   "metadata": {
    "ExecuteTime": {
     "end_time": "2025-03-25T20:56:15.828706Z",
     "start_time": "2025-03-25T20:56:15.826707Z"
    }
   },
   "cell_type": "code",
   "source": "PATH_TO_FILES = \"./Data\"",
   "id": "82d0e75cedd4dcaf",
   "outputs": [],
   "execution_count": 425
  },
  {
   "metadata": {
    "ExecuteTime": {
     "end_time": "2025-03-25T20:56:16.013558Z",
     "start_time": "2025-03-25T20:56:16.009539Z"
    }
   },
   "cell_type": "code",
   "source": [
    "def read_csv_xlsx(path: str) -> str:\n",
    "    if path.endswith(\".xlsx\"):\n",
    "        df = pd.read_excel(path)\n",
    "        return df.to_string(index=False)\n",
    "    else:\n",
    "        df = pd.read_csv(path)\n",
    "        return df.to_string(index=False)\n",
    "\n",
    "def read_pdf(path: str) -> str:\n",
    "    with open(path, \"rb\") as f:\n",
    "        reader = PdfReader(f)\n",
    "        text = \"\"\n",
    "        for page in reader.pages:\n",
    "            text += page.extractText()\n",
    "\n",
    "    return text\n",
    "\n",
    "def read_docs():\n",
    "    dirs = os.listdir(PATH_TO_FILES)\n",
    "    text = \"\"\n",
    "    for dir in dirs:\n",
    "        files = os.listdir(os.path.join(PATH_TO_FILES, dir))\n",
    "        for file in files:\n",
    "            if not file.endswith(\".pdf\"):\n",
    "                text += read_csv_xlsx(os.path.join(os.path.join(PATH_TO_FILES, dir), file))\n",
    "            else:\n",
    "                text += read_pdf(os.path.join(os.path.join(PATH_TO_FILES, dir), file))\n",
    "\n",
    "    return text"
   ],
   "id": "9c54800c2da6a9c6",
   "outputs": [],
   "execution_count": 426
  },
  {
   "metadata": {
    "ExecuteTime": {
     "end_time": "2025-03-25T20:56:16.137076Z",
     "start_time": "2025-03-25T20:56:16.128453Z"
    }
   },
   "cell_type": "code",
   "source": "test = read_docs()",
   "id": "4039bf0f978e2fd",
   "outputs": [],
   "execution_count": 427
  },
  {
   "metadata": {
    "ExecuteTime": {
     "end_time": "2025-03-25T20:56:16.352707Z",
     "start_time": "2025-03-25T20:56:16.303196Z"
    }
   },
   "cell_type": "code",
   "source": "llm = ChatOpenAI(model=\"gpt-4o\", temperature=0.4, top_p=0.38)",
   "id": "d41a66ac5ecc2671",
   "outputs": [],
   "execution_count": 428
  },
  {
   "metadata": {
    "ExecuteTime": {
     "end_time": "2025-03-25T20:56:16.422769Z",
     "start_time": "2025-03-25T20:56:16.420641Z"
    }
   },
   "cell_type": "code",
   "source": [
    "summarization_prompt = ChatPromptTemplate.from_messages([\n",
    "    (\"system\", \"You are a travel assistant. Help in summarizing the employee profiles, the organizational rules and the travel requirements. Ignore any IDs\"),\n",
    "    (\"human\", \"Summarize this {input}\")\n",
    "])"
   ],
   "id": "fcb173a8cd4e5345",
   "outputs": [],
   "execution_count": 429
  },
  {
   "metadata": {
    "ExecuteTime": {
     "end_time": "2025-03-25T20:56:16.569148Z",
     "start_time": "2025-03-25T20:56:16.567204Z"
    }
   },
   "cell_type": "code",
   "source": "runnable_summarization = summarization_prompt | llm",
   "id": "801fc6c199ffa0e0",
   "outputs": [],
   "execution_count": 430
  },
  {
   "metadata": {
    "ExecuteTime": {
     "end_time": "2025-03-25T20:56:23.187526Z",
     "start_time": "2025-03-25T20:56:16.731043Z"
    }
   },
   "cell_type": "code",
   "source": "output = runnable_summarization.invoke({'input': test}).content",
   "id": "234416916c34aa7c",
   "outputs": [],
   "execution_count": 431
  },
  {
   "metadata": {
    "ExecuteTime": {
     "end_time": "2025-03-25T20:56:23.195730Z",
     "start_time": "2025-03-25T20:56:23.192522Z"
    }
   },
   "cell_type": "code",
   "source": "Markdown(output)",
   "id": "61a02b9eb402d5fb",
   "outputs": [
    {
     "data": {
      "text/plain": [
       "<IPython.core.display.Markdown object>"
      ],
      "text/markdown": "**Employee Profiles:**\n\n1. **Alice Doe** - Senior Engineer\n   - Travel History: USA, Germany, France (3x)\n   - Preferred Airlines: Lufthansa, Delta\n   - Preferred Hotels: Marriott, Hilton\n   - Meal Preference: Vegetarian\n   - Seat Preference: Window\n   - Visa Requirement: Schengen, USA\n\n2. **Bob Smith** - Project Manager\n   - Travel History: India, UK (2x)\n   - Preferred Airlines: British Airways\n   - Preferred Hotels: IHG, Hyatt\n   - Meal Preference: Vegan\n   - Seat Preference: Aisle\n   - Visa Requirement: UK, India\n\n3. **Carol Lee** - Data Scientist\n   - Travel History: Singapore, Japan (1x)\n   - Preferred Airlines: Singapore Airlines\n   - Preferred Hotels: Marriott\n   - Meal Preference: Non-Veg\n   - Seat Preference: Aisle\n   - Visa Requirement: Japan, Singapore\n\n4. **David Wong** - Cybersecurity Lead\n   - Travel History: Canada, USA, Germany (4x)\n   - Preferred Airlines: Air Canada, Delta\n   - Preferred Hotels: Hilton\n   - Meal Preference: Kosher\n   - Seat Preference: Window\n   - Visa Requirement: Schengen, USA, Canada\n\n5. **Eva Patel** - Software Engineer\n   - Travel History: Remote (0 trips)\n   - Preferred Airlines: Emirates\n   - Preferred Hotels: Hyatt\n   - Meal Preference: Halal\n   - Seat Preference: Window\n   - Visa Requirement: Schengen\n\n**Organizational Rules:**\n\n1. Max budget per trip per employee is $3,000, region dependent.\n2. Business class flights are only for Director level and above.\n3. Approval from direct manager is required for travel abroad.\n4. Preferred airline partners are Lufthansa, Emirates, and Delta.\n5. Hotels must be 4-star or higher for company bookings.\n6. Travel insurance is mandatory for international trips.\n7. Employees cannot book flights exceeding the budget limit.\n8. Visa approval must be completed before flight booking.\n\n**Travel Requirements:**\n\n- **TR001**: Alice Doe to Berlin for a conference from July 15 to July 20, 2025, with a budget of $2,500. Status: Approved.\n- **TR002**: Bob Smith to London for a client meeting from August 1 to August 5, 2025, with a budget of $3,000. Status: Pending.\n- **TR003**: Carol Lee to Tokyo for research from September 10 to September 20, 2025, with a budget of $4,500. Status: Approved.\n- **TR004**: David Wong to Toronto for an internal audit from October 5 to October 15, 2025, with a budget of $3,500. Status: Rejected.\n- **TR005**: Eva Patel to Dubai for a business expo from November 1 to November 10, 2025, with a budget of $2,000. Status: Approved."
     },
     "execution_count": 432,
     "metadata": {},
     "output_type": "execute_result"
    }
   ],
   "execution_count": 432
  },
  {
   "metadata": {},
   "cell_type": "markdown",
   "source": "### Creation of the summary graph",
   "id": "d59b4d30b203e6c3"
  },
  {
   "metadata": {
    "ExecuteTime": {
     "end_time": "2025-03-25T20:56:23.289244Z",
     "start_time": "2025-03-25T20:56:23.243030Z"
    }
   },
   "cell_type": "code",
   "source": "llm = ChatOpenAI(model=\"gpt-4o\", temperature=0, top_p=0.38)",
   "id": "7fd865bfa2410a43",
   "outputs": [],
   "execution_count": 433
  },
  {
   "metadata": {},
   "cell_type": "markdown",
   "source": "#### States",
   "id": "b882531b8216746f"
  },
  {
   "metadata": {
    "ExecuteTime": {
     "end_time": "2025-03-25T20:56:23.299709Z",
     "start_time": "2025-03-25T20:56:23.297643Z"
    }
   },
   "cell_type": "code",
   "source": [
    "class SummaryGraphInput(TypedDict):\n",
    "    summary: str\n",
    "    text: str\n",
    "\n",
    "class SummaryGraphOutput(TypedDict):\n",
    "    summary: str\n"
   ],
   "id": "d44a2364af8bd7c5",
   "outputs": [],
   "execution_count": 434
  },
  {
   "metadata": {},
   "cell_type": "markdown",
   "source": "#### Utils",
   "id": "5cc5d9bd26ee739f"
  },
  {
   "metadata": {
    "ExecuteTime": {
     "end_time": "2025-03-25T20:56:23.347562Z",
     "start_time": "2025-03-25T20:56:23.341660Z"
    }
   },
   "cell_type": "code",
   "source": [
    "def read_csv_xlsx(path: str) -> str:\n",
    "    if path.endswith(\".xlsx\"):\n",
    "        df = pd.read_excel(path)\n",
    "        return df.to_string(index=False)\n",
    "    else:\n",
    "        df = pd.read_csv(path)\n",
    "        return df.to_string(index=False)\n",
    "\n",
    "def read_pdf(path: str) -> str:\n",
    "    with open(path, \"rb\") as f:\n",
    "        reader = PdfReader(f)\n",
    "        text = \"\"\n",
    "        for page in reader.pages:\n",
    "            text += page.extractText()\n",
    "\n",
    "    return text"
   ],
   "id": "d8495aa8c4513225",
   "outputs": [],
   "execution_count": 435
  },
  {
   "metadata": {},
   "cell_type": "markdown",
   "source": "#### Prompts",
   "id": "75cb630bbd474469"
  },
  {
   "metadata": {
    "ExecuteTime": {
     "end_time": "2025-03-25T20:56:23.397209Z",
     "start_time": "2025-03-25T20:56:23.392259Z"
    }
   },
   "cell_type": "code",
   "source": [
    "summarization_prompt = ChatPromptTemplate.from_messages([\n",
    "    (\"system\", \"You are a travel assistant. Help in summarizing the employee profiles, the organizational rules and the travel requirements. Add the employee IDs also. Ignore any other IDs. Do not provide the output in any font or styles. Provide the summary in a neat structured format.\"),\n",
    "    (\"human\", \"Summarize this {input}\")\n",
    "])"
   ],
   "id": "fe7d2806e4351d33",
   "outputs": [],
   "execution_count": 436
  },
  {
   "metadata": {},
   "cell_type": "markdown",
   "source": "#### Nodes",
   "id": "85a777a1b7b472f4"
  },
  {
   "metadata": {
    "ExecuteTime": {
     "end_time": "2025-03-25T20:56:23.444242Z",
     "start_time": "2025-03-25T20:56:23.441559Z"
    }
   },
   "cell_type": "code",
   "source": [
    "def read_docs(state: SummaryGraphInput):\n",
    "    PATH_TO_FILES = \"./Data\"\n",
    "    dirs = os.listdir(PATH_TO_FILES)\n",
    "    text = \"\"\n",
    "    for dir in dirs:\n",
    "        files = os.listdir(os.path.join(PATH_TO_FILES, dir))\n",
    "        for file in files:\n",
    "            if not file.endswith(\".pdf\"):\n",
    "                text += read_csv_xlsx(os.path.join(os.path.join(PATH_TO_FILES, dir), file))\n",
    "            else:\n",
    "                text += read_pdf(os.path.join(os.path.join(PATH_TO_FILES, dir), file))\n",
    "\n",
    "    return {'text': text}"
   ],
   "id": "ddf10bb9d373e169",
   "outputs": [],
   "execution_count": 437
  },
  {
   "metadata": {
    "ExecuteTime": {
     "end_time": "2025-03-25T20:56:23.494463Z",
     "start_time": "2025-03-25T20:56:23.489064Z"
    }
   },
   "cell_type": "code",
   "source": [
    "def summarize(state: SummaryGraphInput):\n",
    "    text = state['text']\n",
    "    runnable_summarization = summarization_prompt | llm\n",
    "    output = runnable_summarization.invoke({'input': text}).content\n",
    "    with open(\"./summary/summary.txt\", \"w\") as f:\n",
    "        f.write(output)\n",
    "    return {'summary': output}"
   ],
   "id": "faee61aeb0102054",
   "outputs": [],
   "execution_count": 438
  },
  {
   "metadata": {
    "ExecuteTime": {
     "end_time": "2025-03-25T20:56:23.554680Z",
     "start_time": "2025-03-25T20:56:23.540107Z"
    }
   },
   "cell_type": "code",
   "source": [
    "graph_summarizer_builder = StateGraph(SummaryGraphInput, output=SummaryGraphOutput)\n",
    "\n",
    "graph_summarizer_builder.add_node(\"read documents\", read_docs)\n",
    "graph_summarizer_builder.add_node(\"summarize documents\", summarize)\n",
    "\n",
    "graph_summarizer_builder.add_edge(START, \"read documents\")\n",
    "graph_summarizer_builder.add_edge(\"read documents\", \"summarize documents\")\n",
    "graph_summarizer_builder.add_edge(\"summarize documents\", END)\n",
    "\n",
    "memory = MemorySaver()\n",
    "graph_summarizer = graph_summarizer_builder.compile()"
   ],
   "id": "ea9d156798380857",
   "outputs": [],
   "execution_count": 439
  },
  {
   "metadata": {
    "ExecuteTime": {
     "end_time": "2025-03-25T20:56:24.825038Z",
     "start_time": "2025-03-25T20:56:23.602224Z"
    }
   },
   "cell_type": "code",
   "source": "display(Image(graph_summarizer.get_graph().draw_mermaid_png()))",
   "id": "37bb1e301c3cffc7",
   "outputs": [
    {
     "data": {
      "image/png": "[encoded data removed]",
      "text/plain": [
       "<IPython.core.display.Image object>"
      ]
     },
     "metadata": {},
     "output_type": "display_data"
    }
   ],
   "execution_count": 440
  },
  {
   "metadata": {
    "ExecuteTime": {
     "end_time": "2025-03-25T20:56:32.206017Z",
     "start_time": "2025-03-25T20:56:24.839638Z"
    }
   },
   "cell_type": "code",
   "source": "Markdown(graph_summarizer.invoke({}, config={'configurable': {'thread_id': \"summarizer_4\"}})['summary'])",
   "id": "42e00bc8432593c8",
   "outputs": [
    {
     "data": {
      "text/plain": [
       "<IPython.core.display.Markdown object>"
      ],
      "text/markdown": "Employee Profiles:\n1. Employee ID: 1001\n   - Name: Alice Doe\n   - Role: Senior Engineer\n   - Travel History: USA, Germany, France (3x)\n   - Preferred Airlines: Lufthansa, Delta\n   - Preferred Hotels: Marriott, Hilton\n   - Meal Preference: Vegetarian\n   - Seat Preference: Window\n   - Visa Requirement: Schengen, USA\n\n2. Employee ID: 1002\n   - Name: Bob Smith\n   - Role: Project Manager\n   - Travel History: India, UK (2x)\n   - Preferred Airlines: British Airways\n   - Preferred Hotels: IHG, Hyatt\n   - Meal Preference: Vegan\n   - Seat Preference: Aisle\n   - Visa Requirement: UK, India\n\n3. Employee ID: 1003\n   - Name: Carol Lee\n   - Role: Data Scientist\n   - Travel History: Singapore, Japan (1x)\n   - Preferred Airlines: Singapore Airlines\n   - Preferred Hotels: Marriott\n   - Meal Preference: Non-Veg\n   - Seat Preference: Aisle\n   - Visa Requirement: Japan, Singapore\n\n4. Employee ID: 1004\n   - Name: David Wong\n   - Role: Cybersecurity Lead\n   - Travel History: Canada, USA, Germany (4x)\n   - Preferred Airlines: Air Canada, Delta\n   - Preferred Hotels: Hilton\n   - Meal Preference: Kosher\n   - Seat Preference: Window\n   - Visa Requirement: Schengen, USA, Canada\n\n5. Employee ID: 1005\n   - Name: Eva Patel\n   - Role: Software Engineer\n   - Travel History: Remote (0 trips)\n   - Preferred Airlines: Emirates\n   - Preferred Hotels: Hyatt\n   - Meal Preference: Halal\n   - Seat Preference: Window\n   - Visa Requirement: Schengen\n\nOrganizational Rules:\n1. Max budget per trip per employee: $3,000 (Region dependent)\n2. Business class flights only for Director level & above\n3. Approval from direct manager required for travel abroad\n4. Preferred airline partners: Lufthansa, Emirates, Delta\n5. Hotels must be 4-star or higher for company bookings\n6. Travel insurance mandatory for international trips\n7. Employees cannot book flights exceeding the budget limit\n8. Visa approval must be completed before flight booking\n\nTravel Requirements:\n1. Employee ID: 1001\n   - Destination: Berlin\n   - Purpose: Conference\n   - Start Date: 2025-07-15\n   - End Date: 2025-07-20\n   - Budget Limit: $2500\n   - Approval Status: Approved\n\n2. Employee ID: 1002\n   - Destination: London\n   - Purpose: Client Meeting\n   - Start Date: 2025-08-01\n   - End Date: 2025-08-05\n   - Budget Limit: $3000\n   - Approval Status: Pending\n\n3. Employee ID: 1003\n   - Destination: Tokyo\n   - Purpose: Research\n   - Start Date: 2025-09-10\n   - End Date: 2025-09-20\n   - Budget Limit: $4500\n   - Approval Status: Approved\n\n4. Employee ID: 1004\n   - Destination: Toronto\n   - Purpose: Internal Audit\n   - Start Date: 2025-10-05\n   - End Date: 2025-10-15\n   - Budget Limit: $3500\n   - Approval Status: Rejected\n\n5. Employee ID: 1005\n   - Destination: Dubai\n   - Purpose: Business Expo\n   - Start Date: 2025-11-01\n   - End Date: 2025-11-10\n   - Budget Limit: $2000\n   - Approval Status: Approved"
     },
     "execution_count": 441,
     "metadata": {},
     "output_type": "execute_result"
    }
   ],
   "execution_count": 441
  },
  {
   "metadata": {},
   "cell_type": "markdown",
   "source": "## Travel Agent AI",
   "id": "4e91c14787a4b85"
  },
  {
   "metadata": {},
   "cell_type": "markdown",
   "source": "### Creation of the graph",
   "id": "5509ef0365c18541"
  },
  {
   "metadata": {},
   "cell_type": "markdown",
   "source": "#### Output Formats",
   "id": "c9eec4f7ba46f890"
  },
  {
   "metadata": {
    "ExecuteTime": {
     "end_time": "2025-03-25T20:56:32.229138Z",
     "start_time": "2025-03-25T20:56:32.219970Z"
    }
   },
   "cell_type": "code",
   "source": [
    "class Profile(BaseModel):\n",
    "    travel_history: str = Field(description=\"The travel history of the employee.\")\n",
    "    preferences: str = Field(description=\"The preferences s (airlines, hotels, window/aisle, meal choice, etc.) of the employee.\")\n",
    "    role_specific_permissions: str = Field(description=\"The roles specific to this employee.\")\n",
    "    likes: str | None = Field(description=\"The likes of the employee.\")\n",
    "    dislikes: str | None = Field(description=\"The dislikes of the employee.\")\n",
    "    place_of_stay: str | None = Field(description=\"The place of stay of the employee, during the travel\")\n",
    "\n",
    "class TravelRequirements(BaseModel):\n",
    "    destination: str = Field(description=\"The destination of travel the employee.\")\n",
    "    source: str | None = Field(description=\"The place from which the employee will start travelling\")\n",
    "    purpose: Literal['leisure', 'business'] = Field(description=\"The purpose of travel the employee.\")\n",
    "    date_of_departure: str = Field(description=\"The date of departure of the employee.\")\n",
    "    date_of_arrival: str = Field(description=\"The date of arrival of the employee.\")\n",
    "    duration: str = Field(description=\"The duration of travel the employee.\")\n",
    "\n",
    "class OrganizationalRules(BaseModel):\n",
    "    travel_budgets: str = Field(description=\"The travel budgets of the organization for each cadre of employee\")\n",
    "    approval_hierarchies: str= Field(description=\"The approval hierarchies for each employee.\")\n",
    "    preferred_vendors: str = Field(description=\"The preferred vendors for the organization.\")\n",
    "    visa_requirements: str = Field(description=\"The type of visa requirements for the travel.\")\n",
    "\n",
    "class Traveller(BaseModel):\n",
    "    name: str = Field(description=\"The name of the employee.\")\n",
    "    employee_id: str = Field(description=\"The ID of the employee.\")\n",
    "    profile: Profile = Field(description=\"The profile of the employee.\")\n",
    "    travel_requirements: TravelRequirements = Field(description=\"The travel requirements for the employee.\")\n",
    "    organizational_rules: OrganizationalRules = Field(description=\"The organizational rules for the employee.\")\n",
    "\n",
    "class Travellers(BaseModel):\n",
    "    travellers: list[Traveller] = Field(description=\"The list of travellers.\")\n"
   ],
   "id": "8dddf7b48beffc09",
   "outputs": [],
   "execution_count": 442
  },
  {
   "metadata": {
    "ExecuteTime": {
     "end_time": "2025-03-25T20:56:32.276419Z",
     "start_time": "2025-03-25T20:56:32.274598Z"
    }
   },
   "cell_type": "code",
   "source": "from pprint import pprint",
   "id": "a95d34f622e7e5da",
   "outputs": [],
   "execution_count": 443
  },
  {
   "metadata": {
    "ExecuteTime": {
     "end_time": "2025-03-25T20:56:32.383984Z",
     "start_time": "2025-03-25T20:56:32.318648Z"
    }
   },
   "cell_type": "code",
   "source": [
    "llm = ChatOpenAI(model=\"gpt-4o\", temperature=0)\n",
    "\n",
    "trustcall_extractor = create_extractor(\n",
    "    llm,\n",
    "    tools=[Travellers],\n",
    "    tool_choice=\"Travellers\"\n",
    ")"
   ],
   "id": "8e68e80e17125836",
   "outputs": [],
   "execution_count": 444
  },
  {
   "metadata": {
    "ExecuteTime": {
     "end_time": "2025-03-25T20:56:32.394941Z",
     "start_time": "2025-03-25T20:56:32.393097Z"
    }
   },
   "cell_type": "code",
   "source": [
    "with open(\"./summary/summary.txt\", \"r\") as f:\n",
    "    data = f.read()"
   ],
   "id": "fc09f8869b3d8003",
   "outputs": [],
   "execution_count": 445
  },
  {
   "metadata": {
    "ExecuteTime": {
     "end_time": "2025-03-25T20:56:32.440393Z",
     "start_time": "2025-03-25T20:56:32.437431Z"
    }
   },
   "cell_type": "code",
   "source": [
    "system_msg = \"Extract the profiles of all employees from the given data. {data}\"\n",
    "trustcaller_system_message = SystemMessage(content=system_msg.format(data=data))"
   ],
   "id": "db27fb4354a16231",
   "outputs": [],
   "execution_count": 446
  },
  {
   "metadata": {
    "ExecuteTime": {
     "end_time": "2025-03-25T20:56:40.621170Z",
     "start_time": "2025-03-25T20:56:32.485765Z"
    }
   },
   "cell_type": "code",
   "source": "result = trustcall_extractor.invoke({\"messages\": [trustcaller_system_message]})",
   "id": "c5a886bdd91db303",
   "outputs": [],
   "execution_count": 447
  },
  {
   "metadata": {
    "ExecuteTime": {
     "end_time": "2025-03-25T20:56:40.636351Z",
     "start_time": "2025-03-25T20:56:40.634600Z"
    }
   },
   "cell_type": "code",
   "source": "schema = result['responses']",
   "id": "215f9c976f7b0acc",
   "outputs": [],
   "execution_count": 448
  },
  {
   "metadata": {
    "ExecuteTime": {
     "end_time": "2025-03-25T20:56:40.690730Z",
     "start_time": "2025-03-25T20:56:40.681977Z"
    }
   },
   "cell_type": "code",
   "source": "schema[0].model_dump()",
   "id": "45936233cbfea796",
   "outputs": [
    {
     "data": {
      "text/plain": [
       "{'travellers': [{'name': 'Alice Doe',\n",
       "   'employee_id': '1001',\n",
       "   'profile': {'travel_history': 'USA, Germany, France (3x)',\n",
       "    'preferences': 'Preferred Airlines: Lufthansa, Delta; Preferred Hotels: Marriott, Hilton; Meal Preference: Vegetarian; Seat Preference: Window',\n",
       "    'role_specific_permissions': 'Senior Engineer',\n",
       "    'likes': None,\n",
       "    'dislikes': None,\n",
       "    'place_of_stay': None},\n",
       "   'travel_requirements': {'destination': 'Berlin',\n",
       "    'source': None,\n",
       "    'purpose': 'business',\n",
       "    'date_of_departure': '2025-07-15',\n",
       "    'date_of_arrival': '2025-07-20',\n",
       "    'duration': '5 days'},\n",
       "   'organizational_rules': {'travel_budgets': 'Max budget per trip per employee: $3,000 (Region dependent)',\n",
       "    'approval_hierarchies': 'Approval from direct manager required for travel abroad',\n",
       "    'preferred_vendors': 'Preferred airline partners: Lufthansa, Emirates, Delta; Hotels must be 4-star or higher for company bookings',\n",
       "    'visa_requirements': 'Visa approval must be completed before flight booking'}},\n",
       "  {'name': 'Bob Smith',\n",
       "   'employee_id': '1002',\n",
       "   'profile': {'travel_history': 'India, UK (2x)',\n",
       "    'preferences': 'Preferred Airlines: British Airways; Preferred Hotels: IHG, Hyatt; Meal Preference: Vegan; Seat Preference: Aisle',\n",
       "    'role_specific_permissions': 'Project Manager',\n",
       "    'likes': None,\n",
       "    'dislikes': None,\n",
       "    'place_of_stay': None},\n",
       "   'travel_requirements': {'destination': 'London',\n",
       "    'source': None,\n",
       "    'purpose': 'business',\n",
       "    'date_of_departure': '2025-08-01',\n",
       "    'date_of_arrival': '2025-08-05',\n",
       "    'duration': '4 days'},\n",
       "   'organizational_rules': {'travel_budgets': 'Max budget per trip per employee: $3,000 (Region dependent)',\n",
       "    'approval_hierarchies': 'Approval from direct manager required for travel abroad',\n",
       "    'preferred_vendors': 'Preferred airline partners: Lufthansa, Emirates, Delta; Hotels must be 4-star or higher for company bookings',\n",
       "    'visa_requirements': 'Visa approval must be completed before flight booking'}},\n",
       "  {'name': 'Carol Lee',\n",
       "   'employee_id': '1003',\n",
       "   'profile': {'travel_history': 'Singapore, Japan (1x)',\n",
       "    'preferences': 'Preferred Airlines: Singapore Airlines; Preferred Hotels: Marriott; Meal Preference: Non-Veg; Seat Preference: Aisle',\n",
       "    'role_specific_permissions': 'Data Scientist',\n",
       "    'likes': None,\n",
       "    'dislikes': None,\n",
       "    'place_of_stay': None},\n",
       "   'travel_requirements': {'destination': 'Tokyo',\n",
       "    'source': None,\n",
       "    'purpose': 'business',\n",
       "    'date_of_departure': '2025-09-10',\n",
       "    'date_of_arrival': '2025-09-20',\n",
       "    'duration': '10 days'},\n",
       "   'organizational_rules': {'travel_budgets': 'Max budget per trip per employee: $3,000 (Region dependent)',\n",
       "    'approval_hierarchies': 'Approval from direct manager required for travel abroad',\n",
       "    'preferred_vendors': 'Preferred airline partners: Lufthansa, Emirates, Delta; Hotels must be 4-star or higher for company bookings',\n",
       "    'visa_requirements': 'Visa approval must be completed before flight booking'}},\n",
       "  {'name': 'David Wong',\n",
       "   'employee_id': '1004',\n",
       "   'profile': {'travel_history': 'Canada, USA, Germany (4x)',\n",
       "    'preferences': 'Preferred Airlines: Air Canada, Delta; Preferred Hotels: Hilton; Meal Preference: Kosher; Seat Preference: Window',\n",
       "    'role_specific_permissions': 'Cybersecurity Lead',\n",
       "    'likes': None,\n",
       "    'dislikes': None,\n",
       "    'place_of_stay': None},\n",
       "   'travel_requirements': {'destination': 'Toronto',\n",
       "    'source': None,\n",
       "    'purpose': 'business',\n",
       "    'date_of_departure': '2025-10-05',\n",
       "    'date_of_arrival': '2025-10-15',\n",
       "    'duration': '10 days'},\n",
       "   'organizational_rules': {'travel_budgets': 'Max budget per trip per employee: $3,000 (Region dependent)',\n",
       "    'approval_hierarchies': 'Approval from direct manager required for travel abroad',\n",
       "    'preferred_vendors': 'Preferred airline partners: Lufthansa, Emirates, Delta; Hotels must be 4-star or higher for company bookings',\n",
       "    'visa_requirements': 'Visa approval must be completed before flight booking'}},\n",
       "  {'name': 'Eva Patel',\n",
       "   'employee_id': '1005',\n",
       "   'profile': {'travel_history': 'Remote (0 trips)',\n",
       "    'preferences': 'Preferred Airlines: Emirates; Preferred Hotels: Hyatt; Meal Preference: Halal; Seat Preference: Window',\n",
       "    'role_specific_permissions': 'Software Engineer',\n",
       "    'likes': None,\n",
       "    'dislikes': None,\n",
       "    'place_of_stay': None},\n",
       "   'travel_requirements': {'destination': 'Dubai',\n",
       "    'source': None,\n",
       "    'purpose': 'business',\n",
       "    'date_of_departure': '2025-11-01',\n",
       "    'date_of_arrival': '2025-11-10',\n",
       "    'duration': '9 days'},\n",
       "   'organizational_rules': {'travel_budgets': 'Max budget per trip per employee: $3,000 (Region dependent)',\n",
       "    'approval_hierarchies': 'Approval from direct manager required for travel abroad',\n",
       "    'preferred_vendors': 'Preferred airline partners: Lufthansa, Emirates, Delta; Hotels must be 4-star or higher for company bookings',\n",
       "    'visa_requirements': 'Visa approval must be completed before flight booking'}}]}"
      ]
     },
     "execution_count": 449,
     "metadata": {},
     "output_type": "execute_result"
    }
   ],
   "execution_count": 449
  },
  {
   "metadata": {
    "ExecuteTime": {
     "end_time": "2025-03-25T20:56:40.743410Z",
     "start_time": "2025-03-25T20:56:40.740540Z"
    }
   },
   "cell_type": "code",
   "source": "travellers =  result[\"messages\"][0].tool_calls[0]['args']['travellers']",
   "id": "420dc6df3aff2a99",
   "outputs": [],
   "execution_count": 450
  },
  {
   "metadata": {
    "ExecuteTime": {
     "end_time": "2025-03-25T20:56:40.788765Z",
     "start_time": "2025-03-25T20:56:40.786380Z"
    }
   },
   "cell_type": "code",
   "source": [
    "in_mem_store = InMemoryStore()\n",
    "\n",
    "\n",
    "for traveller in travellers:\n",
    "    key = traveller.get(\"employee_id\", None)\n",
    "    if key is not None:\n",
    "        namespace = (\"memory\", key.lower())\n",
    "        in_mem_store.put(namespace, \"traveler\", traveller)\n"
   ],
   "id": "830a3156cc72aff4",
   "outputs": [],
   "execution_count": 451
  },
  {
   "metadata": {
    "ExecuteTime": {
     "end_time": "2025-03-25T20:56:40.841600Z",
     "start_time": "2025-03-25T20:56:40.836844Z"
    }
   },
   "cell_type": "code",
   "source": [
    "for m in in_mem_store.search((\"memory\", \"1001\")):\n",
    "    pprint(m)"
   ],
   "id": "2e2c5cc4203078f6",
   "outputs": [
    {
     "name": "stdout",
     "output_type": "stream",
     "text": [
      "Item(namespace=['memory', '1001'], key='traveler', value={'name': 'Alice Doe', 'employee_id': '1001', 'profile': {'travel_history': 'USA, Germany, France (3x)', 'preferences': 'Preferred Airlines: Lufthansa, Delta; Preferred Hotels: Marriott, Hilton; Meal Preference: Vegetarian; Seat Preference: Window', 'role_specific_permissions': 'Senior Engineer', 'likes': None, 'dislikes': None, 'place_of_stay': None}, 'travel_requirements': {'destination': 'Berlin', 'source': None, 'purpose': 'business', 'date_of_departure': '2025-07-15', 'date_of_arrival': '2025-07-20', 'duration': '5 days'}, 'organizational_rules': {'travel_budgets': 'Max budget per trip per employee: $3,000 (Region dependent)', 'approval_hierarchies': 'Approval from direct manager required for travel abroad', 'preferred_vendors': 'Preferred airline partners: Lufthansa, Emirates, Delta; Hotels must be 4-star or higher for company bookings', 'visa_requirements': 'Visa approval must be completed before flight booking'}}, created_at='2025-03-25T20:56:40.787521+00:00', updated_at='2025-03-25T20:56:40.787523+00:00', score=None)\n"
     ]
    }
   ],
   "execution_count": 452
  },
  {
   "metadata": {
    "ExecuteTime": {
     "end_time": "2025-03-25T20:56:40.893426Z",
     "start_time": "2025-03-25T20:56:40.890576Z"
    }
   },
   "cell_type": "code",
   "source": "",
   "id": "350a9794fc632170",
   "outputs": [],
   "execution_count": null
  },
  {
   "metadata": {},
   "cell_type": "markdown",
   "source": "#### States",
   "id": "13695a6e96cda1eb"
  },
  {
   "metadata": {
    "ExecuteTime": {
     "end_time": "2025-03-25T20:56:40.944006Z",
     "start_time": "2025-03-25T20:56:40.939789Z"
    }
   },
   "cell_type": "code",
   "source": [
    "class TravelAgent(MessagesState):\n",
    "    profile: Traveller\n",
    "    output: str\n",
    "    prompt: str\n",
    "    summary: str"
   ],
   "id": "420507ca698ebff3",
   "outputs": [],
   "execution_count": 453
  },
  {
   "metadata": {
    "ExecuteTime": {
     "end_time": "2025-03-25T20:56:40.994236Z",
     "start_time": "2025-03-25T20:56:40.989842Z"
    }
   },
   "cell_type": "code",
   "source": [
    "class ToolCalls(TypedDict):\n",
    "    tools: Literal['flight', 'traffic', 'weather', 'hotel']"
   ],
   "id": "e19c1920f07aa0ab",
   "outputs": [],
   "execution_count": 454
  },
  {
   "metadata": {},
   "cell_type": "markdown",
   "source": "#### Prompts",
   "id": "235d25c1305331fb"
  },
  {
   "metadata": {
    "ExecuteTime": {
     "end_time": "2025-03-25T20:56:41.043954Z",
     "start_time": "2025-03-25T20:56:41.039188Z"
    }
   },
   "cell_type": "code",
   "source": [
    "travel_agent_prompt = ChatPromptTemplate.from_messages([\n",
    "    (\"system\", \"\"\"You are a travel assistant. Understand the summary {summary} and help provide responses.\n",
    "    Help provide the itenary, suggest good hotels, the type of transport, the weather, the flight details, and help mark the calender also. You are essentially a travel concierge. Only respond to travel related questions.\n",
    "    \"\"\"),\n",
    "    (\"placeholder\", \"{history}\"),\n",
    "    (\"human\", \"{prompt}\")\n",
    "])"
   ],
   "id": "21d76a4ccf27ac55",
   "outputs": [],
   "execution_count": 455
  },
  {
   "metadata": {},
   "cell_type": "markdown",
   "source": "#### Create Nodes",
   "id": "b77b17c41813c4b9"
  },
  {
   "metadata": {
    "ExecuteTime": {
     "end_time": "2025-03-25T20:56:41.095688Z",
     "start_time": "2025-03-25T20:56:41.089519Z"
    }
   },
   "cell_type": "code",
   "source": [
    "def read_profile(state: TravelAgent, config: RunnableConfig, store: BaseStore):\n",
    "    id = config['configurable']['user_id']\n",
    "    namespace = (\"memory\", id)\n",
    "    profile = store.get(namespace, \"traveler\")\n",
    "    state['profile'] = profile.value\n",
    "    return state"
   ],
   "id": "480ce2fe7f7b6ecb",
   "outputs": [],
   "execution_count": 456
  },
  {
   "metadata": {
    "ExecuteTime": {
     "end_time": "2025-03-25T20:56:41.144667Z",
     "start_time": "2025-03-25T20:56:41.140333Z"
    }
   },
   "cell_type": "code",
   "source": [
    "def check_profiles(state: TravelAgent):\n",
    "    profile = state['profile']\n",
    "    if profile is None:\n",
    "        return END\n",
    "    else:\n",
    "        return \"chatbot\"\n"
   ],
   "id": "c567fd5f8a0ce9d2",
   "outputs": [],
   "execution_count": 457
  },
  {
   "metadata": {
    "ExecuteTime": {
     "end_time": "2025-03-25T20:56:41.195464Z",
     "start_time": "2025-03-25T20:56:41.190729Z"
    }
   },
   "cell_type": "code",
   "source": [
    "summarization_prompt = ChatPromptTemplate.from_messages([\n",
    "    (\"system\", \"\"\"You are an assistant, who helps in summarizing the conversation.\n",
    "    Conversation: {messages}\"\"\"),\n",
    "    (\"human\", \"Summarize the conversation\")\n",
    "])"
   ],
   "id": "6c42c56637db4fb1",
   "outputs": [],
   "execution_count": 458
  },
  {
   "metadata": {
    "ExecuteTime": {
     "end_time": "2025-03-25T20:56:41.246706Z",
     "start_time": "2025-03-25T20:56:41.240840Z"
    }
   },
   "cell_type": "code",
   "source": [
    "def route_ai(state: TravelAgent):\n",
    "    messages = state['messages']\n",
    "    count = 0\n",
    "    for message in messages:\n",
    "        if isinstance(message, AIMessage) and count < 5:\n",
    "            if message.content:\n",
    "                count += 1\n",
    "    print(count)\n",
    "    if count >= 5:\n",
    "        return \"summarizer and updater\"\n",
    "    else:\n",
    "        return END"
   ],
   "id": "92b655474ca5464e",
   "outputs": [],
   "execution_count": 459
  },
  {
   "metadata": {
    "ExecuteTime": {
     "end_time": "2025-03-25T20:56:41.291786Z",
     "start_time": "2025-03-25T20:56:41.289779Z"
    }
   },
   "cell_type": "code",
   "source": "TRUSTCALL_INSTRUCTION = \"\"\"Create or update the memory (JSON doc) to incorporate information from the following conversation only if necessary. Do not change the organization rules. If no changes are necessary then return None\"\"\"",
   "id": "8fe7aef7cd00be79",
   "outputs": [],
   "execution_count": 460
  },
  {
   "metadata": {
    "ExecuteTime": {
     "end_time": "2025-03-25T20:56:41.344434Z",
     "start_time": "2025-03-25T20:56:41.337107Z"
    }
   },
   "cell_type": "code",
   "source": [
    "def summarizer_and_updater(state: TravelAgent, config: RunnableConfig, store: BaseStore):\n",
    "    messages = state['messages']\n",
    "    runnable_summarizer = summarization_prompt | llm\n",
    "    extractor = create_extractor(\n",
    "        llm,\n",
    "        tools=[Traveller],\n",
    "        tool_choice=\"Traveller\"\n",
    "    )\n",
    "    summary = state.get('summary', \"\")\n",
    "    output = runnable_summarizer.invoke({'messages': messages}).content\n",
    "    summary += output\n",
    "    deleted_messages = [RemoveMessage(id=message.id) for message in messages[:-4]]\n",
    "    profile = state['profile']\n",
    "    json_profile = {\"Traveller\": profile}\n",
    "\n",
    "    result = extractor.invoke({\"messages\": [SystemMessage(content=TRUSTCALL_INSTRUCTION)] + messages, 'existing': json_profile})\n",
    "    updated_profile = result['responses'][0].model_dump()\n",
    "    store.put((\"memory\", config['configurable']['user_id']), 'traveler', updated_profile)\n",
    "    state['summary'] = summary\n",
    "    state['messages'] = deleted_messages\n",
    "    return state"
   ],
   "id": "c43d434e18656904",
   "outputs": [],
   "execution_count": 461
  },
  {
   "metadata": {
    "ExecuteTime": {
     "end_time": "2025-03-25T21:09:13.555616Z",
     "start_time": "2025-03-25T21:09:13.552997Z"
    }
   },
   "cell_type": "code",
   "source": [
    "chatbot_prompt = ChatPromptTemplate.from_messages([\n",
    "    (\"system\", \"\"\"You are a travel assistant. Help answer questions based on the profile. Analyze the profile and give relevant suggestions according to the profile.\n",
    "    The order of precedence for suggestions is likes, dislikes and then preferences. Adhere to the organizational rules for budget and other corporate matters.\n",
    "    The itinerary must be in a well structured format with the most likely to visit places first. Do not provide more than 5 suggestions. Take into account if there is any meetings when providing the time for leisure activities. You are essentially a travel concierge.\n",
    "    If there is some ambiguity in the question posed by the user, analyze the history to make some inferences, if that also does not work then ask a follow up question to rectify the ambiguity.\n",
    "    Retrieve all the  details regarding flight booking and hotel booking,from the profile, including the dates of travel and dates of stay. If the details are not present, then ask the user to clarify the details.\n",
    "    If there is any error in fetching the data, ask the user to change the details.\n",
    "    For the flight details and booking, use the get_flight_data tool. Make sure to provide the IATA code when using this tool.\n",
    "    Answer questions only related to travelling.\n",
    "    Summary of the conversation (can be empty also): {summary}\n",
    "    Reply from the tools (can be empty also): {reply}\n",
    "    If there is a reply from the tool calls, then provide the output based on the reply from the tool.\n",
    "    Profile: {profile}\"\"\"),\n",
    "    (\"placeholder\", \"{messages}\"),\n",
    "    (\"human\", \"{input}\")\n",
    "\n",
    "])"
   ],
   "id": "343a0b3800773f25",
   "outputs": [],
   "execution_count": 540
  },
  {
   "metadata": {
    "ExecuteTime": {
     "end_time": "2025-03-25T21:09:13.741399Z",
     "start_time": "2025-03-25T21:09:13.738168Z"
    }
   },
   "cell_type": "code",
   "source": [
    "def chatbot(state: TravelAgent):\n",
    "    prompt = state['prompt']\n",
    "    summary = state.get('summary', None)\n",
    "    profile = state['profile']\n",
    "    messages = state['messages']\n",
    "    reply = \"\"\n",
    "    if summary is None:\n",
    "        # print(\"Inside\")\n",
    "        summary = \"\"\n",
    "        last_instance = messages[-1]\n",
    "        if isinstance(last_instance, ToolMessage):\n",
    "            reply = last_instance.content\n",
    "            if isinstance(summary, list):\n",
    "                messages.pop()\n",
    "                messages.pop()\n",
    "    # print(summary)\n",
    "    runnable_chatbot = chatbot_prompt | llm.bind_tools(tools, parallel_tool_calls=False)\n",
    "    output = runnable_chatbot.invoke({'input': prompt, 'summary': summary, \"profile\": profile, \"reply\": reply, 'messages': messages})\n",
    "    state['output'] = output.content\n",
    "    state['messages'] = [output]\n",
    "    return state"
   ],
   "id": "a27aa5fbaf0d2b5b",
   "outputs": [],
   "execution_count": 541
  },
  {
   "metadata": {
    "ExecuteTime": {
     "end_time": "2025-03-25T21:09:13.941866Z",
     "start_time": "2025-03-25T21:09:13.939871Z"
    }
   },
   "cell_type": "code",
   "source": "import json",
   "id": "ab8f0f794cef04ab",
   "outputs": [],
   "execution_count": 542
  },
  {
   "metadata": {
    "ExecuteTime": {
     "end_time": "2025-03-25T21:14:22.817575Z",
     "start_time": "2025-03-25T21:14:22.807670Z"
    }
   },
   "cell_type": "code",
   "source": [
    "@tool\n",
    "def get_flight_data(departure_city:str, arrival_city:str, arrival_date:str | None, outbound_date:str, currency:str=\"USD\", type:str=\"1\", travel_class:str=\"1\", multi_city_json:str=None, adults:str=\"1\", children:str=\"0\", sort_by:str=\"1\", stops:str=\"0\", return_times:str=None, layover_duration:str=None, max_price:str=None) -> dict:\n",
    "    \"\"\"\n",
    "    Fetch flight details using SerpAPI.\n",
    "\n",
    "    Parameters:\n",
    "    departure_id (str): Name of the departure city in IATA code (e.g., 'New York').\n",
    "    arrival_id (str): Name of the arrival city in IATA code (e.g., 'London').\n",
    "    arrival_date (str | None): Return date in YYYY-MM-DD format.\n",
    "    outbound_date (str): Departure date in YYYY-MM-DD format.\n",
    "    currency (str): Parameter defines the currency of the returned prices.\n",
    "    type (str): Parameter defines the type of the flights. Available options:\n",
    "\n",
    "        1 - Round trip (default)\n",
    "        2 - One way\n",
    "        3 - Multi-city\n",
    "\n",
    "\n",
    "    travel_class (str): Parameter defines the travel class.\n",
    "            Available options:\n",
    "            1 - Economy (default)\n",
    "            2 - Premium economy\n",
    "            3 - Business\n",
    "            4 - First\n",
    "\n",
    "    multi_city_json (dict): Parameter defines the flight information for multi-city flights. It's a JSON string containing multiple flight information objects. Each object should contain the following fields:\n",
    "\n",
    "departure_id - The departure airport code or location kgmid. The format is the same as the main departure_id parameter.\n",
    "arrival_id - The arrival airport code or location kgmid. The format is the same as the main arrival_id parameter.\n",
    "date - Flight date. The format is the same as the outbound_date parameter.\n",
    "times - Time range for the flight. The format is the same as the outbound_times parameter. This parameter is optional.\n",
    "\n",
    "Example:\n",
    "[{\"departure_id\":\"CDG\",\"arrival_id\":\"NRT\",\"date\":\"2025-04-01\"},{\"departure_id\":\"NRT\",\"arrival_id\":\"LAX,SEA\",\"date\":\"2025-04-08\"},{\"departure_id\":\"LAX,SEA\",\"arrival_id\":\"AUS\",\"date\":\"2025-04-15\",\"times\":\"8,18,9,23\"}]\n",
    "\n",
    "    adults (str): Number of adults\n",
    "    children (str): Number of children\n",
    "    sort_by (str): Parameter defines the sorting order of the results.\n",
    "            Available options:\n",
    "\n",
    "            1 - Top flights (default)\n",
    "            2 - Price\n",
    "            3 - Departure time\n",
    "            4 - Arrival time\n",
    "            5 - Duration\n",
    "            6 - Emissions\n",
    "    stops (str): Parameter defines the number of stops during the flight.\n",
    "                Available options:\n",
    "\n",
    "                0 - Any number of stops (default)\n",
    "                1 - Nonstop only\n",
    "                2 - 1 stop or fewer\n",
    "                3 - 2 stops or fewer\n",
    "    max_price (str): Maximum price of the ticket.\n",
    "    return_times (str): Parameter defines the return times range. It's a string containing two (for departure only) or four (for departure and arrival) comma-separated numbers. Each number represents the beginning of an hour. For example:\n",
    "\n",
    "        4,18: 4:00 AM - 7:00 PM departure\n",
    "        0,18: 12:00 AM - 7:00 PM departure\n",
    "        19,23: 7:00 PM - 12:00 AM departure\n",
    "        4,18,3,19: 4:00 AM - 7:00 PM departure, 3:00 AM - 8:00 PM arrival\n",
    "        0,23,3,19: unrestricted departure, 3:00 AM - 8:00 PM arrival\n",
    "\n",
    "    layover_duration (str): Parameter defines the layover duration, in minutes. It's a string containing two comma-separated numbers. For example, specify 90,330 for 1 hr 30 min - 5 hr 30 min.\n",
    "\n",
    "    Returns:\n",
    "    dict: Flight details if available, else an error message.\n",
    "    \"\"\"\n",
    "    params = {\n",
    "        \"engine\": \"google_flights\",\n",
    "        \"departure_id\": departure_city,\n",
    "        \"arrival_id\": arrival_city,\n",
    "        \"return_date\": arrival_date,\n",
    "        \"outbound_date\": outbound_date,\n",
    "        \"api_key\": env_values[\"SERP_API_KEY\"],\n",
    "        \"currency\": currency,\n",
    "        \"type\": type,\n",
    "        \"travel_class\": travel_class,\n",
    "        \"multi_city_json\": multi_city_json,\n",
    "        \"adults\": adults,\n",
    "        \"children\": children,\n",
    "        \"sort_by\": sort_by,\n",
    "        \"max_price\": max_price,\n",
    "        \"return_times\": return_times,\n",
    "        \"layover_duration\": layover_duration,\n",
    "        \"stops\": stops,\n",
    "    }\n",
    "\n",
    "    try:\n",
    "        search = GoogleSearch(params)\n",
    "        results = search.get_dict()\n",
    "        results = results['best_flights'][:10]\n",
    "        # print(results)\n",
    "        cleaned_flights = [clean_flight_data(flight) for flight in results]\n",
    "        tidy_json = json.dumps(cleaned_flights, indent=4)\n",
    "        # print(tidy_json)\n",
    "        return tidy_json\n",
    "    except:\n",
    "        return \"There are no such flights for the given criteria.\"\n",
    "    # if results:\n",
    "    #     return results[\"flights_results\"][:10]  # Return top 10 results\n",
    "    # else:\n",
    "    #     return {\"error\": \"Failed to fetch data or no flights found\"}\n",
    "\n",
    "\n",
    "# Example usage\n",
    "# api_key = \"your_serpapi_key\"\n",
    "# flights = get_flight_data(api_key, \"New York\", \"London\", \"2025-04-01\")\n",
    "# print(flights)\n"
   ],
   "id": "20d6a8021724b375",
   "outputs": [],
   "execution_count": 567
  },
  {
   "metadata": {
    "ExecuteTime": {
     "end_time": "2025-03-25T21:14:23.007859Z",
     "start_time": "2025-03-25T21:14:23.004107Z"
    }
   },
   "cell_type": "code",
   "source": [
    "def clean_flight_data(flight_data):\n",
    "    # Remove airline_logo and departure_token from the top-level dictionary\n",
    "    flight_data.pop('departure_token', None)\n",
    "    flight_data.pop('airline_logo', None)\n",
    "\n",
    "    # Iterate through flights and remove airline_logo from each flight\n",
    "    for flight in flight_data.get('flights', []):\n",
    "        flight.pop('airline_logo', None)\n",
    "\n",
    "    return flight_data"
   ],
   "id": "cdda41ed89744611",
   "outputs": [],
   "execution_count": 568
  },
  {
   "metadata": {
    "ExecuteTime": {
     "end_time": "2025-03-25T21:14:23.162910Z",
     "start_time": "2025-03-25T21:14:23.160889Z"
    }
   },
   "cell_type": "code",
   "source": "# get_flight_data(\"BLR\", \"BER\", \"2025-07-20\", \"2025-07-15\")",
   "id": "38c6ea168588569",
   "outputs": [],
   "execution_count": 569
  },
  {
   "metadata": {
    "ExecuteTime": {
     "end_time": "2025-03-25T21:14:23.540764Z",
     "start_time": "2025-03-25T21:14:23.538055Z"
    }
   },
   "cell_type": "code",
   "source": "tools = [get_flight_data]",
   "id": "999e22b02e7b6597",
   "outputs": [],
   "execution_count": 570
  },
  {
   "metadata": {
    "ExecuteTime": {
     "end_time": "2025-03-25T21:14:23.751791Z",
     "start_time": "2025-03-25T21:14:23.749588Z"
    }
   },
   "cell_type": "code",
   "source": "tools_node = ToolNode(tools)",
   "id": "4ca98a43aa36bf59",
   "outputs": [],
   "execution_count": 571
  },
  {
   "metadata": {
    "ExecuteTime": {
     "end_time": "2025-03-25T21:14:23.902540Z",
     "start_time": "2025-03-25T21:14:23.891019Z"
    }
   },
   "cell_type": "code",
   "source": [
    "graph_chatbot_builder = StateGraph(TravelAgent)\n",
    "\n",
    "graph_chatbot_builder.add_node(\"read profile\", read_profile)\n",
    "graph_chatbot_builder.add_node(\"chatbot\", chatbot)\n",
    "graph_chatbot_builder.add_node(\"summarizer and updater\", summarizer_and_updater)\n",
    "graph_chatbot_builder.add_node(\"tools\", tools_node)\n",
    "\n",
    "graph_chatbot_builder.add_edge(START, \"read profile\")\n",
    "graph_chatbot_builder.add_conditional_edges(\"read profile\", check_profiles, [\"chatbot\", END])\n",
    "graph_chatbot_builder.add_conditional_edges(\"chatbot\", route_ai, [\"summarizer and updater\", END])\n",
    "graph_chatbot_builder.add_conditional_edges(\"chatbot\", tools_condition)\n",
    "graph_chatbot_builder.add_edge(\"tools\", \"chatbot\")\n",
    "graph_chatbot_builder.add_edge(\"summarizer and updater\", END)\n",
    "\n",
    "memory = MemorySaver()\n",
    "store = InMemoryStore()\n",
    "graph_chatbot = graph_chatbot_builder.compile(checkpointer=memory, store=in_mem_store, debug=False)"
   ],
   "id": "444c06ec0616cbaa",
   "outputs": [],
   "execution_count": 572
  },
  {
   "metadata": {
    "ExecuteTime": {
     "end_time": "2025-03-25T20:15:13.217438Z",
     "start_time": "2025-03-25T20:15:12.378030Z"
    }
   },
   "cell_type": "code",
   "source": "display(Image(graph_chatbot.get_graph().draw_mermaid_png()))",
   "id": "3ca232ba48150f6e",
   "outputs": [
    {
     "data": {
      "image/png": "[encoded data removed]",
      "text/plain": [
       "<IPython.core.display.Image object>"
      ]
     },
     "metadata": {},
     "output_type": "display_data"
    }
   ],
   "execution_count": 224
  },
  {
   "metadata": {
    "ExecuteTime": {
     "end_time": "2025-03-25T21:09:20.784221Z",
     "start_time": "2025-03-25T21:09:20.781619Z"
    }
   },
   "cell_type": "code",
   "source": "config = {'configurable': {'thread_id': \"chatbot-new-47\", \"user_id\": \"1001\"}}",
   "id": "91ec0850da7f68a9",
   "outputs": [],
   "execution_count": 549
  },
  {
   "metadata": {
    "ExecuteTime": {
     "end_time": "2025-03-25T21:12:47.636052Z",
     "start_time": "2025-03-25T21:12:13.835994Z"
    }
   },
   "cell_type": "code",
   "source": [
    "# for _ in range(3):\n",
    "user_input = input()\n",
    "test = graph_chatbot.invoke({\"prompt\": user_input, \"messages\": [(\"human\", user_input)]}, config=config)\n",
    "    # print(test['output'])"
   ],
   "id": "ac12e888a16f3322",
   "outputs": [
    {
     "name": "stdout",
     "output_type": "stream",
     "text": [
      "3\n",
      "3\n",
      "3\n",
      "3\n",
      "3\n",
      "3\n",
      "3\n",
      "3\n",
      "3\n",
      "3\n",
      "3\n",
      "3\n"
     ]
    },
    {
     "ename": "GraphRecursionError",
     "evalue": "Recursion limit of 25 reached without hitting a stop condition. You can increase the limit by setting the `recursion_limit` config key.\nFor troubleshooting, visit: https://python.langchain.com/docs/troubleshooting/errors/GRAPH_RECURSION_LIMIT",
     "output_type": "error",
     "traceback": [
      "\u001B[31m---------------------------------------------------------------------------\u001B[39m",
      "\u001B[31mGraphRecursionError\u001B[39m                       Traceback (most recent call last)",
      "\u001B[36mCell\u001B[39m\u001B[36m \u001B[39m\u001B[32mIn[562]\u001B[39m\u001B[32m, line 3\u001B[39m\n\u001B[32m      1\u001B[39m \u001B[38;5;66;03m# for _ in range(3):\u001B[39;00m\n\u001B[32m      2\u001B[39m user_input = \u001B[38;5;28minput\u001B[39m()\n\u001B[32m----> \u001B[39m\u001B[32m3\u001B[39m test = \u001B[43mgraph_chatbot\u001B[49m\u001B[43m.\u001B[49m\u001B[43minvoke\u001B[49m\u001B[43m(\u001B[49m\u001B[43m{\u001B[49m\u001B[33;43m\"\u001B[39;49m\u001B[33;43mprompt\u001B[39;49m\u001B[33;43m\"\u001B[39;49m\u001B[43m:\u001B[49m\u001B[43m \u001B[49m\u001B[43muser_input\u001B[49m\u001B[43m,\u001B[49m\u001B[43m \u001B[49m\u001B[33;43m\"\u001B[39;49m\u001B[33;43mmessages\u001B[39;49m\u001B[33;43m\"\u001B[39;49m\u001B[43m:\u001B[49m\u001B[43m \u001B[49m\u001B[43m[\u001B[49m\u001B[43m(\u001B[49m\u001B[33;43m\"\u001B[39;49m\u001B[33;43mhuman\u001B[39;49m\u001B[33;43m\"\u001B[39;49m\u001B[43m,\u001B[49m\u001B[43m \u001B[49m\u001B[43muser_input\u001B[49m\u001B[43m)\u001B[49m\u001B[43m]\u001B[49m\u001B[43m}\u001B[49m\u001B[43m,\u001B[49m\u001B[43m \u001B[49m\u001B[43mconfig\u001B[49m\u001B[43m=\u001B[49m\u001B[43mconfig\u001B[49m\u001B[43m)\u001B[49m\n\u001B[32m      4\u001B[39m     \u001B[38;5;66;03m# print(test['output'])\u001B[39;00m\n",
      "\u001B[36mFile \u001B[39m\u001B[32m~/PycharmProjects/TravelAgent/.venv/lib/python3.12/site-packages/langgraph/pregel/__init__.py:2669\u001B[39m, in \u001B[36mPregel.invoke\u001B[39m\u001B[34m(self, input, config, stream_mode, output_keys, interrupt_before, interrupt_after, debug, **kwargs)\u001B[39m\n\u001B[32m   2667\u001B[39m \u001B[38;5;28;01melse\u001B[39;00m:\n\u001B[32m   2668\u001B[39m     chunks = []\n\u001B[32m-> \u001B[39m\u001B[32m2669\u001B[39m \u001B[43m\u001B[49m\u001B[38;5;28;43;01mfor\u001B[39;49;00m\u001B[43m \u001B[49m\u001B[43mchunk\u001B[49m\u001B[43m \u001B[49m\u001B[38;5;129;43;01min\u001B[39;49;00m\u001B[43m \u001B[49m\u001B[38;5;28;43mself\u001B[39;49m\u001B[43m.\u001B[49m\u001B[43mstream\u001B[49m\u001B[43m(\u001B[49m\n\u001B[32m   2670\u001B[39m \u001B[43m    \u001B[49m\u001B[38;5;28;43minput\u001B[39;49m\u001B[43m,\u001B[49m\n\u001B[32m   2671\u001B[39m \u001B[43m    \u001B[49m\u001B[43mconfig\u001B[49m\u001B[43m,\u001B[49m\n\u001B[32m   2672\u001B[39m \u001B[43m    \u001B[49m\u001B[43mstream_mode\u001B[49m\u001B[43m=\u001B[49m\u001B[43mstream_mode\u001B[49m\u001B[43m,\u001B[49m\n\u001B[32m   2673\u001B[39m \u001B[43m    \u001B[49m\u001B[43moutput_keys\u001B[49m\u001B[43m=\u001B[49m\u001B[43moutput_keys\u001B[49m\u001B[43m,\u001B[49m\n\u001B[32m   2674\u001B[39m \u001B[43m    \u001B[49m\u001B[43minterrupt_before\u001B[49m\u001B[43m=\u001B[49m\u001B[43minterrupt_before\u001B[49m\u001B[43m,\u001B[49m\n\u001B[32m   2675\u001B[39m \u001B[43m    \u001B[49m\u001B[43minterrupt_after\u001B[49m\u001B[43m=\u001B[49m\u001B[43minterrupt_after\u001B[49m\u001B[43m,\u001B[49m\n\u001B[32m   2676\u001B[39m \u001B[43m    \u001B[49m\u001B[43mdebug\u001B[49m\u001B[43m=\u001B[49m\u001B[43mdebug\u001B[49m\u001B[43m,\u001B[49m\n\u001B[32m   2677\u001B[39m \u001B[43m    \u001B[49m\u001B[43m*\u001B[49m\u001B[43m*\u001B[49m\u001B[43mkwargs\u001B[49m\u001B[43m,\u001B[49m\n\u001B[32m   2678\u001B[39m \u001B[43m\u001B[49m\u001B[43m)\u001B[49m\u001B[43m:\u001B[49m\n\u001B[32m   2679\u001B[39m \u001B[43m    \u001B[49m\u001B[38;5;28;43;01mif\u001B[39;49;00m\u001B[43m \u001B[49m\u001B[43mstream_mode\u001B[49m\u001B[43m \u001B[49m\u001B[43m==\u001B[49m\u001B[43m \u001B[49m\u001B[33;43m\"\u001B[39;49m\u001B[33;43mvalues\u001B[39;49m\u001B[33;43m\"\u001B[39;49m\u001B[43m:\u001B[49m\n\u001B[32m   2680\u001B[39m \u001B[43m        \u001B[49m\u001B[43mlatest\u001B[49m\u001B[43m \u001B[49m\u001B[43m=\u001B[49m\u001B[43m \u001B[49m\u001B[43mchunk\u001B[49m\n",
      "\u001B[36mFile \u001B[39m\u001B[32m~/PycharmProjects/TravelAgent/.venv/lib/python3.12/site-packages/langgraph/pregel/__init__.py:2343\u001B[39m, in \u001B[36mPregel.stream\u001B[39m\u001B[34m(self, input, config, stream_mode, output_keys, interrupt_before, interrupt_after, debug, subgraphs)\u001B[39m\n\u001B[32m   2334\u001B[39m \u001B[38;5;28;01mif\u001B[39;00m loop.status == \u001B[33m\"\u001B[39m\u001B[33mout_of_steps\u001B[39m\u001B[33m\"\u001B[39m:\n\u001B[32m   2335\u001B[39m     msg = create_error_message(\n\u001B[32m   2336\u001B[39m         message=(\n\u001B[32m   2337\u001B[39m             \u001B[33mf\u001B[39m\u001B[33m\"\u001B[39m\u001B[33mRecursion limit of \u001B[39m\u001B[38;5;132;01m{\u001B[39;00mconfig[\u001B[33m'\u001B[39m\u001B[33mrecursion_limit\u001B[39m\u001B[33m'\u001B[39m]\u001B[38;5;132;01m}\u001B[39;00m\u001B[33m reached \u001B[39m\u001B[33m\"\u001B[39m\n\u001B[32m   (...)\u001B[39m\u001B[32m   2341\u001B[39m         error_code=ErrorCode.GRAPH_RECURSION_LIMIT,\n\u001B[32m   2342\u001B[39m     )\n\u001B[32m-> \u001B[39m\u001B[32m2343\u001B[39m     \u001B[38;5;28;01mraise\u001B[39;00m GraphRecursionError(msg)\n\u001B[32m   2344\u001B[39m \u001B[38;5;66;03m# set final channel values as run output\u001B[39;00m\n\u001B[32m   2345\u001B[39m run_manager.on_chain_end(loop.output)\n",
      "\u001B[31mGraphRecursionError\u001B[39m: Recursion limit of 25 reached without hitting a stop condition. You can increase the limit by setting the `recursion_limit` config key.\nFor troubleshooting, visit: https://python.langchain.com/docs/troubleshooting/errors/GRAPH_RECURSION_LIMIT"
     ]
    }
   ],
   "execution_count": 562
  },
  {
   "metadata": {
    "ExecuteTime": {
     "end_time": "2025-03-25T21:12:47.681157924Z",
     "start_time": "2025-03-25T21:12:06.810632Z"
    }
   },
   "cell_type": "code",
   "source": "print(test['output'])",
   "id": "6e29e5c64e08fb9e",
   "outputs": [
    {
     "name": "stdout",
     "output_type": "stream",
     "text": [
      "It seems there was an error in fetching the flight data. Could you please specify the exact city in California you would like to fly to, such as Los Angeles (LAX) or San Francisco (SFO)? This will help me provide the most accurate flight details for you.\n"
     ]
    }
   ],
   "execution_count": 561
  },
  {
   "metadata": {},
   "cell_type": "code",
   "outputs": [],
   "execution_count": null,
   "source": "",
   "id": "c179b0ac21a36d2a"
  }
 ],
 "metadata": {
  "kernelspec": {
   "display_name": "Python 3",
   "language": "python",
   "name": "python3"
  },
  "language_info": {
   "codemirror_mode": {
    "name": "ipython",
    "version": 2
   },
   "file_extension": ".py",
   "mimetype": "text/x-python",
   "name": "python",
   "nbconvert_exporter": "python",
   "pygments_lexer": "ipython2",
   "version": "2.7.6"
  }
 },
 "nbformat": 4,
 "nbformat_minor": 5
}
