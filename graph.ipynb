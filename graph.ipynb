{
 "cells": [
  {
   "cell_type": "code",
   "execution_count": 45,
   "metadata": {},
   "outputs": [],
   "source": [
    "import requests\n",
    "import os\n",
    "from typing import TypedDict, List, Dict, Optional\n",
    "from langgraph.graph import StateGraph, END\n",
    "from langchain_core.runnables.config import RunnableConfig\n",
    "from langchain_core.messages import SystemMessage, HumanMessage, AIMessage, RemoveMessage, ToolMessage\n",
    "from langgraph.store.base import BaseStore\n",
    "from langgraph.checkpoint.memory import MemorySaver\n",
    "from langgraph.store.memory import InMemoryStore\n",
    "from typing_extensions import Annotated\n",
    "from IPython.display import Markdown, Image, display\n",
    "from dotenv import dotenv_values\n"
   ]
  },
  {
   "cell_type": "code",
   "execution_count": 46,
   "metadata": {},
   "outputs": [],
   "source": [
    "from typing_extensions import Annotated\n",
    "\n",
    "def merge_lists(left: list | None, right: list | None) -> list:\n",
    "    \"\"\"Safely merge two lists, even if one is None.\"\"\"\n",
    "    return (left or []) + (right or [])\n",
    "\n",
    "class TravelGraphState(TypedDict):\n",
    "    flight_status: Annotated[list[dict], merge_lists]  \n",
    "    hotel_status: Annotated[list[dict], merge_lists]   \n",
    "    booking_status: Annotated[list[dict], merge_lists] \n",
    "    weather_status: Annotated[list[dict], merge_lists] \n",
    "    memory: Annotated[list[str], merge_lists]         \n"
   ]
  },
  {
   "cell_type": "code",
   "execution_count": null,
   "metadata": {},
   "outputs": [],
   "source": [
    "\n",
    "\n",
    "\n",
    "def fetch_flight_status(state: TravelGraphState) -> TravelGraphState:\n",
    "    \"\"\"Simulate fetching flight status.\"\"\"\n",
    "    state[\"flight_status\"] = [{\"flight\": \"AI-202\", \"status\": \"Delayed\"}]\n",
    "    return state\n",
    "\n",
    "def fetch_hotel_availability(state: TravelGraphState) -> TravelGraphState:\n",
    "    \"\"\"Simulate fetching hotel availability.\"\"\"\n",
    "    state[\"hotel_status\"] = [{\"hotel\": \"Hilton\", \"status\": \"Fully Booked\"}]\n",
    "    return state\n",
    "\n",
    "def fetch_booking_status(state: TravelGraphState) -> TravelGraphState:\n",
    "    \"\"\"Simulate fetching booking status.\"\"\"\n",
    "    state[\"booking_status\"] = [{\"reference\": \"BKG-12345\", \"status\": \"Cancelled\"}]\n",
    "    return state\n",
    "\n",
    "\n",
    "def fetch_weather_status(state: TravelGraphState) -> TravelGraphState:\n",
    "    \"\"\"Fetch weather information using an API and update the state.\"\"\"\n",
    "    city = state.get(\"city\", \"Bangalore\")  \n",
    "    API_KEY = env_values['WEATHERAPI_KEY']\n",
    "\n",
    "    if not API_KEY:\n",
    "        state[\"weather_status\"] = [{\"city\": city, \"condition\": \"Unknown\", \"temperature\": \"N/A\"}]\n",
    "        return state\n",
    "\n",
    "    URL = f\"http://api.weatherapi.com/v1/current.json?key={API_KEY}&q={city}&aqi=no\"\n",
    "    response = requests.get(URL)\n",
    "\n",
    "    if response.status_code == 200:\n",
    "        data = response.json()\n",
    "        state[\"weather_status\"] = [{\n",
    "            \"city\": city,\n",
    "            \"condition\": data[\"current\"][\"condition\"][\"text\"],\n",
    "            \"temperature\": data[\"current\"][\"temp_c\"],\n",
    "        }]\n",
    "    else:\n",
    "        state[\"weather_status\"] = [{\"city\": city, \"condition\": \"Unknown\", \"temperature\": \"N/A\"}]\n",
    "\n",
    "    return state\n",
    "\n"
   ]
  },
  {
   "cell_type": "code",
   "execution_count": 48,
   "metadata": {},
   "outputs": [],
   "source": [
    "def store_memory(state: TravelGraphState, store: BaseStore, config: RunnableConfig) -> TravelGraphState:\n",
    "    user_id = config.get(\"configurable\", {}).get(\"user_id\", \"default_user\")  \n",
    "    namespace = (\"memory\", user_id)\n",
    "  \n",
    "    memory_updates = []  \n",
    "\n",
    "    for flight in state.get(\"flight_status\", []):\n",
    "        if flight.get(\"status\") in [\"Delayed\", \"Cancelled\"]:\n",
    "            alert = f\"{flight['status']} - {flight['flight']}\"\n",
    "            store.put(namespace, \"Flight Alert\", alert)\n",
    "            memory_updates.append(alert)\n",
    "\n",
    "    for booking in state.get(\"booking_status\", []):\n",
    "        if booking.get(\"status\") == \"Cancelled\":\n",
    "            alert = f\"{booking['reference']} was cancelled!\"\n",
    "            store.put(namespace, \"Booking Alert\", alert)\n",
    "            memory_updates.append(alert)\n",
    "\n",
    "    for hotel in state.get(\"hotel_status\", []):\n",
    "        if hotel.get(\"status\") == \"Fully Booked\":\n",
    "            alert = f\"{hotel['hotel']} has no available rooms!\"\n",
    "            store.put(namespace, \"Hotel Alert\", alert)\n",
    "            memory_updates.append(alert)\n",
    "\n",
    "    for weather in state.get(\"weather_status\", []):\n",
    "        if weather.get(\"condition\") in [\"Thunderstorm\", \"Heavy Rain\", \"Extreme Heat\"]:\n",
    "            alert = f\"Severe weather in {weather['city']}: {weather['condition']}\"\n",
    "            store.put(namespace, \"Weather Alert\", alert)\n",
    "            memory_updates.append(alert)\n",
    "\n",
    "    state[\"memory\"] = merge_lists(state.get(\"memory\", []), memory_updates)\n",
    "    return state\n"
   ]
  },
  {
   "cell_type": "code",
   "execution_count": 49,
   "metadata": {},
   "outputs": [],
   "source": [
    "class TravelAlertAgent:\n",
    "    def __init__(self):\n",
    "        builder = StateGraph(TravelGraphState)\n",
    "        self.store = InMemoryStore() \n",
    "\n",
    "        builder.add_node(\"start\", lambda state: state)\n",
    "        builder.add_node(\"fetch_flight_status\", fetch_flight_status)\n",
    "        builder.add_node(\"fetch_hotel_availability\", fetch_hotel_availability)\n",
    "        builder.add_node(\"fetch_booking_status\", fetch_booking_status)\n",
    "        builder.add_node(\"fetch_weather_status\", fetch_weather_status)\n",
    "\n",
    "       \n",
    "        builder.add_node(\"memory_store\", lambda state, config: store_memory(state, agent.store, config))\n",
    "\n",
    "\n",
    "        builder.set_entry_point(\"start\")\n",
    "\n",
    "        builder.add_edge(\"start\", \"fetch_flight_status\")\n",
    "        builder.add_edge(\"start\", \"fetch_hotel_availability\")\n",
    "        builder.add_edge(\"start\", \"fetch_booking_status\")\n",
    "        builder.add_edge(\"start\", \"fetch_weather_status\")\n",
    "\n",
    "        builder.add_edge(\"fetch_flight_status\", \"memory_store\")\n",
    "        builder.add_edge(\"fetch_hotel_availability\", \"memory_store\")\n",
    "        builder.add_edge(\"fetch_booking_status\", \"memory_store\")\n",
    "        builder.add_edge(\"fetch_weather_status\", \"memory_store\")\n",
    "        builder.add_edge(\"memory_store\", END)\n",
    "\n",
    "        self.graph = builder.compile()\n",
    "\n",
    "    def run(self):\n",
    "        initial_state = {\n",
    "            \"flight_status\": [],\n",
    "            \"hotel_status\": [],\n",
    "            \"booking_status\": [],\n",
    "            \"weather_status\": [],\n",
    "            \"city\": \"Bangalore\",\n",
    "        }\n",
    "        config = {\"configurable\": {\"user_id\": \"user_123\"}}  \n",
    "\n",
    "        final_state = self.graph.invoke(initial_state, config=config)  \n",
    "        return final_state\n"
   ]
  },
  {
   "cell_type": "code",
   "execution_count": 50,
   "metadata": {},
   "outputs": [
    {
     "data": {
      "image/png": "[encoded data removed]",
      "text/plain": [
       "<IPython.core.display.Image object>"
      ]
     },
     "metadata": {},
     "output_type": "display_data"
    }
   ],
   "source": [
    "memory = MemorySaver()\n",
    "agent=TravelAlertAgent()\n",
    "display(Image(agent.graph.get_graph().draw_mermaid_png()))"
   ]
  },
  {
   "cell_type": "code",
   "execution_count": 51,
   "metadata": {},
   "outputs": [
    {
     "name": "stdout",
     "output_type": "stream",
     "text": [
      "{'flight_status': [{'flight': 'AI-202', 'status': 'Delayed'}, {'flight': 'AI-202', 'status': 'Delayed'}], 'hotel_status': [{'hotel': 'Hilton', 'status': 'Fully Booked'}, {'hotel': 'Hilton', 'status': 'Fully Booked'}], 'booking_status': [{'reference': 'BKG-12345', 'status': 'Cancelled'}, {'reference': 'BKG-12345', 'status': 'Cancelled'}], 'weather_status': [{'city': 'Bangalore', 'condition': 'Partly cloudy', 'temperature': 34.4}, {'city': 'Bangalore', 'condition': 'Partly cloudy', 'temperature': 34.4}], 'memory': ['Delayed - AI-202', 'BKG-12345 was cancelled!', 'Hilton has no available rooms!']}\n"
     ]
    }
   ],
   "source": [
    "agent = TravelAlertAgent()\n",
    "result = agent.run()\n",
    "print(result)"
   ]
  }
 ],
 "metadata": {
  "kernelspec": {
   "display_name": "Python 3",
   "language": "python",
   "name": "python3"
  },
  "language_info": {
   "codemirror_mode": {
    "name": "ipython",
    "version": 3
   },
   "file_extension": ".py",
   "mimetype": "text/x-python",
   "name": "python",
   "nbconvert_exporter": "python",
   "pygments_lexer": "ipython3",
   "version": "3.11.4"
  }
 },
 "nbformat": 4,
 "nbformat_minor": 2
}
